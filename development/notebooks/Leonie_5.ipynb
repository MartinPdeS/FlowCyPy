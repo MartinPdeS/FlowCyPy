{
 "cells": [
  {
   "cell_type": "markdown",
   "id": "6f439ad8-ead5-4ca1-a58e-10d3f96373d2",
   "metadata": {},
   "source": [
    "Step 01: Correct beads signal median\n",
    "-------\n",
    "\n",
    "\\begin{align}\n",
    " S_{p, i} &= \\left( \\text{Median}_{bead, i} - \\text{Median}_{back.} \\right)\\\\[20pt]\n",
    " \\text{rCV}_{corr, i} &= \\frac{\\text{rSD}_{bead, i}}{S_{p, i}}\n",
    "\\end{align}\n",
    "\n",
    "\n",
    "Step 02: Isolate the photon‑noise CV\n",
    "-------\n",
    "\n",
    "\\begin{align}\n",
    " \\text{CV}_{p, phot, i} = \\sqrt{\\left( \\text{rCV}_{corr, i} \\right)^2 - \\left( \\text{rCV}_{bright} \\right)^2}\n",
    "\\end{align}\n",
    "\n",
    "Step 03: Fit J\n",
    "-------\n",
    "\n",
    "\\begin{align}\n",
    " \\text{CV}_{p, phot, i} = \\frac{J}{\\sqrt{S_{p, i}}}\n",
    "\\end{align}\n",
    "\n",
    "Step 04: Fit K\n",
    "-------\n",
    "\n",
    "\\begin{align}\n",
    " \\sigma_{s, i} = K S_{p, i}\n",
    "\\end{align}"
   ]
  },
  {
   "cell_type": "markdown",
   "id": "458f2e8d-9da1-4b63-809b-db3a27584fba",
   "metadata": {},
   "source": [
    "Imports\n",
    "-------"
   ]
  },
  {
   "cell_type": "code",
   "execution_count": 1,
   "id": "094058e7-de6d-4f31-9457-aad2a76cfac9",
   "metadata": {},
   "outputs": [],
   "source": [
    "# %matplotlib inline\n",
    "%matplotlib widget\n",
    "import numpy as np\n",
    "import pandas as pd\n",
    "import matplotlib.pyplot as plt\n",
    "from FlowCyPy import units\n",
    "from FlowCyPy import NoiseSetting\n",
    "from FlowCyPy.dev import get_scatterer_metrics, get_trigger_metrics, get_acquisition_analog_metrics, get_acquisition_digital_metrics, get_trigger_signals, plot_with_fit\n",
    "from FlowCyPy import circuits\n",
    "from MPSPlots.styles import mps"
   ]
  },
  {
   "cell_type": "markdown",
   "id": "1e3068fe-965c-4c44-a0f8-65b5062e1428",
   "metadata": {},
   "source": [
    "Settings\n",
    "--------"
   ]
  },
  {
   "cell_type": "code",
   "execution_count": 2,
   "id": "e69464df-f7f4-4fdf-8b67-385f5074989f",
   "metadata": {},
   "outputs": [],
   "source": [
    "NoiseSetting.include_noises = True\n",
    "NoiseSetting.include_shot_noise = True\n",
    "NoiseSetting.include_amplifier_noise = False\n",
    "NoiseSetting.include_source_noise = False\n",
    "NoiseSetting.include_dark_current_noise = False\n",
    "\n",
    "NoiseSetting.assume_perfect_hydrodynamic_focusing = True\n",
    "\n",
    "kwargs = dict(\n",
    "    bit_depth='25bit',\n",
    "    saturation_levels = (0 * units.volt, 5 * units.volt),\n",
    "    processing_steps=[],\n",
    "    background_fraction=0.0001,\n",
    "    particle_count=100,\n",
    "    optical_power=100 * units.milliwatt,\n",
    "    run_time = 6 * units.millisecond\n",
    ")"
   ]
  },
  {
   "cell_type": "code",
   "execution_count": null,
   "id": "426b3f4d-2227-44c2-a2b7-43d68c064b49",
   "metadata": {},
   "outputs": [
    {
     "name": "stdout",
     "output_type": "stream",
     "text": [
      "Simulating configuration Delta(position=300.000 nm), background_power = 0.01 mW, optical_power = 100 mW, run_time = 6 ms, bit_depth = '25bit', saturation_levels = (<Quantity(0, 'volt')>, <Quantity(5, 'volt')>)\n",
      "Simulating configuration Delta(position=364.286 nm), background_power = 0.01 mW, optical_power = 100 mW, run_time = 6 ms, bit_depth = '25bit', saturation_levels = (<Quantity(0, 'volt')>, <Quantity(5, 'volt')>)\n",
      "Simulating configuration Delta(position=428.571 nm), background_power = 0.01 mW, optical_power = 100 mW, run_time = 6 ms, bit_depth = '25bit', saturation_levels = (<Quantity(0, 'volt')>, <Quantity(5, 'volt')>)\n",
      "Simulating configuration Delta(position=492.857 nm), background_power = 0.01 mW, optical_power = 100 mW, run_time = 6 ms, bit_depth = '25bit', saturation_levels = (<Quantity(0, 'volt')>, <Quantity(5, 'volt')>)\n",
      "Simulating configuration Delta(position=557.143 nm), background_power = 0.01 mW, optical_power = 100 mW, run_time = 6 ms, bit_depth = '25bit', saturation_levels = (<Quantity(0, 'volt')>, <Quantity(5, 'volt')>)\n",
      "Simulating configuration Delta(position=621.429 nm), background_power = 0.01 mW, optical_power = 100 mW, run_time = 6 ms, bit_depth = '25bit', saturation_levels = (<Quantity(0, 'volt')>, <Quantity(5, 'volt')>)\n",
      "Simulating configuration Delta(position=685.714 nm), background_power = 0.01 mW, optical_power = 100 mW, run_time = 6 ms, bit_depth = '25bit', saturation_levels = (<Quantity(0, 'volt')>, <Quantity(5, 'volt')>)\n",
      "Simulating configuration Delta(position=750.000 nm), background_power = 0.01 mW, optical_power = 100 mW, run_time = 6 ms, bit_depth = '25bit', saturation_levels = (<Quantity(0, 'volt')>, <Quantity(5, 'volt')>)\n",
      "Simulating configuration Delta(position=814.286 nm), background_power = 0.01 mW, optical_power = 100 mW, run_time = 6 ms, bit_depth = '25bit', saturation_levels = (<Quantity(0, 'volt')>, <Quantity(5, 'volt')>)\n",
      "Simulating configuration Delta(position=878.571 nm), background_power = 0.01 mW, optical_power = 100 mW, run_time = 6 ms, bit_depth = '25bit', saturation_levels = (<Quantity(0, 'volt')>, <Quantity(5, 'volt')>)\n",
      "Simulating configuration Delta(position=942.857 nm), background_power = 0.01 mW, optical_power = 100 mW, run_time = 6 ms, bit_depth = '25bit', saturation_levels = (<Quantity(0, 'volt')>, <Quantity(5, 'volt')>)\n",
      "Simulating configuration Delta(position=1007.143 nm), background_power = 0.01 mW, optical_power = 100 mW, run_time = 6 ms, bit_depth = '25bit', saturation_levels = (<Quantity(0, 'volt')>, <Quantity(5, 'volt')>)\n",
      "Simulating configuration Delta(position=1071.429 nm), background_power = 0.01 mW, optical_power = 100 mW, run_time = 6 ms, bit_depth = '25bit', saturation_levels = (<Quantity(0, 'volt')>, <Quantity(5, 'volt')>)\n",
      "Simulating configuration Delta(position=1135.714 nm), background_power = 0.01 mW, optical_power = 100 mW, run_time = 6 ms, bit_depth = '25bit', saturation_levels = (<Quantity(0, 'volt')>, <Quantity(5, 'volt')>)\n"
     ]
    }
   ],
   "source": [
    "plt.close('all')\n",
    "N_elements = 15\n",
    "diameter_list = np.linspace(300, 1200, N_elements) * units.nanometer\n",
    "index_list = np.ones(N_elements) * 1.44 * units.RIU\n",
    "\n",
    "beads_df = get_trigger_signals(\n",
    "    diameter_list=diameter_list[:],\n",
    "    index_list=index_list[:],\n",
    "    threshold='4 sigma',\n",
    "    **kwargs,\n",
    "    # plot_analog=True,\n",
    "    # plot_trigger=True\n",
    ")\n",
    "\n",
    "background_df = get_acquisition_digital_metrics(\n",
    "    diameter_list=[None],\n",
    "    index_list=[None],\n",
    "    **kwargs,\n",
    ")"
   ]
  },
  {
   "cell_type": "code",
   "execution_count": null,
   "id": "a00fcbb3-4c3e-4160-9c91-a6f61154f076",
   "metadata": {},
   "outputs": [],
   "source": []
  },
  {
   "cell_type": "code",
   "execution_count": null,
   "id": "f59e5956-04c0-4cfa-9bed-9701e6672406",
   "metadata": {},
   "outputs": [],
   "source": [
    "def get_rSD(array):\n",
    "    return (np.percentile(array, 84.13) - np.percentile(array, 15.87) ) / 2\n",
    "\n",
    "optical_power = 100\n",
    "background_power = 0.01\n",
    "\n",
    "background_median = background_df[background_df.BackgroundPower == background_power]['Median'].values[0]\n",
    "\n",
    "S_measured = beads_df['Height'].to_frame()\n",
    "\n",
    "S_corrected = S_measured - background_median\n",
    "\n",
    "metrics = pd.DataFrame().astype(float)\n",
    "\n",
    "metrics['Csca'] = beads_df['Csca'].groupby('Diameter').mean()\n",
    "metrics['DetectorPower'] = beads_df['DetectorPower'].groupby('Diameter').mean()\n",
    "\n",
    "metrics['rSD'] = S_corrected.groupby('Diameter').apply(get_rSD)\n",
    "\n",
    "metrics['Median'] = S_corrected.groupby('Diameter').apply('median')\n",
    "\n",
    "metrics['rCV'] = metrics['rSD'] / metrics['Median']\n",
    "\n",
    "metrics = metrics.astype(float)\n",
    "metrics['InvSqrtMedian'] = 1 / (np.sqrt(metrics['Median'].values))\n",
    "\n",
    "metrics = metrics.reset_index()"
   ]
  },
  {
   "cell_type": "code",
   "execution_count": null,
   "id": "231d4399-8d56-4914-b4e1-4971cb13c180",
   "metadata": {},
   "outputs": [],
   "source": [
    "from MPSPlots.styles import mps\n",
    "\n",
    "\n",
    "with plt.style.context(mps):\n",
    "    figure, ax = plt.subplots(1, 2, figsize=(15, 5))\n",
    "    \n",
    "    _, J = plot_with_fit(\n",
    "        ax=ax[0],\n",
    "        x=metrics['InvSqrtMedian'],\n",
    "        y=metrics['rCV'],\n",
    "        degrees=[1],\n",
    "        strict_degree=True,\n",
    "        ylabel='Robust coeffcicient of variation',\n",
    "        xlabel=r'(Median)$^{-0.5}$'\n",
    "    )\n",
    "    \n",
    "    \n",
    "    _, K = plot_with_fit(\n",
    "        ax=ax[1],\n",
    "        x=metrics['Median'],\n",
    "        y=metrics['Csca'],\n",
    "        degrees=[1],\n",
    "        strict_degree=True,\n",
    "        ylabel='Signal Median',\n",
    "        xlabel=r'Scattering cross-section [nm$^2$]'\n",
    "    )\n",
    "\n",
    "Q = 1 / (K * J * J)\n",
    "\n",
    "Q"
   ]
  },
  {
   "cell_type": "markdown",
   "id": "8c26b1b0-e017-4eda-b986-ba3734be46c7",
   "metadata": {},
   "source": [
    "$$\n",
    "    S_p = \\text{Median}_{bead} - \\text{Median}_{back}\n",
    "$$"
   ]
  },
  {
   "cell_type": "markdown",
   "id": "2cd302c0-ea5b-4b15-8210-c949fe4ae54c",
   "metadata": {},
   "source": [
    "$$\n",
    "  \\text{rSD} = \\frac{P_{84.13} - P_{15.87}}{2}\n",
    "$$"
   ]
  },
  {
   "cell_type": "code",
   "execution_count": null,
   "id": "7e303c87-0cd4-4b5c-a6c4-864f4e5fafff",
   "metadata": {},
   "outputs": [],
   "source": []
  },
  {
   "cell_type": "code",
   "execution_count": null,
   "id": "dd5a1540-e410-4fb6-b9d1-dd0b5be1841b",
   "metadata": {},
   "outputs": [],
   "source": []
  },
  {
   "cell_type": "code",
   "execution_count": null,
   "id": "8001090b-c10b-4fdf-9cca-24f2ae163b59",
   "metadata": {},
   "outputs": [],
   "source": []
  },
  {
   "cell_type": "code",
   "execution_count": null,
   "id": "784bab70-cd22-4ece-b7df-7918687da0f7",
   "metadata": {},
   "outputs": [],
   "source": []
  },
  {
   "cell_type": "code",
   "execution_count": null,
   "id": "3a3a1f8b-20f8-47b3-a3d3-72e78d669adc",
   "metadata": {},
   "outputs": [],
   "source": []
  },
  {
   "cell_type": "code",
   "execution_count": null,
   "id": "df951ed5-826b-4308-81e4-92f867398bda",
   "metadata": {},
   "outputs": [],
   "source": []
  },
  {
   "cell_type": "code",
   "execution_count": null,
   "id": "ad126812-96b7-4d18-a670-40a819bd1bdb",
   "metadata": {},
   "outputs": [],
   "source": []
  },
  {
   "cell_type": "code",
   "execution_count": null,
   "id": "329db64e-5808-4bd8-a9d8-53541d1bbe4b",
   "metadata": {},
   "outputs": [],
   "source": []
  },
  {
   "cell_type": "code",
   "execution_count": 97,
   "id": "f34ce582-384a-4102-ad3e-016cfdc46485",
   "metadata": {},
   "outputs": [
    {
     "data": {
      "text/html": [
       "4883.337394511809 1/nm<sup>2</sup>"
      ],
      "text/latex": [
       "$4883.337394511809\\ \\frac{1}{\\mathrm{nm}^{2}}$"
      ],
      "text/plain": [
       "<Quantity(4883.33739, '1 / nanometer ** 2')>"
      ]
     },
     "execution_count": 97,
     "metadata": {},
     "output_type": "execute_result"
    }
   ],
   "source": [
    "from FlowCyPy.physical_constant import PhysicalConstant\n",
    "\n",
    "diameter = diameter_list[0].magnitude\n",
    "\n",
    "P_det = beads_df.loc[(diameter, 0), 'DetectorPower'] * units.milliwatt\n",
    "Csca = beads_df.loc[(diameter, 0), 'Csca'] * units.nanometer ** 2\n",
    "\n",
    "\n",
    "responsivity = 1 * units.ampere / units.watt\n",
    "sampling_rate = 60 * units.megahertz\n",
    "dt = 1 / sampling_rate\n",
    "\n",
    "\n",
    "N_pe = (responsivity * P_det * dt / PhysicalConstant.e).to('dimensionless')\n",
    "Q_ = N_pe / Csca\n",
    "Q_"
   ]
  },
  {
   "cell_type": "code",
   "execution_count": 26,
   "id": "51ccb956-9592-48d8-8d39-e62ccd3f7c98",
   "metadata": {},
   "outputs": [
    {
     "data": {
      "application/vnd.jupyter.widget-view+json": {
       "model_id": "8a3654428d7d469f97366e0e2b94ccce",
       "version_major": 2,
       "version_minor": 0
      },
      "image/png": "[encoded data removed]",
      "text/html": [
       "\n",
       "            <div style=\"display: inline-block;\">\n",
       "                <div class=\"jupyter-widgets widget-label\" style=\"text-align: center;\">\n",
       "                    Figure\n",
       "                </div>\n",
       "                <img src='data:image/png;base64,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' width=640.0/>\n",
       "            </div>\n",
       "        "
      ],
      "text/plain": [
       "Canvas(toolbar=Toolbar(toolitems=[('Home', 'Reset original view', 'home', 'home'), ('Back', 'Back to previous …"
      ]
     },
     "metadata": {},
     "output_type": "display_data"
    }
   ],
   "source": [
    "figure, ax = plt.subplots(1, 1)\n",
    "_df = beads_df.groupby('Diameter').mean()\n",
    "\n",
    "x = _df['DetectorPower'].values\n",
    "y = _df['Csca'].values\n",
    "\n",
    "ax.plot(diameter_list, x)\n",
    "\n",
    "twin_ax = ax.twinx()\n",
    "twin_ax.plot(diameter_list, y)\n",
    "\n",
    "# ax.set_aspect('equal')\n",
    "ax.grid()\n",
    "plt.show()"
   ]
  },
  {
   "cell_type": "code",
   "execution_count": 21,
   "id": "f1d7015f-2992-4873-9f63-c9ae8a43a1ff",
   "metadata": {},
   "outputs": [
    {
     "data": {
      "text/html": [
       "<div>\n",
       "<style scoped>\n",
       "    .dataframe tbody tr th:only-of-type {\n",
       "        vertical-align: middle;\n",
       "    }\n",
       "\n",
       "    .dataframe tbody tr th {\n",
       "        vertical-align: top;\n",
       "    }\n",
       "\n",
       "    .dataframe thead th {\n",
       "        text-align: right;\n",
       "    }\n",
       "</style>\n",
       "<table border=\"1\" class=\"dataframe\">\n",
       "  <thead>\n",
       "    <tr style=\"text-align: right;\">\n",
       "      <th></th>\n",
       "      <th></th>\n",
       "      <th>Height</th>\n",
       "      <th>Csca</th>\n",
       "      <th>DetectorPower</th>\n",
       "    </tr>\n",
       "    <tr>\n",
       "      <th>Diameter</th>\n",
       "      <th>SegmentID</th>\n",
       "      <th></th>\n",
       "      <th></th>\n",
       "      <th></th>\n",
       "    </tr>\n",
       "  </thead>\n",
       "  <tbody>\n",
       "    <tr>\n",
       "      <th rowspan=\"5\" valign=\"top\">300.0</th>\n",
       "      <th>0</th>\n",
       "      <td>20662.0</td>\n",
       "      <td>6.343993e+03</td>\n",
       "      <td>0.297811</td>\n",
       "    </tr>\n",
       "    <tr>\n",
       "      <th>1</th>\n",
       "      <td>20658.0</td>\n",
       "      <td>6.343993e+03</td>\n",
       "      <td>0.297811</td>\n",
       "    </tr>\n",
       "    <tr>\n",
       "      <th>2</th>\n",
       "      <td>20654.0</td>\n",
       "      <td>6.343993e+03</td>\n",
       "      <td>0.297811</td>\n",
       "    </tr>\n",
       "    <tr>\n",
       "      <th>3</th>\n",
       "      <td>20659.0</td>\n",
       "      <td>6.343993e+03</td>\n",
       "      <td>0.297811</td>\n",
       "    </tr>\n",
       "    <tr>\n",
       "      <th>4</th>\n",
       "      <td>20657.0</td>\n",
       "      <td>6.343993e+03</td>\n",
       "      <td>0.297811</td>\n",
       "    </tr>\n",
       "    <tr>\n",
       "      <th>...</th>\n",
       "      <th>...</th>\n",
       "      <td>...</td>\n",
       "      <td>...</td>\n",
       "      <td>...</td>\n",
       "    </tr>\n",
       "    <tr>\n",
       "      <th rowspan=\"5\" valign=\"top\">1200.0</th>\n",
       "      <th>95</th>\n",
       "      <td>6883247.0</td>\n",
       "      <td>1.683480e+06</td>\n",
       "      <td>102.561788</td>\n",
       "    </tr>\n",
       "    <tr>\n",
       "      <th>96</th>\n",
       "      <td>6883340.0</td>\n",
       "      <td>1.683480e+06</td>\n",
       "      <td>102.561788</td>\n",
       "    </tr>\n",
       "    <tr>\n",
       "      <th>97</th>\n",
       "      <td>6883163.0</td>\n",
       "      <td>1.683480e+06</td>\n",
       "      <td>102.561788</td>\n",
       "    </tr>\n",
       "    <tr>\n",
       "      <th>98</th>\n",
       "      <td>6883289.0</td>\n",
       "      <td>1.683480e+06</td>\n",
       "      <td>102.561788</td>\n",
       "    </tr>\n",
       "    <tr>\n",
       "      <th>99</th>\n",
       "      <td>6883186.0</td>\n",
       "      <td>1.683480e+06</td>\n",
       "      <td>102.561788</td>\n",
       "    </tr>\n",
       "  </tbody>\n",
       "</table>\n",
       "<p>1411 rows × 3 columns</p>\n",
       "</div>"
      ],
      "text/plain": [
       "                       Height          Csca  DetectorPower\n",
       "Diameter SegmentID                                        \n",
       "300.0    0            20662.0  6.343993e+03       0.297811\n",
       "         1            20658.0  6.343993e+03       0.297811\n",
       "         2            20654.0  6.343993e+03       0.297811\n",
       "         3            20659.0  6.343993e+03       0.297811\n",
       "         4            20657.0  6.343993e+03       0.297811\n",
       "...                       ...           ...            ...\n",
       "1200.0   95         6883247.0  1.683480e+06     102.561788\n",
       "         96         6883340.0  1.683480e+06     102.561788\n",
       "         97         6883163.0  1.683480e+06     102.561788\n",
       "         98         6883289.0  1.683480e+06     102.561788\n",
       "         99         6883186.0  1.683480e+06     102.561788\n",
       "\n",
       "[1411 rows x 3 columns]"
      ]
     },
     "execution_count": 21,
     "metadata": {},
     "output_type": "execute_result"
    }
   ],
   "source": []
  },
  {
   "cell_type": "code",
   "execution_count": null,
   "id": "5560bb99-9a17-4364-a680-00ec4cfdc943",
   "metadata": {},
   "outputs": [],
   "source": []
  },
  {
   "cell_type": "code",
   "execution_count": null,
   "id": "0fb715c8-e65e-42e4-9cc8-56b10e910d0a",
   "metadata": {},
   "outputs": [],
   "source": []
  },
  {
   "cell_type": "code",
   "execution_count": null,
   "id": "fffe592f-bb0a-41fe-ad96-0f0afc1a4472",
   "metadata": {},
   "outputs": [],
   "source": []
  },
  {
   "cell_type": "code",
   "execution_count": null,
   "id": "1c2cbf0b-ed9c-4f14-8faa-4c70dda35eea",
   "metadata": {},
   "outputs": [],
   "source": []
  },
  {
   "cell_type": "code",
   "execution_count": null,
   "id": "5b98ba40-a72a-4f16-a21f-44d3e45abe66",
   "metadata": {},
   "outputs": [],
   "source": []
  },
  {
   "cell_type": "code",
   "execution_count": null,
   "id": "ef27db78-32d3-4bb0-a496-6241c33a59f8",
   "metadata": {},
   "outputs": [],
   "source": []
  }
 ],
 "metadata": {
  "kernelspec": {
   "display_name": "Python 3 (ipykernel)",
   "language": "python",
   "name": "python3"
  },
  "language_info": {
   "codemirror_mode": {
    "name": "ipython",
    "version": 3
   },
   "file_extension": ".py",
   "mimetype": "text/x-python",
   "name": "python",
   "nbconvert_exporter": "python",
   "pygments_lexer": "ipython3",
   "version": "3.11.11"
  }
 },
 "nbformat": 4,
 "nbformat_minor": 5
}
