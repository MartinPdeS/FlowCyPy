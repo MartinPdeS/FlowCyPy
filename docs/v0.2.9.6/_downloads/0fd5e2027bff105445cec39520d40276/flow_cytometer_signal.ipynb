{
  "cells": [
    {
      "cell_type": "markdown",
      "metadata": {},
      "source": [
        "\n# Simulating Flow Cytometer Signals with Rayleigh Scattering\n\nThis script simulates signals from a flow cytometer using Rayleigh scattering to model the interaction\nof particles with a laser beam. It demonstrates how to generate Forward Scatter (FSC) and Side Scatter (SSC) signals\nusing FlowCyPy and visualize the results.\n\nSteps:\n1. Define the flow parameters and particle size distribution.\n2. Set up the laser source and detectors.\n3. Simulate the flow cytometer signals.\n4. Visualize and analyze the signals from FSC and SSC detectors.\n"
      ]
    },
    {
      "cell_type": "code",
      "execution_count": null,
      "metadata": {
        "collapsed": false
      },
      "outputs": [],
      "source": [
        "# Step 1: Import the necessary libraries\nfrom FlowCyPy import FlowCytometer, Scatterer, Detector, Source, FlowCell\nfrom FlowCyPy import distribution\nfrom FlowCyPy.units import (\n    RIU, milliliter, particle, nanometer, degree, microvolt, AU,\n    megahertz, milliwatt, micrometer, millisecond, meter, second\n)\n\n# Step 2: Define the flow parameters\n# ----------------------------------\n# Flow speed is set to 80 micrometers per second, with a flow area of 1 square micrometer and a total simulation time of 1 second.\nflow_cell = FlowCell(\n    flow_speed=7.56 * meter / second,        # Flow speed: 7.56 meters per second\n    flow_area=(20 * micrometer) ** 2,        # Flow area: 10 x 10 micrometers\n    run_time=0.5 * millisecond             # Total simulation time: 0.3 milliseconds\n)\n\nflow_cell.print_properties()\n\n# Step 3: Define the particle size distribution\n# ---------------------------------------------\n# We define a normal distribution for particle sizes with a mean of 200 nm, standard deviation of 10 nm,\n# and a refractive index of 1.39 with a small variation of 0.01.\nscatterer = Scatterer(medium_refractive_index=1.33 * RIU)\n\nscatterer.add_population(\n    name='EV',\n    concentration=1e+9 * particle / milliliter,\n    size=distribution.RosinRammler(characteristic_size=50 * nanometer, spread=4.5),\n    refractive_index=distribution.Normal(mean=1.39 * RIU, std_dev=0.05 * RIU)\n)\n\n\nscatterer.add_population(\n    name='LP',\n    concentration=1e+9 * particle / milliliter,\n    size=distribution.RosinRammler(characteristic_size=200 * nanometer, spread=4.5),\n    refractive_index=distribution.Normal(mean=1.45 * RIU, std_dev=0.05 * RIU)\n)\n\n\nscatterer.initialize(flow_cell=flow_cell)\n\nscatterer.print_properties()\n\n# Step 4: Set up the light source\n# -------------------------------\n# A laser with a wavelength of 1550 nm, optical power of 2 mW, and a numerical aperture of 0.4 is used.\nsource = Source(\n    numerical_aperture=0.4 * AU,     # Numerical aperture: 0.4\n    wavelength=1550 * nanometer,     # Wavelength: 1550 nm\n    optical_power=200 * milliwatt    # Optical power: 2 mW\n)\n\n# Step 5: Set up the detectors\n# ----------------------------\n# Two detectors are used: Forward Scatter (FSC) and Side Scatter (SSC). Each detector is configured\n# with its own numerical aperture, responsitivity, noise level, and acquisition frequency.\ndetector_fsc = Detector(\n    name='FSC',                         # Forward Scatter detector\n    numerical_aperture=1.2 * AU,        # Numerical aperture: 0.2\n    phi_angle=0 * degree,               # Angle: 180 degrees for forward scatter\n    sampling_freq=10 * megahertz,       # Sampling frequency: 10 MHz\n    saturation_level=1000 * microvolt,  # Saturation level: 10 volts\n    n_bins='14bit',                     # Number of discretization bins: 512\n)\n\ndetector_ssc = Detector(\n    name='SSC',                         # Side Scatter detector\n    numerical_aperture=1.2 * AU,        # Numerical aperture: 0.2\n    phi_angle=90 * degree,              # Angle: 90 degrees for side scatter\n    sampling_freq=10 * megahertz,       # Sampling frequency: 10 MHz\n    saturation_level=1000 * microvolt,  # Saturation level: 10 volts\n    n_bins='14bit',                     # Number of discretization bins: 1024\n)\n\n# Step 6: Create a FlowCytometer instance\n# ---------------------------------------\n# The flow cytometer is configured with the source, scatterer distribution, and detectors.\n# The 'mie' coupling mechanism models how the particles interact with the laser beam.\ncytometer = FlowCytometer(\n    source=source,                # Laser source\n    scatterer=scatterer,  # Particle size distribution\n    detectors=[detector_fsc, detector_ssc],  # Detectors: FSC and SSC\n    coupling_mechanism='mie'      # Scattering model: Mie\n)\n\n# Step 7: Simulate flow cytometer signals\n# ---------------------------------------\n# Simulate the signals for both detectors (FSC and SSC) as particles pass through the laser beam.\ncytometer.simulate_pulse()\n\n# Step 8: Display the properties of the simulation\n# ------------------------------------------------\n# Print the properties of the simulation setup to better understand flow speed, particle density, and source power.\ncytometer.print_properties()\n\n# Step 9: Visualize the generated signals\n# ---------------------------------------\n# Plot the simulated signals for both FSC and SSC detectors.\ncytometer.plot()"
      ]
    },
    {
      "cell_type": "markdown",
      "metadata": {},
      "source": [
        "#############################################################################\nThe above plot shows the raw simulated signals for Forward Scatter (FSC) and\nSide Scatter (SSC) channels. These signals provide insights into particle size\nand complexity and can be further analyzed for feature extraction, such as peak height and width.\n\n"
      ]
    }
  ],
  "metadata": {
    "kernelspec": {
      "display_name": "Python 3",
      "language": "python",
      "name": "python3"
    },
    "language_info": {
      "codemirror_mode": {
        "name": "ipython",
        "version": 3
      },
      "file_extension": ".py",
      "mimetype": "text/x-python",
      "name": "python",
      "nbconvert_exporter": "python",
      "pygments_lexer": "ipython3",
      "version": "3.11.0"
    }
  },
  "nbformat": 4,
  "nbformat_minor": 0
}