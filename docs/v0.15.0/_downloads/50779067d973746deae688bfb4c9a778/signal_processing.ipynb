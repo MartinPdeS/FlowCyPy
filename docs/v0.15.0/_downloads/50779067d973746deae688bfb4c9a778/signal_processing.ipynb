{
  "cells": [
    {
      "cell_type": "markdown",
      "metadata": {},
      "source": [
        "\n# Signal Processing in Flow Cytometry\n\nThis example demonstrates how to apply signal processing techniques\nto flow cytometry data using FlowCyPy. The simulation is set up with a\nGaussian beam, a flow cell, and two detectors. A single population of scatterers\n(with delta distributions) is used, and the focus here is on processing the\nforward scatter detector signals. Three acquisitions are performed:\n\n- **Raw Signal:** No processing applied.\n- **Baseline Restored:** Using a baseline restorator.\n- **Bessel LowPass:** Using a Bessel low-pass filter.\n\nThe resulting signals are plotted for comparison.\n"
      ]
    },
    {
      "cell_type": "code",
      "execution_count": null,
      "metadata": {
        "collapsed": false
      },
      "outputs": [],
      "source": [
        "import numpy as np\nimport matplotlib.pyplot as plt\n\n# Import necessary components from FlowCyPy\nfrom FlowCyPy import (\n    FlowCytometer, ScattererCollection, Detector, GaussianBeam, FlowCell,\n    population, distribution, circuits, units, NoiseSetting\n)\nfrom FlowCyPy.signal_digitizer import SignalDigitizer\n\n# Enable noise settings if desired\nNoiseSetting.include_noises = True\n\n# Set random seed for reproducibility\nnp.random.seed(3)\n\n# Define the optical source: a Gaussian beam.\nsource = GaussianBeam(\n    numerical_aperture=0.3 * units.AU,            # Numerical aperture of the laser\n    wavelength=488 * units.nanometer,             # Laser wavelength: 488 nm\n    optical_power=100 * units.milliwatt           # Laser optical power: 100 mW\n)\n\n# Define the flow cell.\nflow_cell = FlowCell(\n    source=source,\n    volume_flow=0.3 * units.microliter / units.second,  # Flow rate: 0.3 \u00b5L/s\n    flow_area=(10 * units.micrometer) ** 2              # Flow area: 10 x 10 \u00b5m\u00b2\n)\n\n# Create a scatterer collection with a single population.\n# For signal processing, we use delta distributions (i.e., no variability).\npopulation = population.Sphere(\n    name='Population',\n    particle_count=10 * units.particle,\n    diameter=distribution.Delta(position=150 * units.nanometer),\n    refractive_index=distribution.Delta(position=1.39 * units.RIU)\n)\nscatterer_collection = ScattererCollection(\n    medium_refractive_index=1.33 * units.RIU,\n    populations=[population]\n)\n\n# Define the signal digitizer.\nsignal_digitizer = SignalDigitizer(\n    bit_depth='14bit',\n    saturation_levels='auto',\n    sampling_rate=60 * units.megahertz  # Sampling rate: 60 MHz\n)\n\n# Define two detectors.\ndetector_0 = Detector(\n    name='side',\n    phi_angle=90 * units.degree,\n    numerical_aperture=0.2 * units.AU,\n    responsivity=1 * units.ampere / units.watt,\n    resistance=13000 * units.ohm,\n    dark_current=1 * units.microampere,\n    temperature=100 * units.kelvin,\n)\n\ndetector_1 = Detector(\n    name='forward',\n    phi_angle=0 * units.degree,\n    numerical_aperture=0.2 * units.AU,\n    responsivity=1 * units.ampere / units.watt,\n    resistance=13000 * units.ohm,\n    dark_current=1 * units.microampere,\n    temperature=100 * units.kelvin,\n)\n\n# Setup the flow cytometer.\ncytometer = FlowCytometer(\n    signal_digitizer=signal_digitizer,\n    scatterer_collection=scatterer_collection,\n    flow_cell=flow_cell,\n    background_power=0.2 * units.microwatt,\n    detectors=[detector_0, detector_1]\n)\n\n# ---------------------------------------------------------------------------\n# Signal Processing: Acquisition with Different Processing Steps\n# ---------------------------------------------------------------------------\n\nfig, ax = plt.subplots(1, 1, figsize=(12, 6))\n\n# Acquisition 1: Raw Signal (no processing)\nprocessing_steps_none = []\ncytometer.prepare_acquisition(run_time=0.1 * units.millisecond)\nacquisition_none = cytometer.get_acquisition(processing_steps=processing_steps_none)\nax.plot(\n    acquisition_none.analog.loc['forward', 'Time'].pint.to('microsecond'),\n    acquisition_none.analog.loc['forward', 'Signal'].pint.to('millivolt'),\n    linestyle='-',\n    label='Raw Signal'\n)\n\n# Acquisition 2: Baseline Restoration\nprocessing_steps_baseline = [circuits.BaselineRestorator(window_size=1000 * units.microsecond)]\nacquisition_baseline = cytometer.get_acquisition(processing_steps=processing_steps_baseline)\nax.plot(\n    acquisition_baseline.analog.loc['forward', 'Time'].pint.to('microsecond'),\n    acquisition_baseline.analog.loc['forward', 'Signal'].pint.to('millivolt'),\n    linestyle='--',\n    label='Baseline Restored'\n)\n\n# Acquisition 3: Bessel LowPass Filter\nprocessing_steps_bessel = [circuits.BesselLowPass(cutoff=3 * units.megahertz, order=4, gain=2)]\nacquisition_bessel = cytometer.get_acquisition(processing_steps=processing_steps_bessel)\nax.plot(\n    acquisition_bessel.analog.loc['forward', 'Time'].pint.to('microsecond'),\n    acquisition_bessel.analog.loc['forward', 'Signal'].pint.to('millivolt'),\n    linestyle='-.',\n    label='Bessel LowPass'\n)\n\n# Configure the plot.\nax.set_title(\"Flow Cytometry Signal Processing\")\nax.set_xlabel(\"Time [microsecond]\")\nax.set_ylabel(\"Signal Amplitude [millivolt]\")\nax.legend()\nplt.tight_layout()\nplt.show()"
      ]
    }
  ],
  "metadata": {
    "kernelspec": {
      "display_name": "Python 3",
      "language": "python",
      "name": "python3"
    },
    "language_info": {
      "codemirror_mode": {
        "name": "ipython",
        "version": 3
      },
      "file_extension": ".py",
      "mimetype": "text/x-python",
      "name": "python",
      "nbconvert_exporter": "python",
      "pygments_lexer": "ipython3",
      "version": "3.11.11"
    }
  },
  "nbformat": 4,
  "nbformat_minor": 0
}