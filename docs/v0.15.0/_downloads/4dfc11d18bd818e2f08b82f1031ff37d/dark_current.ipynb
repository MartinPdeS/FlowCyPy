{
  "cells": [
    {
      "cell_type": "markdown",
      "metadata": {},
      "source": [
        "\n# Dark Current\n\nThis example illustrates the impact of varying dark current levels on a flow cytometer detector signal.\nThe detector is initialized, dark current noise is applied, and the resulting signals are visualized\nalong with their distributions.\n"
      ]
    },
    {
      "cell_type": "code",
      "execution_count": null,
      "metadata": {
        "collapsed": false
      },
      "outputs": [],
      "source": [
        "import matplotlib.pyplot as plt\nfrom FlowCyPy.detector import Detector\nfrom FlowCyPy import units\nfrom FlowCyPy.signal_digitizer import SignalDigitizer\nimport numpy\nfrom FlowCyPy import NoiseSetting\n\nNoiseSetting.include_noises = True\nNoiseSetting.include_shot_noise = False\nNoiseSetting.include_dark_current_noise = True\nNoiseSetting.include_thermal_noise = False\nNoiseSetting.include_RIN_noise = False\n\n# Define dark current levels\ndark_currents = [1e-9 * units.ampere, 5e-9 * units.ampere, 1e-8 * units.ampere]  # Dark current levels in amperes\n\n# Create a figure for signal visualization\nfig, (ax_signal, ax_hist) = plt.subplots(2, 1, figsize=(10, 6), sharex=False)\n\nsignal_digitizer = SignalDigitizer(\n    bit_depth='14bit',\n    saturation_levels='auto',\n    sampling_rate=1e6 * units.hertz,        # Sampling frequency\n\n)\n\n# Loop over the dark current levels\nfor dark_current in dark_currents:\n    # Initialize the detector\n    detector = Detector(\n        name=f\"{dark_current.magnitude:.1e} A\",\n        responsivity=1 * units.ampere / units.watt,  # Responsitivity (current per power)\n        resistance=50 * units.ohm,              # Load resistance\n        numerical_aperture=0.2 * units.AU,      # Numerical aperture\n        phi_angle=0 * units.degree,             # Detector orientation angle\n        temperature=300 * units.kelvin,         # Detector temperature\n        dark_current=dark_current         # Dark current level\n    )\n\n    detector.signal_digitizer = signal_digitizer\n\n    # Add dark current noise to the raw signal\n    noise = detector.get_noise_signal(200)\n\n    # Plot the raw signal on the first axis\n    ax_signal.step(x=numpy.arange(200), y=noise)\n\n    # Plot the histogram of the raw signal\n    ax_hist.hist(noise, bins=50, alpha=0.6, label=detector.name)\n\n# Customize the axes\nax_signal.set_title(\"Raw Signals with Different Dark Current Levels\")\nax_signal.set_ylabel(\"Signal Voltage (V)\")\nax_signal.legend()\n\nax_hist.set_title(\"Histogram of Raw Signals\")\nax_hist.set_xlabel(\"Signal Voltage (V)\")\nax_hist.set_ylabel(\"Frequency\")\nax_hist.legend()\n\n# Show the plots\nplt.tight_layout()\nplt.show()"
      ]
    }
  ],
  "metadata": {
    "kernelspec": {
      "display_name": "Python 3",
      "language": "python",
      "name": "python3"
    },
    "language_info": {
      "codemirror_mode": {
        "name": "ipython",
        "version": 3
      },
      "file_extension": ".py",
      "mimetype": "text/x-python",
      "name": "python",
      "nbconvert_exporter": "python",
      "pygments_lexer": "ipython3",
      "version": "3.11.11"
    }
  },
  "nbformat": 4,
  "nbformat_minor": 0
}