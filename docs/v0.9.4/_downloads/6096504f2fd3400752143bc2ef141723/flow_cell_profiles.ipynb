{
  "cells": [
    {
      "cell_type": "markdown",
      "metadata": {},
      "source": [
        "\n# Flow Cell geometries\n"
      ]
    },
    {
      "cell_type": "code",
      "execution_count": null,
      "metadata": {
        "collapsed": false
      },
      "outputs": [],
      "source": [
        "from FlowCyPy import units\nfrom FlowCyPy.flow_cell import FlowCell\n\n# Create example FlowCell instances\nvolume_flow = 0.3 * units.microliter / units.second\nfocusing_factor = 0.5\n\nflow_cell = FlowCell(\n    sample_volume_flow=0.02 * units.microliter / units.second,        # Flow speed: 10 microliter per second\n    sheath_volume_flow=0.1 * units.microliter / units.second,        # Flow speed: 10 microliter per second\n    width=20 * units.micrometer,        # Flow area: 10 x 10 micrometers\n    height=10 * units.micrometer,        # Flow area: 10 x 10 micrometers\n)"
      ]
    },
    {
      "cell_type": "markdown",
      "metadata": {},
      "source": [
        "Plot velocity profile for SquareFlowCell\n\n"
      ]
    },
    {
      "cell_type": "code",
      "execution_count": null,
      "metadata": {
        "collapsed": false
      },
      "outputs": [],
      "source": [
        "flow_cell.plot(n_samples=300)"
      ]
    }
  ],
  "metadata": {
    "kernelspec": {
      "display_name": "Python 3",
      "language": "python",
      "name": "python3"
    },
    "language_info": {
      "codemirror_mode": {
        "name": "ipython",
        "version": 3
      },
      "file_extension": ".py",
      "mimetype": "text/x-python",
      "name": "python",
      "nbconvert_exporter": "python",
      "pygments_lexer": "ipython3",
      "version": "3.11.11"
    }
  },
  "nbformat": 4,
  "nbformat_minor": 0
}