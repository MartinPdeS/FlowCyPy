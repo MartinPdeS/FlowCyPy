{
  "cells": [
    {
      "cell_type": "markdown",
      "metadata": {},
      "source": [
        "\n# WorkFlow\n\nThis script simulates flow cytometer signals using the `FlowCytometer` class and analyzes the results using\nthe `PulseAnalyzer` class from the FlowCyPy library. The signals generated (forward scatter and side scatter)\nprovide insights into the physical properties of particles passing through the laser beam.\n\n## Workflow:\n1. Define a particle size distribution using `ScattererCollection`.\n2. Simulate flow cytometer signals using `FlowCytometer`.\n3. Analyze the forward scatter signal with `PulseAnalyzer` to extract features like peak height, width, and area.\n4. Visualize the generated signals and display the extracted pulse features.\n"
      ]
    },
    {
      "cell_type": "markdown",
      "metadata": {},
      "source": [
        "Step 1: Import necessary modules from FlowCyPy\n\n"
      ]
    },
    {
      "cell_type": "code",
      "execution_count": null,
      "metadata": {
        "collapsed": false
      },
      "outputs": [],
      "source": [
        "from FlowCyPy import FlowCytometer, ScattererCollection, Detector, GaussianBeam, FlowCell\nfrom FlowCyPy import distribution\nfrom FlowCyPy.population import Population\nfrom FlowCyPy.signal_digitizer import SignalDigitizer\nfrom FlowCyPy import units"
      ]
    },
    {
      "cell_type": "markdown",
      "metadata": {},
      "source": [
        "## Step 2: Define the laser source\nSet up a laser source with a wavelength of 1550 nm, optical power of 200 mW, and a numerical aperture of 0.3.\n\n"
      ]
    },
    {
      "cell_type": "code",
      "execution_count": null,
      "metadata": {
        "collapsed": false
      },
      "outputs": [],
      "source": [
        "source = GaussianBeam(\n    numerical_aperture=0.3 * units.AU,  # Numerical aperture: 0.3\n    wavelength=800 * units.nanometer,   # Laser wavelength: 800 nm\n    optical_power=20 * units.milliwatt  # Optical power: 20 milliwatts\n)"
      ]
    },
    {
      "cell_type": "markdown",
      "metadata": {},
      "source": [
        "## Step 3: Define flow parameters\nSet the flow speed to 80 micrometers per second and a flow area of 1 square micrometer, with a total simulation time of 1 second.\n\n"
      ]
    },
    {
      "cell_type": "code",
      "execution_count": null,
      "metadata": {
        "collapsed": false
      },
      "outputs": [],
      "source": [
        "flow_cell = FlowCell(\n    source=source,\n    volume_flow=0.3 * units.microliter / units.second,        # Flow speed: 10 microliter per second\n    flow_area=(20 * units.micrometer) ** 2,        # Flow area: 10 x 10 micrometers\n)"
      ]
    },
    {
      "cell_type": "markdown",
      "metadata": {},
      "source": [
        "## Step 4: Define the particle size distribution\nUse a normal size distribution with a mean size of 200 nanometers and a standard deviation of 10 nanometers.\nThis represents the population of scatterers (particles) that will interact with the laser source.\n\n"
      ]
    },
    {
      "cell_type": "code",
      "execution_count": null,
      "metadata": {
        "collapsed": false
      },
      "outputs": [],
      "source": [
        "ev_diameter = distribution.Normal(\n    mean=200 * units.nanometer,       # Mean particle size: 200 nanometers\n    std_dev=10 * units.nanometer      # Standard deviation: 10 nanometers\n)\n\nev_ri = distribution.Normal(\n    mean=1.39 * units.RIU,    # Mean refractive index: 1.39\n    std_dev=0.01 * units.RIU  # Standard deviation: 0.01\n)\n\nev = Population(\n    particle_count=1.8e+8 * units.particle / units.milliliter,\n    diameter=ev_diameter,               # Particle size distribution\n    refractive_index=ev_ri,     # Refractive index distribution\n    name='EV'                   # Name of the particle population: Extracellular Vesicles (EV)\n)\n\nscatterer_collection = ScattererCollection()\n\nscatterer_collection.add_population(ev)\n\nscatterer_collection.dilute(6)\n\n# Step 5: Define the detector\n# ---------------------------\n# The detector captures the scattered light. It is positioned at 90 degrees relative to the incident light beam\n# and configured with a numerical aperture of 0.4 and responsitivity of 1.\nsignal_digitizer = SignalDigitizer(\n    bit_depth=1024,\n    saturation_levels='auto',\n    sampling_rate=10 * units.megahertz,        # Sampling frequency: 1 MHz\n)\n\ndetector_0 = Detector(\n    phi_angle=90 * units.degree,              # Detector angle: 90 degrees (Side Scatter)\n    numerical_aperture=0.4 * units.AU,        # Numerical aperture of the detector\n    name='side',              # Detector name\n    responsitivity=1 * units.ampere / units.watt,   # Responsitivity of the detector (light to signal conversion efficiency)\n)\n\ndetector_1 = Detector(\n    phi_angle=0 * units.degree,               # Detector angle: 90 degrees (Sid e Scatter)\n    numerical_aperture=0.4 * units.AU,        # Numerical aperture of the detector\n    name='forward',             # Detector name\n    responsitivity=1 * units.ampere / units.watt,   # Responsitivity of the detector (light to signal conversion efficiency)\n)\n\n# Step 6: Simulate Flow Cytometer Signals\n# ---------------------------------------\n# Create a FlowCytometer instance to simulate the signals generated as particles pass through the laser beam.\ncytometer = FlowCytometer(\n    signal_digitizer=signal_digitizer,\n    scatterer_collection=scatterer_collection,\n    flow_cell=flow_cell,                # Particle size distribution\n    detectors=[detector_0, detector_1]  # List of detectors used in the simulation\n)\n\n# Run the flow cytometry simulation\nacquisition = cytometer.prepare_acquisition(run_time=1.0 * units.millisecond)\nacquisition = cytometer.get_acquisition()"
      ]
    },
    {
      "cell_type": "markdown",
      "metadata": {},
      "source": [
        "Visualize the scatter analog signals from both detectors\n\n"
      ]
    },
    {
      "cell_type": "code",
      "execution_count": null,
      "metadata": {
        "collapsed": false
      },
      "outputs": [],
      "source": [
        "acquisition.analog.log()\nacquisition.analog.plot()"
      ]
    },
    {
      "cell_type": "markdown",
      "metadata": {},
      "source": [
        "Visualize the scatter digital signals from both detectors\n\n"
      ]
    },
    {
      "cell_type": "code",
      "execution_count": null,
      "metadata": {
        "collapsed": false
      },
      "outputs": [],
      "source": [
        "acquisition.digital.log()\nacquisition.digital.plot()\n\n\ntriggered_acquisition = acquisition.run_triggering(\n    threshold = 20 * units.microvolt,\n    trigger_detector_name='forward',\n    max_triggers=8,\n    pre_buffer=64,\n    post_buffer=64\n)\n\ntriggered_acquisition.apply_filters(\n    lowpass_cutoff=1.5 * units.megahertz,\n    highpass_cutoff=0.01 * units.kilohertz\n)\n\ntriggered_acquisition.apply_baseline_restauration()"
      ]
    },
    {
      "cell_type": "markdown",
      "metadata": {},
      "source": [
        "Visualize the scatter triggered analog signals from both detectors\n\n"
      ]
    },
    {
      "cell_type": "code",
      "execution_count": null,
      "metadata": {
        "collapsed": false
      },
      "outputs": [],
      "source": [
        "triggered_acquisition.analog.plot()"
      ]
    },
    {
      "cell_type": "markdown",
      "metadata": {},
      "source": [
        "Visualize the scatter triggered digital signals from both detectors\n\n"
      ]
    },
    {
      "cell_type": "code",
      "execution_count": null,
      "metadata": {
        "collapsed": false
      },
      "outputs": [],
      "source": [
        "triggered_acquisition.digital.plot()\n\n\n\n\n\"\"\"\nSummary:\n--------\nThis script simulates flow cytometer signals, processes them to detect peaks in the forward scatter channel,\nand extracts important features. The process is visualized through signal plots, and key properties are displayed.\n\"\"\""
      ]
    }
  ],
  "metadata": {
    "kernelspec": {
      "display_name": "Python 3",
      "language": "python",
      "name": "python3"
    },
    "language_info": {
      "codemirror_mode": {
        "name": "ipython",
        "version": 3
      },
      "file_extension": ".py",
      "mimetype": "text/x-python",
      "name": "python",
      "nbconvert_exporter": "python",
      "pygments_lexer": "ipython3",
      "version": "3.11.11"
    }
  },
  "nbformat": 4,
  "nbformat_minor": 0
}