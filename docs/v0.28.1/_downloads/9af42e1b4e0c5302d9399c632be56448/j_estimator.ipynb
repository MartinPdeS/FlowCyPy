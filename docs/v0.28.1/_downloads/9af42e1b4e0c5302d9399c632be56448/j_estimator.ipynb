{
  "cells": [
    {
      "cell_type": "markdown",
      "metadata": {},
      "source": [
        "\n# J Estimator Validation \u2014 Fixed Bead Size, Variable Illumination\n\nThis example demonstrates how to estimate the `J` parameter, which quantifies\nhow the relative noise (robust coefficient of variation) scales with the\nsignal strength under varying illumination power. We simulate a flow cytometry\nsystem with fixed bead diameter and varying illumination.\n"
      ]
    },
    {
      "cell_type": "markdown",
      "metadata": {},
      "source": [
        "## Setup and configuration\n\n"
      ]
    },
    {
      "cell_type": "code",
      "execution_count": null,
      "metadata": {
        "collapsed": false
      },
      "outputs": [],
      "source": [
        "import numpy as np\nfrom FlowCyPy.fluidics import Fluidics, FlowCell, ScattererCollection\nfrom FlowCyPy.opto_electronics import OptoElectronics, source, TransimpedanceAmplifier, Detector\nfrom FlowCyPy.signal_processing import SignalProcessing, Digitizer\nfrom FlowCyPy import FlowCytometer, SimulationSettings\nfrom TypedUnit import ureg\n\nfrom FlowCyPy.calibration import JEstimator"
      ]
    },
    {
      "cell_type": "markdown",
      "metadata": {},
      "source": [
        "Configure simulation-level noise assumptions\n\n"
      ]
    },
    {
      "cell_type": "code",
      "execution_count": null,
      "metadata": {
        "collapsed": false
      },
      "outputs": [],
      "source": [
        "SimulationSettings.include_noises = True\nSimulationSettings.include_shot_noise = True\nSimulationSettings.include_dark_current_noise = False\nSimulationSettings.include_source_noise = False\nSimulationSettings.include_amplifier_noise = False\nSimulationSettings.assume_perfect_hydrodynamic_focusing = True\nSimulationSettings.assume_amplifier_bandwidth_is_infinite = True\nSimulationSettings.assume_perfect_digitizer = True\nSimulationSettings.evenly_spaced_events = True\n\n\nnp.random.seed(3)  # Reproducibility"
      ]
    },
    {
      "cell_type": "markdown",
      "metadata": {},
      "source": [
        "## Construct simulation components\n\n"
      ]
    },
    {
      "cell_type": "code",
      "execution_count": null,
      "metadata": {
        "collapsed": false
      },
      "outputs": [],
      "source": [
        "flow_cell = FlowCell(\n    sample_volume_flow=80 * ureg.microliter / ureg.minute,\n    sheath_volume_flow=1 * ureg.milliliter / ureg.minute,\n    width=400 * ureg.micrometer,\n    height=400 * ureg.micrometer,\n\n)\n\nscatterer_collection = ScattererCollection(medium_refractive_index=1.33 * ureg.RIU)\n\nfluidics = Fluidics(\n    scatterer_collection=scatterer_collection,\n    flow_cell=flow_cell\n)\n\nsource = source.GaussianBeam(\n    numerical_aperture=0.2 * ureg.AU,\n    wavelength=450 * ureg.nanometer,\n    optical_power=0 * ureg.watt\n)\n\ndigitizer = Digitizer(\n    bit_depth='16bit',\n    saturation_levels=(0 * ureg.volt, 2 * ureg.volt),\n    sampling_rate=60 * ureg.megahertz,\n)\n\namplifier = TransimpedanceAmplifier(\n    gain=10 * ureg.volt / ureg.ampere,\n    bandwidth=60 * ureg.megahertz,\n)\n\ndetector_0 = Detector(\n    name='default',\n    phi_angle=0 * ureg.degree,  # Forward scatter\n    numerical_aperture=0.2 * ureg.AU,\n    cache_numerical_aperture=0.0 * ureg.AU,\n    responsivity=1 * ureg.ampere / ureg.watt,\n)\n\nopto_electronics = OptoElectronics(\n    detectors=[detector_0],\n    source=source,\n    amplifier=amplifier\n)\n\nsignal_processing = SignalProcessing(\n    digitizer=digitizer,\n    analog_processing=[],\n)\n\nflow_cytometer = FlowCytometer(\n    opto_electronics=opto_electronics,\n    fluidics=fluidics,\n    signal_processing=signal_processing,\n    background_power=source.optical_power * 0.001\n)"
      ]
    },
    {
      "cell_type": "markdown",
      "metadata": {},
      "source": [
        "## Run J Estimation Simulation\n\n"
      ]
    },
    {
      "cell_type": "code",
      "execution_count": null,
      "metadata": {
        "collapsed": false
      },
      "outputs": [],
      "source": [
        "j_estimator = JEstimator(debug_mode=False)\n\nj_estimator.add_batch(\n    illumination_powers=np.linspace(10, 380, 25) * ureg.milliwatt,\n    bead_diameter=400 * ureg.nanometer,\n    flow_cytometer=flow_cytometer,\n    particle_count=50 * ureg.particle\n)"
      ]
    },
    {
      "cell_type": "markdown",
      "metadata": {},
      "source": [
        "## Plot estimation and diagnostics\n\n"
      ]
    },
    {
      "cell_type": "code",
      "execution_count": null,
      "metadata": {
        "collapsed": false
      },
      "outputs": [],
      "source": [
        "j_estimator.plot()"
      ]
    },
    {
      "cell_type": "markdown",
      "metadata": {},
      "source": [
        "## Plot relevant statistics\n\n"
      ]
    },
    {
      "cell_type": "code",
      "execution_count": null,
      "metadata": {
        "collapsed": false
      },
      "outputs": [],
      "source": [
        "j_estimator.plot_statistics()"
      ]
    }
  ],
  "metadata": {
    "kernelspec": {
      "display_name": "Python 3",
      "language": "python",
      "name": "python3"
    },
    "language_info": {
      "codemirror_mode": {
        "name": "ipython",
        "version": 3
      },
      "file_extension": ".py",
      "mimetype": "text/x-python",
      "name": "python",
      "nbconvert_exporter": "python",
      "pygments_lexer": "ipython3",
      "version": "3.11.13"
    }
  },
  "nbformat": 4,
  "nbformat_minor": 0
}