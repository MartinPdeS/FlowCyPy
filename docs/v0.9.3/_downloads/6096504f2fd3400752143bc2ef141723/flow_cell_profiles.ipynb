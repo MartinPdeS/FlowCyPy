{
  "cells": [
    {
      "cell_type": "markdown",
      "metadata": {},
      "source": [
        "\n# Flow Cell geometries\n"
      ]
    },
    {
      "cell_type": "code",
      "execution_count": null,
      "metadata": {
        "collapsed": false
      },
      "outputs": [],
      "source": [
        "from FlowCyPy import units\nfrom FlowCyPy.flow_cell import CircularFlowCell, RectangularFlowCell, SquareFlowCell\n\n# Create example FlowCell instances\nvolume_flow = 0.3 * units.microliter / units.second\nfocusing_factor = 0.5\n\n# CircularFlowCell instance\ncircular_cell = CircularFlowCell(\n    volume_flow=volume_flow,\n    radius=10 * units.micrometer,\n    focusing_factor=focusing_factor\n)\n\n# RectangularFlowCell instance with width 20 \u03bcm and height 10 \u03bcm.\nrectangular_cell = RectangularFlowCell(\n    volume_flow=volume_flow,\n    width=20 * units.micrometer,\n    height=10 * units.micrometer,\n    focusing_factor=focusing_factor\n)\n\n# SquareFlowCell instance\nsquare_cell = SquareFlowCell(\n    volume_flow=volume_flow,\n    side=3 * units.micrometer,\n    focusing_factor=focusing_factor\n)"
      ]
    },
    {
      "cell_type": "markdown",
      "metadata": {},
      "source": [
        "Plot velocity profile for CircularFlowCell\n\n"
      ]
    },
    {
      "cell_type": "code",
      "execution_count": null,
      "metadata": {
        "collapsed": false
      },
      "outputs": [],
      "source": [
        "circular_cell.plot_transverse_distribution(n_samples=300)"
      ]
    },
    {
      "cell_type": "markdown",
      "metadata": {},
      "source": [
        "Plot velocity profile for RectangularFlowCell\n\n"
      ]
    },
    {
      "cell_type": "code",
      "execution_count": null,
      "metadata": {
        "collapsed": false
      },
      "outputs": [],
      "source": [
        "rectangular_cell.plot_transverse_distribution(n_samples=300)"
      ]
    },
    {
      "cell_type": "markdown",
      "metadata": {},
      "source": [
        "Plot velocity profile for SquareFlowCell\n\n"
      ]
    },
    {
      "cell_type": "code",
      "execution_count": null,
      "metadata": {
        "collapsed": false
      },
      "outputs": [],
      "source": [
        "square_cell.plot_transverse_distribution(n_samples=300)"
      ]
    }
  ],
  "metadata": {
    "kernelspec": {
      "display_name": "Python 3",
      "language": "python",
      "name": "python3"
    },
    "language_info": {
      "codemirror_mode": {
        "name": "ipython",
        "version": 3
      },
      "file_extension": ".py",
      "mimetype": "text/x-python",
      "name": "python",
      "nbconvert_exporter": "python",
      "pygments_lexer": "ipython3",
      "version": "3.11.11"
    }
  },
  "nbformat": 4,
  "nbformat_minor": 0
}