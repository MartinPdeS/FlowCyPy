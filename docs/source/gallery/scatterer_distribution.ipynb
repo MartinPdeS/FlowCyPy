{
  "cells": [
    {
      "cell_type": "markdown",
      "metadata": {},
      "source": [
        "\n# Flow Cytometry Simulation and 2D Hexbin Plot of Scattering Intensities\n\nThis script simulates a flow cytometer using the FlowCyPy library. It models light scattering from particles\ndetected by two detectors (Forward Scatter and Side Scatter) and visualizes the scattering intensities in a 2D hexbin plot.\n\nFlow cytometry is used to analyze the physical and chemical properties of particles as they flow through a laser beam.\n\n## Steps in the Workflow:\n1. Define the flow parameters (e.g., speed, area, and total simulation time).\n2. Create particle size and refractive index distributions.\n3. Set up a laser source and detectors.\n4. Simulate the flow cytometry experiment.\n5. Visualize the scattering intensity in a 2D hexbin plot.\n"
      ]
    },
    {
      "cell_type": "code",
      "execution_count": null,
      "metadata": {
        "collapsed": false
      },
      "outputs": [],
      "source": [
        "# Import necessary libraries and modules\nfrom FlowCyPy import Scatterer, FlowCell\nfrom FlowCyPy import distribution\nfrom FlowCyPy.units import second, nanometer, RIU, particle, milliliter, meter, micrometer, millisecond, AU\nimport numpy as np\n\n# Set random seed for reproducibility\nnp.random.seed(20)\n\n# Step 1: Define Flow Parameters\n# ------------------------------\n# The flow speed is set to 7.56 meters per second, with a flow area of 10 micrometers squared, and\n# the total simulation time is 0.1 milliseconds.\nflow_cell = FlowCell(\n    flow_speed=7.56 * meter / second,      # Flow speed: 7.56 meters per second\n    flow_area=(10 * micrometer) ** 2,      # Flow area: 10 micrometers squared\n    run_time=0.1 * millisecond           # Total simulation time: 0.1 milliseconds\n)\n\n# Step 2: Define Particle Size and Refractive Index Distributions\n# ---------------------------------------------------------------\n# Two particle populations are defined with different sizes and refractive indices.\nscatterer = Scatterer(medium_refractive_index=1.33 * RIU)\n\nscatterer.add_population(\n    name='EV',\n    concentration=2e+9 * particle / milliliter,\n    size=distribution.RosinRammler(characteristic_size=50 * nanometer, spread=4.5),\n    refractive_index=distribution.Normal(mean=1.39 * RIU, std_dev=0.05 * RIU)\n)\n\nscatterer.add_population(\n    name='LP',\n    concentration=1e+10 * particle / milliliter,\n    size=distribution.RosinRammler(characteristic_size=200 * nanometer, spread=4.5),\n    refractive_index=distribution.Normal(mean=1.45 * RIU, std_dev=0.05 * RIU)\n)\n\nscatterer.initialize(flow_cell=flow_cell)\n\n# Plot and visualize the scatterer distribution.\nscatterer.plot()"
      ]
    },
    {
      "cell_type": "markdown",
      "metadata": {},
      "source": [
        "Display the properties of the scatterer distribution.\n\n"
      ]
    },
    {
      "cell_type": "code",
      "execution_count": null,
      "metadata": {
        "collapsed": false
      },
      "outputs": [],
      "source": [
        "scatterer.print_properties()\n\n\"\"\"\nSummary:\n--------\nThis script defines a flow cytometer simulation, sets up the particle size and refractive index distributions,\nand visualizes the scatterer distribution in a 2D density plot. It provides insight into the scattering properties\nof two different particle populations.\n\"\"\""
      ]
    }
  ],
  "metadata": {
    "kernelspec": {
      "display_name": "Python 3",
      "language": "python",
      "name": "python3"
    },
    "language_info": {
      "codemirror_mode": {
        "name": "ipython",
        "version": 3
      },
      "file_extension": ".py",
      "mimetype": "text/x-python",
      "name": "python",
      "nbconvert_exporter": "python",
      "pygments_lexer": "ipython3",
      "version": "3.11.0"
    }
  },
  "nbformat": 4,
  "nbformat_minor": 0
}