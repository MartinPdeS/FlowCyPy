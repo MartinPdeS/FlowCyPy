{
  "cells": [
    {
      "cell_type": "markdown",
      "metadata": {},
      "source": [
        "\n# Flow Cytometry Simulation [2 populations] Density Plot of Scattering Intensities\n\nThis example simulates a flow cytometer experiment using the FlowCyPy library,\nanalyzes pulse signals from two detectors, and generates a 2D density plot of the scattering intensities.\n\nSteps:\n1. Set flow parameters and particle size distributions.\n2. Set up the laser source and detectors.\n3. Simulate the flow cytometry experiment.\n4. Analyze pulse signals and generate a 2D density plot.\n"
      ]
    },
    {
      "cell_type": "code",
      "execution_count": null,
      "metadata": {
        "collapsed": false
      },
      "outputs": [],
      "source": [
        "# Import necessary libraries and modules\nimport numpy as np\nfrom FlowCyPy import FlowCytometer, Scatterer, Analyzer, Detector, Source, FlowCell\nfrom FlowCyPy import distribution\nfrom FlowCyPy import peak_finder\nfrom FlowCyPy.units import particle, milliliter, nanometer, RIU, second, micrometer, millisecond, meter\n\n# Set random seed for reproducibility\nnp.random.seed(3)\n\n# Step 1: Define Flow Parameters\nflow_cell = FlowCell(\n    flow_speed=7.56 * meter / second,      # Flow speed: 7.56 meters per second\n    flow_area=(10 * micrometer) ** 2,      # Flow area: 10 x 10 micrometers\n    run_time=0.3 * millisecond             # Total simulation time: 0.3 milliseconds\n)\n\n# Step 2: Create Populations (Extracellular Vesicles and Liposomes)\nscatterer = Scatterer(medium_refractive_index=1.33 * RIU)  # Medium refractive index: 1.33\n\n# Add first population (Extracellular Vesicles)\nscatterer.add_population(\n    name='EV',  # Population name: Extracellular Vesicles (EV)\n    concentration=1e+9 * particle / milliliter,  # Concentration: 1e9 particles per milliliter\n    size=distribution.RosinRammler(\n        characteristic_size=50 * nanometer,  # Characteristic size: 50 nanometers\n        spread=4.5                           # Spread factor for size distribution\n    ),\n    refractive_index=distribution.Normal(\n        mean=1.39 * RIU,   # Mean refractive index: 1.39\n        std_dev=0.05 * RIU # Standard deviation: 0.05 refractive index units\n    )\n)\n\n# Add second population (Liposomes)\nscatterer.add_population(\n    name='LP',  # Population name: Liposomes (LP)\n    concentration=2e+10 * particle / milliliter,  # Concentration: 1e9 particles per milliliter\n    size=distribution.RosinRammler(\n        characteristic_size=200 * nanometer, # Characteristic size: 200 nanometers\n        spread=4.5                           # Spread factor for size distribution\n    ),\n    refractive_index=distribution.Normal(\n        mean=1.45 * RIU,   # Mean refractive index: 1.45\n        std_dev=0.05 * RIU # Standard deviation: 0.05 refractive index units\n    )\n)\n\n# Initialize scatterer and link it to the flow cell\nscatterer.initialize(flow_cell=flow_cell)\n\n# Print and plot properties of the populations\nscatterer.print_properties()\nscatterer.plot()"
      ]
    },
    {
      "cell_type": "markdown",
      "metadata": {},
      "source": [
        "Step 4: Set up the Laser Source\n\n"
      ]
    },
    {
      "cell_type": "code",
      "execution_count": null,
      "metadata": {
        "collapsed": false
      },
      "outputs": [],
      "source": [
        "from FlowCyPy.units import milliwatt, AU\nsource = Source(\n    numerical_aperture=0.3 * AU,             # Numerical aperture of the laser: 0.3\n    wavelength=800 * nanometer,              # Laser wavelength: 800 nanometers\n    optical_power=10 * milliwatt             # Laser optical power: 10 milliwatts\n)\n\nsource.print_properties()  # Print the laser source properties\n\n# Step 5: Configure Detectors\n# Side scatter detector\nfrom FlowCyPy.units import degree, watt, ampere, millivolt, ohm, kelvin, milliampere, megahertz\ndetector_0 = Detector(\n    name='side',                             # Detector name: Side scatter detector\n    phi_angle=90 * degree,                   # Angle: 90 degrees (Side Scatter)\n    numerical_aperture=1.2 * AU,             # Numerical aperture: 1.2\n    responsitivity=1 * ampere / watt,        # Responsitivity: 1 ampere per watt\n    sampling_freq=60 * megahertz,            # Sampling frequency: 60 MHz\n    saturation_level=2 * millivolt,          # Saturation level: 2 millivolts\n    n_bins='14bit',                          # Number of bins: 14-bit resolution\n    resistance=50 * ohm,                     # Detector resistance: 50 ohms\n    dark_current=0.1 * milliampere,          # Dark current: 0.1 milliamps\n    temperature=300 * kelvin                 # Operating temperature: 300 Kelvin\n)\n\n# Forward scatter detector\ndetector_1 = Detector(\n    name='forward',                          # Detector name: Forward scatter detector\n    phi_angle=180 * degree,                  # Angle: 180 degrees (Forward Scatter)\n    numerical_aperture=1.2 * AU,             # Numerical aperture: 1.2\n    responsitivity=1 * ampere / watt,        # Responsitivity: 1 ampere per watt\n    sampling_freq=60 * megahertz,            # Sampling frequency: 60 MHz\n    saturation_level=2 * millivolt,          # Saturation level: 2 millivolts\n    n_bins='14bit',                          # Number of bins: 14-bit resolution\n    resistance=50 * ohm,                     # Detector resistance: 50 ohms\n    dark_current=0.1 * milliampere,          # Dark current: 0.1 milliamps\n    temperature=300 * kelvin                 # Operating temperature: 300 Kelvin\n)\n\ndetector_1.print_properties()  # Print the properties of the forward scatter detector\n\n# Step 6: Simulate Flow Cytometry Experiment\ncytometer = FlowCytometer(\n    coupling_mechanism='mie',                # Scattering mechanism: Mie scattering\n    source=source,                           # Laser source used in the experiment\n    scatterer=scatterer,                     # Populations used in the experiment\n    detectors=[detector_0, detector_1]       # List of detectors: Side scatter and Forward scatter\n)\n\n# Run the simulation of pulse signals\ncytometer.simulate_pulse()\n\n# Plot the results from both detectors\ncytometer.plot()"
      ]
    },
    {
      "cell_type": "markdown",
      "metadata": {},
      "source": [
        "Step 7: Analyze Pulse Signals\n\n"
      ]
    },
    {
      "cell_type": "code",
      "execution_count": null,
      "metadata": {
        "collapsed": false
      },
      "outputs": [],
      "source": [
        "from FlowCyPy.units import microsecond\nalgorithm = peak_finder.MovingAverage(\n    threshold=0.03 * millivolt,              # Peak detection threshold: 0.03 millivolts\n    window_size=1 * microsecond,             # Moving average window size: 1 microsecond\n    min_peak_distance=0.2 * microsecond      # Minimum distance between peaks: 0.2 microseconds\n)\n\nanalyzer = Analyzer(cytometer=cytometer, algorithm=algorithm)\n\n# Run the pulse signal analysis without computing peak area\nanalyzer.run_analysis(compute_peak_area=False)\n\n# Plot the analyzed pulse signals\nanalyzer.plot_peak()"
      ]
    },
    {
      "cell_type": "markdown",
      "metadata": {},
      "source": [
        "Step 8: Extract and Plot Coincidence Data\n\n"
      ]
    },
    {
      "cell_type": "code",
      "execution_count": null,
      "metadata": {
        "collapsed": false
      },
      "outputs": [],
      "source": [
        "analyzer.get_coincidence(margin=0.1 * microsecond)  # Coincidence data with 0.1 \u00b5s margin\n\n# Plot the 2D density plot of scattering intensities\nanalyzer.plot(log_plot=False)  # Plot with a linear scale (log_plot=False)"
      ]
    }
  ],
  "metadata": {
    "kernelspec": {
      "display_name": "Python 3",
      "language": "python",
      "name": "python3"
    },
    "language_info": {
      "codemirror_mode": {
        "name": "ipython",
        "version": 3
      },
      "file_extension": ".py",
      "mimetype": "text/x-python",
      "name": "python",
      "nbconvert_exporter": "python",
      "pygments_lexer": "ipython3",
      "version": "3.11.0"
    }
  },
  "nbformat": 4,
  "nbformat_minor": 0
}