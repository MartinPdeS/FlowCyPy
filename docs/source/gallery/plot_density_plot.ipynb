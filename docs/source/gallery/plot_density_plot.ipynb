{
  "cells": [
    {
      "cell_type": "markdown",
      "metadata": {},
      "source": [
        "\n# Flow Cytometry Simulation [2 populations] Density Plot of Scattering Intensities\n\nThis example simulates a flow cytometer experiment using the FlowCyPy library,\nanalyzes pulse signals from two detectors, and generates a 2D density plot of the scattering intensities.\n\nSteps:\n1. Set flow parameters and particle size distributions.\n2. Set up the laser source and detectors.\n3. Simulate the flow cytometry experiment.\n4. Analyze pulse signals and generate a 2D density plot.\n"
      ]
    },
    {
      "cell_type": "code",
      "execution_count": null,
      "metadata": {
        "collapsed": false
      },
      "outputs": [],
      "source": [
        "# Import necessary libraries and modules\nimport numpy as np\nfrom FlowCyPy import FlowCytometer, Scatterer, Analyzer, Detector, Source, FlowCell\nfrom FlowCyPy import distribution\nfrom FlowCyPy import peak_finder\nfrom FlowCyPy.units import (\n    microsecond, micrometer, meter, refractive_index_unit, milliliter, second, millivolt,\n    millisecond, nanometer, milliwatt, degree, volt, watt, megahertz, particle, ampere\n)\n\n# Set random seed for reproducibility\nnp.random.seed(3)\n\n# Step 1: Define Flow Parameters\nflow_cell = FlowCell(\n    flow_speed=7.56 * meter / second,        # Flow speed: 7.56 meters per second\n    flow_area=(10 * micrometer) ** 2,        # Flow area: 10 x 10 micrometers\n    total_time=0.5 * millisecond             # Total simulation time: 0.3 milliseconds\n)"
      ]
    },
    {
      "cell_type": "markdown",
      "metadata": {},
      "source": [
        "Step 2: Create Populations (Extracellular Vesicles and Liposomes)\n\n"
      ]
    },
    {
      "cell_type": "code",
      "execution_count": null,
      "metadata": {
        "collapsed": false
      },
      "outputs": [],
      "source": [
        "scatterer = Scatterer(medium_refractive_index=1.33)\n\nscatterer.add_population(\n    name='EV',\n    concentration=1e+9 * particle / milliliter,\n    size=distribution.RosinRammler(characteristic_size=50 * nanometer, spread=4.5),\n    refractive_index=distribution.Normal(mean=1.39 * refractive_index_unit, std_dev=0.05 * refractive_index_unit)\n)\n\n\nscatterer.add_population(\n    name='LP',\n    concentration=1e+9 * particle / milliliter,\n    size=distribution.RosinRammler(characteristic_size=200 * nanometer, spread=4.5),\n    refractive_index=distribution.Normal(mean=1.45 * refractive_index_unit, std_dev=0.05 * refractive_index_unit)\n)\n\nscatterer.initialize(flow_cell=flow_cell)\n\nscatterer.print_properties()\n\n# Plot scatterer distribution\nscatterer.plot()"
      ]
    },
    {
      "cell_type": "markdown",
      "metadata": {},
      "source": [
        "Step 4: Set up the Laser Source\n\n"
      ]
    },
    {
      "cell_type": "code",
      "execution_count": null,
      "metadata": {
        "collapsed": false
      },
      "outputs": [],
      "source": [
        "source = Source(\n    numerical_aperture=0.3,                  # Numerical aperture of the laser: 0.2\n    wavelength=200 * nanometer,              # Laser wavelength: 800 nanometers\n    optical_power=100 * milliwatt            # Laser optical power: 20 milliwatts\n)\n\n# Step 5: Configure Detectors\ndetector_0 = Detector(\n    name='side',                             # Detector name: Side scatter detector\n    phi_angle=90 * degree,                   # Angle: 90 degrees (Side Scatter)\n    numerical_aperture=1.2,                  # Numerical aperture: 1.2\n    responsitivity=1 * ampere / watt,        # Responsitivity: 1 volt per watt\n    sampling_freq=60 * megahertz,            # Sampling frequency: 10 MHz\n    noise_level=0.0 * volt,                  # Noise level: 0 volts\n    saturation_level=0.1 * volt,             # Saturation level: 100 volts\n    n_bins='14bit'                           # Discretization bins: 14-bit resolution\n)\n\ndetector_1 = Detector(\n    name='forward',                          # Detector name: Forward scatter detector\n    phi_angle=180 * degree,                  # Angle: 180 degrees (Forward Scatter)\n    numerical_aperture=1.2,                  # Numerical aperture: 1.2\n    responsitivity=1 * ampere / watt,        # Responsitivity: 1 volt per watt\n    sampling_freq=60 * megahertz,            # Sampling frequency: 10 MHz\n    noise_level=0.0 * volt,                  # Noise level: 0 volts\n    saturation_level=100 * millivolt,        # Saturation level: 100 volts\n    n_bins='14bit'                           # Discretization bins: 14-bit resolution\n)\n\n# Step 6: Simulate Flow Cytometry Experiment\ncytometer = FlowCytometer(\n    coupling_mechanism='mie',                # Use Mie scattering for particle simulation\n    source=source,                           # Laser source\n    scatterer=scatterer, # Particle size and refractive index distribution\n    detectors=[detector_0, detector_1]       # Two detectors: Side scatter and Forward scatter\n)\n\n# Run the simulation\ncytometer.simulate_pulse()\n\n# Plot the results of scattering signals from both detectors\n# cytometer.plot()"
      ]
    },
    {
      "cell_type": "markdown",
      "metadata": {},
      "source": [
        "Step 7: Analyze Pulse Signals\n\n"
      ]
    },
    {
      "cell_type": "code",
      "execution_count": null,
      "metadata": {
        "collapsed": false
      },
      "outputs": [],
      "source": [
        "algorithm = peak_finder.MovingAverage(\n    threshold=0.1 * millivolt,\n    window_size=1 * microsecond,\n    min_peak_distance=0.3 * microsecond\n\n)\n\nanalyzer = Analyzer(cytometer=cytometer, algorithm=algorithm)\n\n# Analyze pulse signals\nanalyzer.run_analysis(compute_peak_area=False)  # Analysis with no peak area computation\n\n# Plot the analyzed pulse signals\nanalyzer.plot_peak()"
      ]
    },
    {
      "cell_type": "markdown",
      "metadata": {},
      "source": [
        "Step 8: Extract and Plot Coincidence Data\n\n"
      ]
    },
    {
      "cell_type": "code",
      "execution_count": null,
      "metadata": {
        "collapsed": false
      },
      "outputs": [],
      "source": [
        "analyzer.get_coincidence(margin=1e-9 * microsecond)\n\n# Plot the 2D density plot\nanalyzer.plot(log_plot=True)"
      ]
    }
  ],
  "metadata": {
    "kernelspec": {
      "display_name": "Python 3",
      "language": "python",
      "name": "python3"
    },
    "language_info": {
      "codemirror_mode": {
        "name": "ipython",
        "version": 3
      },
      "file_extension": ".py",
      "mimetype": "text/x-python",
      "name": "python",
      "nbconvert_exporter": "python",
      "pygments_lexer": "ipython3",
      "version": "3.11.0"
    }
  },
  "nbformat": 4,
  "nbformat_minor": 0
}