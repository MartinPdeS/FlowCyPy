{
  "cells": [
    {
      "cell_type": "markdown",
      "metadata": {},
      "source": [
        "\n# Plotting a Gaussian Pulse\n\nThis script demonstrates how to create and visualize a Gaussian pulse using the\n`GaussianPulse` class from the `FlowCyPy` library.\n\nA Gaussian pulse is widely used in various scientific fields to model signals such as the\nresponse of a detector to a particle passing through a laser beam or electromagnetic pulses.\n\n## Steps:\n1. Define the time axis.\n2. Create a Gaussian pulse using the `GaussianPulse` class.\n3. Generate and plot the pulse.\n"
      ]
    },
    {
      "cell_type": "code",
      "execution_count": null,
      "metadata": {
        "collapsed": false
      },
      "outputs": [],
      "source": [
        "# Step 1: Import necessary libraries\nimport numpy as np\nfrom FlowCyPy import GaussianPulse\n\n# Step 2: Define the time axis\n# ----------------------------\n# Define a time axis ranging from -10 to 10 microseconds, with 1000 points.\ntime = np.linspace(-10, 10, 1000)\n\n# Step 3: Create a Gaussian pulse\n# -------------------------------\n# Create a GaussianPulse instance with the following parameters:\n# - center: The time at which the pulse is centered (0 \u03bcs).\n# - height: The peak amplitude of the pulse (1.0 volts).\n# - width: The standard deviation of the pulse (1.0 \u03bcs).\npulse = GaussianPulse(center=0, height=1.0, width=1.0)\n\n# Step 4: Generate and plot the Gaussian pulse\n# --------------------------------------------\n# Generate the pulse and visualize it using the built-in plot function.\npulse.plot()\n\n\"\"\"\nSummary:\n--------\nThis script generates a Gaussian pulse centered at 0 \u03bcs with a peak amplitude of 1.0 volts\nand a standard deviation of 1.0 \u03bcs. The pulse is plotted over a time axis ranging from\n-10 to 10 \u03bcs. Adjust the parameters (center, height, width) to explore how they affect\nthe shape and position of the pulse.\n\"\"\""
      ]
    }
  ],
  "metadata": {
    "kernelspec": {
      "display_name": "Python 3",
      "language": "python",
      "name": "python3"
    },
    "language_info": {
      "codemirror_mode": {
        "name": "ipython",
        "version": 3
      },
      "file_extension": ".py",
      "mimetype": "text/x-python",
      "name": "python",
      "nbconvert_exporter": "python",
      "pygments_lexer": "ipython3",
      "version": "3.11.0"
    }
  },
  "nbformat": 4,
  "nbformat_minor": 0
}