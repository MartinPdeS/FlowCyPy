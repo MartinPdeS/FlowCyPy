{
  "cells": [
    {
      "cell_type": "markdown",
      "metadata": {},
      "source": [
        "\n# Flow Cytometry Simulation with One Populations: Density Plot of Scattering Intensities\n\nThis example demonstrates how to simulate a flow cytometry experiment using the FlowCyPy library.\nThe simulation includes one populations of particles, and we analyze pulse signals from two detectors\nto generate a 2D density plot of scattering intensities.\n\nWorkflow Summary:\n1. Flow Setup: Configure flow parameters and define particle size distributions.\n2. Laser Source and Detector Setup: Define the laser source characteristics and configure the forward and side detectors.\n3. Run the Experiment: Simulate the flow cytometry experiment.\n4. Data Analysis: Analyze the pulse signals and generate a 2D density plot of the scattering intensities.\n"
      ]
    },
    {
      "cell_type": "code",
      "execution_count": null,
      "metadata": {
        "collapsed": false
      },
      "outputs": [],
      "source": [
        "# Step 1: Configuring Flow Parameters\nimport numpy as np\nfrom FlowCyPy import FlowCell\nfrom FlowCyPy.units import meter, micrometer, millisecond, second, degree\n\nnp.random.seed(3)  # Ensure reproducibility\n\n# Define the flow cell parameters\nflow_cell = FlowCell(\n    flow_speed=7.56 * meter / second,        # Flow speed: 7.56 m/s\n    flow_area=(10 * micrometer) ** 2,        # Flow area: 10 x 10 \u00b5m\u00b2\n    run_time=0.5 * millisecond               # Simulation run time: 0.5 ms\n)\n\n# Step 2: Defining Particle Populations\nfrom FlowCyPy import Scatterer, distribution\nfrom FlowCyPy.units import particle, milliliter, nanometer, RIU\n\n# Initialize scatterer with a medium refractive index\nscatterer = Scatterer(medium_refractive_index=1.33 * RIU)  # Medium refractive index of 1.33 (water)\n\n# Define populations with size distribution and refractive index\nscatterer.add_population(\n    name='EV',  # Population name: Extracellular Vesicles\n    concentration=1e9 * particle / milliliter,  # Concentration: 1e9 particles/milliliter\n    size=distribution.RosinRammler(\n        characteristic_size=50 * nanometer,  # Characteristic size: 50 nm\n        spread=4.5                           # Spread factor for the distribution\n    ),\n    refractive_index=distribution.Normal(\n        mean=1.39 * RIU,   # Mean refractive index: 1.39\n        std_dev=0.02 * RIU # Standard deviation: 0.02 refractive index units\n    )\n)\n\nscatterer.initialize(flow_cell=flow_cell)  # Link populations to flow cell\nscatterer.print_properties()               # Display population properties\nscatterer.plot()                           # Visualize the population distributions"
      ]
    },
    {
      "cell_type": "markdown",
      "metadata": {},
      "source": [
        "Step 3: Laser Source Configuration\n\n"
      ]
    },
    {
      "cell_type": "code",
      "execution_count": null,
      "metadata": {
        "collapsed": false
      },
      "outputs": [],
      "source": [
        "from FlowCyPy import Source\nfrom FlowCyPy.units import milliwatt, nanometer, AU\n\n# Set up the laser source parameters\nsource = Source(\n    numerical_aperture=0.3 * AU,          # Laser numerical aperture: 0.3\n    wavelength=200 * nanometer,           # Laser wavelength: 200 nm\n    optical_power=100 * milliwatt         # Laser optical power: 20 mW\n)\n\n# Step 4: Simulating the Flow Cytometry Experiment\nfrom FlowCyPy import FlowCytometer\nfrom FlowCyPy.units import degree, ohm, megahertz, ampere, volt, kelvin, watt, microvolt\n\n# Initialize the cytometer and configure detectors\ncytometer = FlowCytometer(coupling_mechanism='mie', source=source, scatterer=scatterer)\n\n# Add forward scatter detector\ncytometer.add_detector(\n    name='forward',                         # Detector name: Forward scatter\n    phi_angle=0 * degree,                   # Detector angle: 0 degrees (forward scatter)\n    numerical_aperture=1.2 * AU,            # Detector numerical aperture: 1.2\n    responsitivity=1 * ampere / watt,       # Responsitivity: 1 A/W (detector response)\n    sampling_freq=60 * megahertz,           # Sampling frequency: 60 MHz\n    noise_level=0.0 * volt,                 # Noise level: 0 V\n    saturation_level=2000 * microvolt,      # Saturation level: 5000 mV (detector capacity)\n    resistance=50 * ohm,                    # Resistance: 50 ohm\n    temperature=300 * kelvin,               # Operating temperature: 300 K (room temperature)\n    n_bins='14bit'                          # Discretization bins: 14-bit resolution\n)\n\n# Add side scatter detector\ncytometer.add_detector(\n    name='side',                            # Detector name: Side scatter\n    phi_angle=90 * degree,                  # Detector angle: 90 degrees (side scatter)\n    numerical_aperture=1.2 * AU,            # Detector numerical aperture: 1.2\n    responsitivity=1 * ampere / watt,       # Responsitivity: 1 A/W (detector response)\n    sampling_freq=60 * megahertz,           # Sampling frequency: 60 MHz\n    noise_level=0.0 * volt,                 # Noise level: 0 V\n    saturation_level=2000 * microvolt,      # Saturation level: 5 V (detector capacity)\n    resistance=50 * ohm,                    # Resistance: 50 ohm\n    temperature=300 * kelvin,               # Operating temperature: 300 K (room temperature)\n    n_bins='14bit'                          # Discretization bins: 14-bit resolution\n)\n\n# Run the flow cytometry simulation\ncytometer.simulate_pulse()\n\n# Visualize the scatter signals from both detectors\ncytometer.plot()"
      ]
    },
    {
      "cell_type": "markdown",
      "metadata": {},
      "source": [
        "Step 5: Analyzing Pulse Signals\n\n"
      ]
    },
    {
      "cell_type": "code",
      "execution_count": null,
      "metadata": {
        "collapsed": false
      },
      "outputs": [],
      "source": [
        "from FlowCyPy import Analyzer, peak_finder\nfrom FlowCyPy.units import microsecond\n\n# Configure peak finding algorithm\nalgorithm = peak_finder.MovingAverage(\n    threshold=5 * microvolt,          # Signal threshold: 0.1 mV\n    window_size=1 * microsecond,        # Moving average window size: 1 \u00b5s\n    min_peak_distance=0.3 * microsecond # Minimum distance between peaks: 0.3 \u00b5s\n)\n\n# Initialize analyzer with the cytometer and algorithm\nanalyzer = Analyzer(cytometer=cytometer, algorithm=algorithm)\n\n# Run the pulse signal analysis\nanalyzer.run_analysis(compute_peak_area=False)\n\n# Plot the detected peaks\nanalyzer.plot_peak()"
      ]
    },
    {
      "cell_type": "markdown",
      "metadata": {},
      "source": [
        "Step 6: Coincidence Data and 2D Density Plot\nExtract coincidence data within a defined margin\n\n"
      ]
    },
    {
      "cell_type": "code",
      "execution_count": null,
      "metadata": {
        "collapsed": false
      },
      "outputs": [],
      "source": [
        "analyzer.get_coincidence(margin=1e-9 * microsecond)\n\n# Generate and plot the 2D density plot of scattering intensities\nanalyzer.plot(log_plot=True)"
      ]
    }
  ],
  "metadata": {
    "kernelspec": {
      "display_name": "Python 3",
      "language": "python",
      "name": "python3"
    },
    "language_info": {
      "codemirror_mode": {
        "name": "ipython",
        "version": 3
      },
      "file_extension": ".py",
      "mimetype": "text/x-python",
      "name": "python",
      "nbconvert_exporter": "python",
      "pygments_lexer": "ipython3",
      "version": "3.11.0"
    }
  },
  "nbformat": 4,
  "nbformat_minor": 0
}