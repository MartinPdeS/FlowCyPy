{
  "cells": [
    {
      "cell_type": "markdown",
      "metadata": {},
      "source": [
        "\n# Workflow\n\nThis tutorial demonstrates how to simulate a flow cytometry experiment using the FlowCyPy library.\nThe simulation involves configuring a flow setup, defining a single population of particles, and\nanalyzing scattering signals from two detectors to produce a 2D density plot of scattering intensities.\n\n## Overview:\n1. Configure the flow cell and particle population.\n2. Define the laser source and detector parameters.\n3. Simulate the flow cytometry experiment.\n4. Analyze the generated signals and visualize results.\n"
      ]
    },
    {
      "cell_type": "markdown",
      "metadata": {},
      "source": [
        "## Step 0: Import Necessary Libraries\nHere, we import the necessary libraries and units for the simulation. The units module helps us\ndefine physical quantities like meters, seconds, and watts in a concise and consistent manner.\n\n"
      ]
    },
    {
      "cell_type": "code",
      "execution_count": null,
      "metadata": {
        "collapsed": false
      },
      "outputs": [],
      "source": [
        "from FlowCyPy import units\nfrom FlowCyPy import GaussianBeam\nfrom FlowCyPy.flow_cell import FlowCell\nfrom FlowCyPy import ScattererCollection\nfrom FlowCyPy.population import Exosome, HDL\nfrom FlowCyPy.detector import PMT\nfrom FlowCyPy.signal_digitizer import SignalDigitizer\nfrom FlowCyPy import FlowCytometer, TransimpedanceAmplifier\n\nsource = GaussianBeam(\n    numerical_aperture=0.3 * units.AU,           # Numerical aperture\n    wavelength=200 * units.nanometer,           # Wavelength\n    optical_power=20 * units.milliwatt          # Optical power\n)\n\nflow_cell = FlowCell(\n    sample_volume_flow=0.02 * units.microliter / units.second,\n    sheath_volume_flow=0.1 * units.microliter / units.second,\n    width=20 * units.micrometer,\n    height=10 * units.micrometer,\n)\n\nscatterer_collection = ScattererCollection(medium_refractive_index=1.33 * units.RIU)\n\n# Add an Exosome and HDL population\nscatterer_collection.add_population(\n    Exosome(particle_count=5e9 * units.particle / units.milliliter),\n    HDL(particle_count=5e9 * units.particle / units.milliliter)\n)\n\nscatterer_collection.dilute(factor=1)\n\n# Initialize the scatterer with the flow cell\ndf = scatterer_collection.get_population_dataframe(total_sampling=600, use_ratio=False)  # Visualize the particle population\n\ndf.plot(x='Diameter', bins='auto')\n\nsignal_digitizer = SignalDigitizer(\n    bit_depth='14bit',\n    saturation_levels='auto',\n    sampling_rate=60 * units.megahertz,\n)\n\ndetector_0 = PMT(name='forward', phi_angle=0 * units.degree, numerical_aperture=0.3 * units.AU)\n\ndetector_1 = PMT(name='side', phi_angle=90 * units.degree, numerical_aperture=0.3 * units.AU)\n\ntransimpedance_amplifier = TransimpedanceAmplifier(\n    gain=100 * units.volt / units.ampere,\n    bandwidth = 10 * units.megahertz\n)\n\n\ncytometer = FlowCytometer(\n    source=source,\n    transimpedance_amplifier=transimpedance_amplifier,\n    scatterer_collection=scatterer_collection,\n    signal_digitizer=signal_digitizer,\n    detectors=[detector_0, detector_1],\n    flow_cell=flow_cell,\n    background_power=0.001 * units.milliwatt\n)\n\n# Run the flow cytometry simulation\ncytometer.prepare_acquisition(run_time=0.1 * units.millisecond)\n\ncytometer.scatterer_dataframe.plot(\n    x='side',\n    y='forward',\n    z='RefractiveIndex'\n)"
      ]
    }
  ],
  "metadata": {
    "kernelspec": {
      "display_name": "Python 3",
      "language": "python",
      "name": "python3"
    },
    "language_info": {
      "codemirror_mode": {
        "name": "ipython",
        "version": 3
      },
      "file_extension": ".py",
      "mimetype": "text/x-python",
      "name": "python",
      "nbconvert_exporter": "python",
      "pygments_lexer": "ipython3",
      "version": "3.11.11"
    }
  },
  "nbformat": 4,
  "nbformat_minor": 0
}