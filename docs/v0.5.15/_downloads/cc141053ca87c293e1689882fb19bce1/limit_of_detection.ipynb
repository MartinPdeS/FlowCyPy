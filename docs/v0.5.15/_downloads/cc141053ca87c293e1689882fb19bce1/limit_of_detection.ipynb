{
  "cells": [
    {
      "cell_type": "markdown",
      "metadata": {},
      "source": [
        "\n# Study on limit of detection\n"
      ]
    },
    {
      "cell_type": "code",
      "execution_count": null,
      "metadata": {
        "collapsed": false
      },
      "outputs": [],
      "source": [
        "import numpy as np\nfrom FlowCyPy import FlowCytometer, ScattererCollection, EventCorrelator, Detector, GaussianBeam, FlowCell\nfrom FlowCyPy import peak_locator\nfrom FlowCyPy.units import particle, nanometer, RIU, second, micrometer, millisecond, meter\nfrom FlowCyPy.units import degree, watt, ampere, millivolt, ohm, kelvin, milliampere, megahertz, microvolt\nfrom FlowCyPy.units import microsecond\nfrom FlowCyPy.units import milliwatt, AU\nfrom FlowCyPy import NoiseSetting\nfrom FlowCyPy import Population, distribution\nfrom FlowCyPy.signal_digitizer import SignalDigitizer\nfrom FlowCyPy.population import Exosome, HDL\n\nNoiseSetting.include_noises = True\nNoiseSetting.include_shot_noise = True\nNoiseSetting.include_RIN_noise = False\nNoiseSetting.include_dark_current_noise = False\nNoiseSetting.include_thermal_noise = False\n\nnp.random.seed(3)\n\nsource = GaussianBeam(\n    numerical_aperture=0.3 * AU,             # Numerical aperture of the laser: 0.3\n    wavelength=488 * nanometer,              # Laser wavelength: 800 nanometers\n    optical_power=100 * milliwatt             # Laser optical power: 10 milliwatts\n)\n\nflow_cell = FlowCell(\n    source=source,\n    flow_speed=7.56 * meter / second,      # Flow speed: 7.56 meters per second\n    flow_area=(10 * micrometer) ** 2,      # Flow area: 10 x 10 micrometers\n)\n\nscatterer_collection = ScattererCollection(medium_refractive_index=1.33 * RIU)  # Medium refractive index: 1.33\n\n\n\nfor size in [150, 100, 50, 30]:\n\n    population = Population(\n        name=f'{size} nanometer',\n        particle_count=20 * particle,\n        size=distribution.Delta(position=size * nanometer),\n        refractive_index=distribution.Delta(position=1.39 * RIU)\n    )\n\n    scatterer_collection.add_population(population)\n\nsignal_digitizer = SignalDigitizer(\n    bit_depth='14bit',\n    saturation_levels='auto',\n    sampling_freq=60 * megahertz,            # Sampling frequency: 60 MHz\n)\n\ndetector_0 = Detector(\n    name='side',                             # Detector name: Side scatter detector\n    phi_angle=90 * degree,                   # Angle: 90 degrees (Side Scatter)\n    numerical_aperture=.2 * AU,             # Numerical aperture: 1.2\n    responsitivity=1 * ampere / watt,        # Responsitivity: 1 ampere per watt\n    signal_digitizer=signal_digitizer,\n    resistance=13000 * ohm,                     # Detector resistance: 50 ohms\n    dark_current=0.01 * milliampere,          # Dark current: 0.1 milliamps\n    temperature=300 * kelvin                 # Operating temperature: 300 Kelvin\n)\n\ndetector_1 = Detector(\n    name='forward',                          # Detector name: Forward scatter detector\n    phi_angle=0 * degree,                    # Angle: 0 degrees (Forward Scatter)\n    numerical_aperture=.2 * AU,             # Numerical aperture: 1.2\n    responsitivity=1 * ampere / watt,        # Responsitivity: 1 ampere per watt\n    signal_digitizer=signal_digitizer,\n    resistance=13000 * ohm,                     # Detector resistance: 50 ohms\n    dark_current=0.01 * milliampere,          # Dark current: 0.1 milliamps\n    temperature=300 * kelvin                 # Operating temperature: 300 Kelvin\n)\n\ncytometer = FlowCytometer(\n    scatterer_collection=scatterer_collection,\n    flow_cell=flow_cell,                     # Populations used in the experiment\n    background_power=0.0 * milliwatt,\n    detectors=[detector_0, detector_1]       # List of detectors: Side scatter and Forward scatter\n)\n\n# Run the flow cytometry simulation\nexperiment = cytometer.get_continous_acquisition(run_time=0.2 * millisecond)\n\n# Visualize the scatter signals from both detectors\nexperiment.plot.signals()\n\nalgorithm = peak_locator.MovingAverage(\n    threshold=200 * microvolt,            # Signal threshold: 0.1 mV\n    window_size=1 * microsecond,         # Moving average window size: 1 \u00b5s\n    min_peak_distance=0.1 * microsecond  # Minimum distance between peaks: 0.3 \u00b5s\n)\n\ndetector_0.set_peak_locator(algorithm)\ndetector_1.set_peak_locator(algorithm)\n\nanalyzer = EventCorrelator(cytometer=cytometer)\n\nanalyzer.run_analysis(compute_peak_area=False)\n\nanalyzer.get_coincidence(margin=0.01 * microsecond)\n\nanalyzer.plot(log_plot=False)"
      ]
    }
  ],
  "metadata": {
    "kernelspec": {
      "display_name": "Python 3",
      "language": "python",
      "name": "python3"
    },
    "language_info": {
      "codemirror_mode": {
        "name": "ipython",
        "version": 3
      },
      "file_extension": ".py",
      "mimetype": "text/x-python",
      "name": "python",
      "nbconvert_exporter": "python",
      "pygments_lexer": "ipython3",
      "version": "3.11.11"
    }
  },
  "nbformat": 4,
  "nbformat_minor": 0
}