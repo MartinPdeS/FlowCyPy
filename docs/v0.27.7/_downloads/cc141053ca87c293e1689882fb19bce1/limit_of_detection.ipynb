{
  "cells": [
    {
      "cell_type": "markdown",
      "metadata": {},
      "source": [
        "\n# Limit of Detection\n\nThis example simulates the detection of small nanoparticles (90\u2013150 nm diameter)\nin a flow cytometry setup using a dual-detector configuration (side and forward scatter).\nThe simulation includes noise models, realistic fluidics, analog signal conditioning,\ndigitization, triggering, and peak detection.\n\nThe main goal is to evaluate whether such particles produce detectable and distinguishable\nscatter signals in the presence of system noise and fluidic variability.\n"
      ]
    },
    {
      "cell_type": "code",
      "execution_count": null,
      "metadata": {
        "collapsed": false
      },
      "outputs": [],
      "source": [
        "import numpy as np\nfrom FlowCyPy.fluidics import Fluidics, FlowCell, population, distribution, ScattererCollection\nfrom FlowCyPy.opto_electronics import OptoElectronics, source, TransimpedanceAmplifier, Detector\nfrom FlowCyPy.signal_processing import SignalProcessing, Digitizer, circuits, peak_locator, triggering_system\nfrom FlowCyPy import FlowCytometer, SimulationSettings, units"
      ]
    },
    {
      "cell_type": "code",
      "execution_count": null,
      "metadata": {
        "collapsed": false
      },
      "outputs": [],
      "source": [
        "SimulationSettings.include_noises = True\nSimulationSettings.include_shot_noise = True\nSimulationSettings.include_source_noise = True\nSimulationSettings.include_dark_current_noise = True\nSimulationSettings.assume_perfect_hydrodynamic_focusing = True\nSimulationSettings.evenly_spaced_events = True\nSimulationSettings.sorted_population = True\n\nnp.random.seed(3)"
      ]
    },
    {
      "cell_type": "code",
      "execution_count": null,
      "metadata": {
        "collapsed": false
      },
      "outputs": [],
      "source": [
        "source = source.GaussianBeam(\n    numerical_aperture=0.1 * units.AU,\n    wavelength=488 * units.nanometer,\n    optical_power=200 * units.milliwatt\n)"
      ]
    },
    {
      "cell_type": "code",
      "execution_count": null,
      "metadata": {
        "collapsed": false
      },
      "outputs": [],
      "source": [
        "flow_cell = FlowCell(\n    sample_volume_flow=0.02 * units.microliter / units.second,\n    sheath_volume_flow=0.1 * units.microliter / units.second,\n    width=20 * units.micrometer,\n    height=10 * units.micrometer,\n)"
      ]
    },
    {
      "cell_type": "code",
      "execution_count": null,
      "metadata": {
        "collapsed": false
      },
      "outputs": [],
      "source": [
        "scatterer_collection = ScattererCollection(medium_refractive_index=1.33 * units.RIU)\n\nfor size in [150, 130, 110, 90]:\n    pop = population.Sphere(\n        name=f'{size} nm',\n        particle_count=20 * units.particle,\n        diameter=distribution.Delta(position=size * units.nanometer),\n        refractive_index=distribution.Delta(position=1.39 * units.RIU)\n    )\n    scatterer_collection.add_population(pop)"
      ]
    },
    {
      "cell_type": "code",
      "execution_count": null,
      "metadata": {
        "collapsed": false
      },
      "outputs": [],
      "source": [
        "fluidics = Fluidics(\n    scatterer_collection=scatterer_collection,\n    flow_cell=flow_cell\n)"
      ]
    },
    {
      "cell_type": "code",
      "execution_count": null,
      "metadata": {
        "collapsed": false
      },
      "outputs": [],
      "source": [
        "digitizer = Digitizer(\n    bit_depth='14bit',\n    saturation_levels='auto',\n    sampling_rate=60 * units.megahertz\n)"
      ]
    },
    {
      "cell_type": "code",
      "execution_count": null,
      "metadata": {
        "collapsed": false
      },
      "outputs": [],
      "source": [
        "detector_side = Detector(\n    name='side',\n    phi_angle=90 * units.degree,\n    numerical_aperture=0.2 * units.AU,\n    responsivity=1 * units.ampere / units.watt,\n    dark_current=0.001 * units.milliampere\n)\n\ndetector_forward = Detector(\n    name='forward',\n    phi_angle=0 * units.degree,\n    numerical_aperture=0.2 * units.AU,\n    responsivity=1 * units.ampere / units.watt,\n    dark_current=0.001 * units.milliampere\n)"
      ]
    },
    {
      "cell_type": "code",
      "execution_count": null,
      "metadata": {
        "collapsed": false
      },
      "outputs": [],
      "source": [
        "amplifier = TransimpedanceAmplifier(\n    gain=10000 * units.volt / units.ampere,\n    bandwidth=10 * units.megahertz\n)\n\nopto_electronics = OptoElectronics(\n    detectors=[detector_side, detector_forward],\n    source=source,\n    amplifier=amplifier\n)"
      ]
    },
    {
      "cell_type": "code",
      "execution_count": null,
      "metadata": {
        "collapsed": false
      },
      "outputs": [],
      "source": [
        "analog_processing = [\n    circuits.BaselineRestorator(window_size=10 * units.microsecond),\n    circuits.BesselLowPass(cutoff=1 * units.megahertz, order=4, gain=2)\n]"
      ]
    },
    {
      "cell_type": "code",
      "execution_count": null,
      "metadata": {
        "collapsed": false
      },
      "outputs": [],
      "source": [
        "triggering_system = triggering_system.DynamicWindow(\n    trigger_detector_name='forward',\n    threshold=0.4 * units.millivolt,\n    max_triggers=-1,\n    pre_buffer=64,\n    post_buffer=64\n)\n\nsignal_processing = SignalProcessing(\n    digitizer=digitizer,\n    analog_processing=analog_processing,\n    triggering_system=triggering_system,\n    peak_algorithm=peak_locator.GlobalPeakLocator()\n)"
      ]
    },
    {
      "cell_type": "code",
      "execution_count": null,
      "metadata": {
        "collapsed": false
      },
      "outputs": [],
      "source": [
        "cytometer = FlowCytometer(\n    opto_electronics=opto_electronics,\n    fluidics=fluidics,\n    signal_processing=signal_processing,\n    background_power=0.0001 * units.milliwatt\n)\n\nresults = cytometer.run(run_time=1.0 * units.millisecond)"
      ]
    },
    {
      "cell_type": "code",
      "execution_count": null,
      "metadata": {
        "collapsed": false
      },
      "outputs": [],
      "source": [
        "results.analog.normalize_units(time_units='max', signal_units='max')\nresults.analog.plot()"
      ]
    },
    {
      "cell_type": "code",
      "execution_count": null,
      "metadata": {
        "collapsed": false
      },
      "outputs": [],
      "source": [
        "results.triggered_analog.plot()"
      ]
    },
    {
      "cell_type": "code",
      "execution_count": null,
      "metadata": {
        "collapsed": false
      },
      "outputs": [],
      "source": [
        "results.peaks.plot(\n    x=('side', 'Height'),\n    y=('forward', 'Height')\n)"
      ]
    }
  ],
  "metadata": {
    "kernelspec": {
      "display_name": "Python 3",
      "language": "python",
      "name": "python3"
    },
    "language_info": {
      "codemirror_mode": {
        "name": "ipython",
        "version": 3
      },
      "file_extension": ".py",
      "mimetype": "text/x-python",
      "name": "python",
      "nbconvert_exporter": "python",
      "pygments_lexer": "ipython3",
      "version": "3.11.13"
    }
  },
  "nbformat": 4,
  "nbformat_minor": 0
}