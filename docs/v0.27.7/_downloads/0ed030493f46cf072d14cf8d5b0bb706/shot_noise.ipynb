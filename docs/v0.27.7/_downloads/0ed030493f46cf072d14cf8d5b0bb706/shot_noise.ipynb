{
  "cells": [
    {
      "cell_type": "markdown",
      "metadata": {},
      "source": [
        "\n# Shot noise\n\nThis example demonstrates the effect of different optical power levels on a flow cytometer detector.\nWe initialize the detector, apply varying optical power levels, and visualize the resulting signals\nand their distributions.\n"
      ]
    },
    {
      "cell_type": "code",
      "execution_count": null,
      "metadata": {
        "collapsed": false
      },
      "outputs": [],
      "source": [
        "import matplotlib.pyplot as plt\nfrom FlowCyPy.detector import Detector\nfrom FlowCyPy import units\nimport numpy\nfrom FlowCyPy import SimulationSettings\nfrom FlowCyPy.signal_generator import SignalGenerator\n\nSimulationSettings.include_noises = True\nSimulationSettings.include_shot_noise = True\nSimulationSettings.include_dark_current_noise = False\nSimulationSettings.include_source_noise = False\n\n# Define optical power levels\noptical_powers = [1 * units.nanowatt, 2 * units.nanowatt, 4 * units.nanowatt]  # Powers in watts\nsequence_length = 300"
      ]
    },
    {
      "cell_type": "markdown",
      "metadata": {},
      "source": [
        "Create a figure for signal visualization\n\n"
      ]
    },
    {
      "cell_type": "code",
      "execution_count": null,
      "metadata": {
        "collapsed": false
      },
      "outputs": [],
      "source": [
        "fig, (ax_signal, ax_hist) = plt.subplots(2, 1, figsize=(10, 6), sharex=False)\n\n# Loop over the optical power levels\nfor optical_power in optical_powers:\n    detector_name = f\"{optical_power.magnitude:.1e} W\"\n\n    signal_generator = SignalGenerator(n_elements=sequence_length, time_units=units.second, signal_units=units.watt)\n\n    signal_generator.create_zero_signal(detector_name)\n\n    signal_generator.add_constant(\n        signal_name=detector_name,\n        constant=optical_power.to('watt')\n    )\n\n    # Initialize the detector\n    detector = Detector(\n        name=detector_name,\n        responsivity=1 * units.ampere / units.watt,\n        numerical_aperture=0.2 * units.AU,\n        phi_angle=0 * units.degree\n    )\n\n    detector.apply_shot_noise(\n        signal_generator=signal_generator,\n        wavelength=1550 * units.nanometer,\n        bandwidth=10 * units.megahertz\n    )\n\n    noise_current = signal_generator.get_signal(detector_name) * units.ampere\n\n    # Plot the raw signal on the first axis\n    ax_signal.step(numpy.arange(sequence_length), noise_current, label=detector.name)\n\n    # Plot the histogram of the raw signal\n    ax_hist.hist(noise_current, bins=50, alpha=0.6, label=detector.name)\n\n# Customize the axes\nax_signal.set_title(\"Raw Signals at Different Optical Powers\")\nax_signal.set_ylabel(\"Signal Voltage (V)\")\nax_signal.legend()\n\nax_hist.set_title(\"Histogram of Raw Signals\")\nax_hist.set_xlabel(\"Signal Voltage (V)\")\nax_hist.set_ylabel(\"Frequency\")\nax_hist.legend()\n\n\n# Show the plots\nplt.tight_layout()\n_ = plt.show()"
      ]
    }
  ],
  "metadata": {
    "kernelspec": {
      "display_name": "Python 3",
      "language": "python",
      "name": "python3"
    },
    "language_info": {
      "codemirror_mode": {
        "name": "ipython",
        "version": 3
      },
      "file_extension": ".py",
      "mimetype": "text/x-python",
      "name": "python",
      "nbconvert_exporter": "python",
      "pygments_lexer": "ipython3",
      "version": "3.11.13"
    }
  },
  "nbformat": 4,
  "nbformat_minor": 0
}