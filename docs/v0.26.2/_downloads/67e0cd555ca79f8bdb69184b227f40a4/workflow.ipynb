{
  "cells": [
    {
      "cell_type": "markdown",
      "metadata": {},
      "source": [
        "\n# Flow Cytometry Simulation: Full System Example\n\nThis tutorial demonstrates a complete flow cytometry simulation using the FlowCyPy library.\nIt models fluidics, optics, signal processing, and classification of multiple particle populations.\n\n## Steps Covered:\n1. Configure simulation parameters and noise models\n2. Define laser source, flow cell geometry, and fluidics\n3. Add synthetic particle populations\n4. Set up detectors, amplifier, and digitizer\n5. Simulate analog and digital signal acquisition\n6. Apply triggering and peak detection\n7. Classify particle events based on peak features\n"
      ]
    },
    {
      "cell_type": "markdown",
      "metadata": {},
      "source": [
        "## Step 0: Global Settings and Imports\n\n"
      ]
    },
    {
      "cell_type": "code",
      "execution_count": null,
      "metadata": {
        "collapsed": false
      },
      "outputs": [],
      "source": [
        "import numpy as np\nfrom FlowCyPy import units, SimulationSettings\n\nSimulationSettings.include_noises = True\nSimulationSettings.include_shot_noise = True\nSimulationSettings.include_dark_current_noise = True\nSimulationSettings.include_source_noise = True\nSimulationSettings.include_amplifier_noise = True\nSimulationSettings.assume_perfect_hydrodynamic_focusing = True\n\nnp.random.seed(3)"
      ]
    },
    {
      "cell_type": "markdown",
      "metadata": {},
      "source": [
        "## Step 1: Define Flow Cell and Fluidics\n\n"
      ]
    },
    {
      "cell_type": "code",
      "execution_count": null,
      "metadata": {
        "collapsed": false
      },
      "outputs": [],
      "source": [
        "from FlowCyPy.flow_cell import FlowCell\nfrom FlowCyPy.fluidics import Fluidics, ScattererCollection, population, distribution\n\nflow_cell = FlowCell(\n    sample_volume_flow=80 * units.microliter / units.minute,\n    sheath_volume_flow=1 * units.milliliter / units.minute,\n    width=200 * units.micrometer,\n    height=100 * units.micrometer\n)\n\nscatterer_collection = ScattererCollection(medium_refractive_index=1.33 * units.RIU)\n\nscatterer_collection.add_population(population.Sphere(\n    name='Pop 0',\n    particle_count=5e9 * units.particle / units.milliliter,\n    diameter=distribution.RosinRammler(150 * units.nanometer, spread=30),\n    refractive_index=distribution.Normal(1.44 * units.RIU, std_dev=0.002 * units.RIU)\n))\n\nscatterer_collection.add_population(population.Sphere(\n    name='Pop 1',\n    particle_count=5e9 * units.particle / units.milliliter,\n    diameter=distribution.RosinRammler(200 * units.nanometer, spread=30),\n    refractive_index=distribution.Normal(1.44 * units.RIU, std_dev=0.002 * units.RIU)\n))\n\nscatterer_collection.dilute(factor=80)\n\nfluidics = Fluidics(\n    scatterer_collection=scatterer_collection,\n    flow_cell=flow_cell\n)"
      ]
    },
    {
      "cell_type": "markdown",
      "metadata": {},
      "source": [
        "## Step 2: Define Optical Subsystem\n\n"
      ]
    },
    {
      "cell_type": "code",
      "execution_count": null,
      "metadata": {
        "collapsed": false
      },
      "outputs": [],
      "source": [
        "from FlowCyPy.opto_electronics import source, Detector, TransimpedanceAmplifier, OptoElectronics\n\nsource = source.GaussianBeam(\n    numerical_aperture=0.1 * units.AU,\n    wavelength=450 * units.nanometer,\n    optical_power=200 * units.milliwatt,\n    RIN=-140\n)\n\ndetectors = [\n    Detector(name='forward', phi_angle=0 * units.degree,  numerical_aperture=0.3 * units.AU, responsivity=1 * units.ampere / units.watt),\n    Detector(name='side',    phi_angle=90 * units.degree, numerical_aperture=0.3 * units.AU, responsivity=1 * units.ampere / units.watt),\n    Detector(name='det 2',   phi_angle=30 * units.degree, numerical_aperture=0.3 * units.AU, responsivity=1 * units.ampere / units.watt),\n]\n\namplifier = TransimpedanceAmplifier(\n    gain=10 * units.volt / units.ampere,\n    bandwidth=10 * units.megahertz,\n    voltage_noise_density=0.1 * units.nanovolt / units.sqrt_hertz,\n    current_noise_density=0.2 * units.femtoampere / units.sqrt_hertz\n)\n\nopto_electronics = OptoElectronics(\n    detectors=detectors,\n    source=source,\n    amplifier=amplifier\n)"
      ]
    },
    {
      "cell_type": "markdown",
      "metadata": {},
      "source": [
        "## Step 3: Signal Processing Configuration\n\n"
      ]
    },
    {
      "cell_type": "code",
      "execution_count": null,
      "metadata": {
        "collapsed": false
      },
      "outputs": [],
      "source": [
        "from FlowCyPy.signal_processing import SignalProcessing, Digitizer, circuits, peak_locator, triggering_system\n\ndigitizer = Digitizer(\n    bit_depth='14bit',\n    saturation_levels='auto',\n    sampling_rate=60 * units.megahertz\n)\n\nanalog_processing = [\n    circuits.BaselineRestorator(window_size=10 * units.microsecond),\n    circuits.BesselLowPass(cutoff=2 * units.megahertz, order=4, gain=2)\n]\n\ntriggering = triggering_system.DynamicWindow(\n    trigger_detector_name='forward',\n    threshold=10 * units.microvolt,\n    pre_buffer=20,\n    post_buffer=20,\n    max_triggers=-1\n)\n\npeak_algo = peak_locator.GlobalPeakLocator(compute_width=False)\n\nsignal_processing = SignalProcessing(\n    digitizer=digitizer,\n    analog_processing=analog_processing,\n    triggering_system=triggering,\n    peak_algorithm=peak_algo\n)"
      ]
    },
    {
      "cell_type": "markdown",
      "metadata": {},
      "source": [
        "## Step 4: Run Simulation\n\n"
      ]
    },
    {
      "cell_type": "code",
      "execution_count": null,
      "metadata": {
        "collapsed": false
      },
      "outputs": [],
      "source": [
        "from FlowCyPy import FlowCytometer\n\ncytometer = FlowCytometer(\n    opto_electronics=opto_electronics,\n    fluidics=fluidics,\n    signal_processing=signal_processing,\n    background_power=0.001 * units.milliwatt\n)\n\nresults = cytometer.run(run_time=0.8 * units.millisecond)"
      ]
    },
    {
      "cell_type": "markdown",
      "metadata": {},
      "source": [
        "## Step 5: Plot Events and Raw Analog Signals\n\n"
      ]
    },
    {
      "cell_type": "code",
      "execution_count": null,
      "metadata": {
        "collapsed": false
      },
      "outputs": [],
      "source": [
        "_ = results.events.plot(x='side', y='forward', z='RefractiveIndex')\n\nresults.analog.normalize_units(signal_units='max')\n_ = results.analog.plot()"
      ]
    },
    {
      "cell_type": "markdown",
      "metadata": {},
      "source": [
        "## Step 6: Plot Triggered Analog Segments\n\n"
      ]
    },
    {
      "cell_type": "code",
      "execution_count": null,
      "metadata": {
        "collapsed": false
      },
      "outputs": [],
      "source": [
        "_ = results.triggered_analog.plot()"
      ]
    },
    {
      "cell_type": "markdown",
      "metadata": {},
      "source": [
        "## Step 7: Classify Events from Peak Features\n\n"
      ]
    },
    {
      "cell_type": "code",
      "execution_count": null,
      "metadata": {
        "collapsed": false
      },
      "outputs": [],
      "source": [
        "from FlowCyPy.classifier import KmeansClassifier\n\nclassifier = KmeansClassifier(number_of_cluster=2)\n\nclassified = classifier.run(\n    dataframe=results.peaks.unstack('Detector'),\n    features=['Height'],\n    detectors=['side', 'forward']\n)\n\n_ = classified.plot(\n    x=('side', 'Height'),\n    y=('forward', 'Height')\n)"
      ]
    }
  ],
  "metadata": {
    "kernelspec": {
      "display_name": "Python 3",
      "language": "python",
      "name": "python3"
    },
    "language_info": {
      "codemirror_mode": {
        "name": "ipython",
        "version": 3
      },
      "file_extension": ".py",
      "mimetype": "text/x-python",
      "name": "python",
      "nbconvert_exporter": "python",
      "pygments_lexer": "ipython3",
      "version": "3.11.13"
    }
  },
  "nbformat": 4,
  "nbformat_minor": 0
}