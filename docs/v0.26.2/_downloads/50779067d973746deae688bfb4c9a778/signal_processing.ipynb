{
  "cells": [
    {
      "cell_type": "markdown",
      "metadata": {},
      "source": [
        "\n# Signal Processing in Flow Cytometry\n\nThis example demonstrates how to apply signal processing techniques\nto flow cytometry data using FlowCyPy. The simulation is set up with a\nGaussian beam, a flow cell, and two detectors. A single population of scatterers\n(with delta distributions) is used, and the focus here is on processing the\nforward scatter detector signals. Three acquisitions are performed:\n\n- **Raw Signal:** No processing applied.\n- **Baseline Restored:** Using a baseline restorator.\n- **Bessel LowPass:** Using a Bessel low-pass filter.\n\nThe resulting signals are plotted for comparison.\n"
      ]
    },
    {
      "cell_type": "code",
      "execution_count": null,
      "metadata": {
        "collapsed": false
      },
      "outputs": [],
      "source": [
        "import numpy as np\nimport matplotlib.pyplot as plt\n\n# Import necessary components from FlowCyPy\nfrom FlowCyPy.fluidics import Fluidics, FlowCell, population, distribution, ScattererCollection\nfrom FlowCyPy.opto_electronics import OptoElectronics, source, TransimpedanceAmplifier, Detector\nfrom FlowCyPy.signal_processing import SignalProcessing, Digitizer, circuits, peak_locator, triggering_system\nfrom FlowCyPy import FlowCytometer, SimulationSettings, units\n\n\n# Enable noise settings if desired\nSimulationSettings.include_noises = True\n\n# Set random seed for reproducibility\nnp.random.seed(3)\n\n# Define the optical source: a Gaussian beam.\nsource = source.GaussianBeam(\n    numerical_aperture=0.3 * units.AU,            # Numerical aperture of the laser\n    wavelength=488 * units.nanometer,             # Laser wavelength: 488 nm\n    optical_power=100 * units.milliwatt           # Laser optical power: 100 mW\n)"
      ]
    },
    {
      "cell_type": "markdown",
      "metadata": {},
      "source": [
        "Define and plot the flow cell.\n\n"
      ]
    },
    {
      "cell_type": "code",
      "execution_count": null,
      "metadata": {
        "collapsed": false
      },
      "outputs": [],
      "source": [
        "flow_cell = FlowCell(\n    sample_volume_flow=0.02 * units.microliter / units.second,\n    sheath_volume_flow=0.1 * units.microliter / units.second,\n    width=20 * units.micrometer,\n    height=10 * units.micrometer,\n)\n\n# Create a scatterer collection with a single population.\n# For signal processing, we use delta distributions (i.e., no variability).\npopulation = population.Sphere(\n    name='Population',\n    particle_count=100 * units.particle,\n    diameter=distribution.Delta(position=150 * units.nanometer),\n    refractive_index=distribution.Delta(position=1.39 * units.RIU)\n)\nscatterer_collection = ScattererCollection(\n    medium_refractive_index=1.33 * units.RIU,\n    populations=[population]\n)\n\nfluidics = Fluidics(\n    scatterer_collection=scatterer_collection,\n    flow_cell=flow_cell\n)\n\nfluidics.plot(run_time=1.5 * units.millisecond)\n\n# Define the signal digitizer.\ndigitizer = Digitizer(\n    bit_depth='14bit',\n    saturation_levels='auto',\n    sampling_rate=60 * units.megahertz  # Sampling rate: 60 MHz\n)\n\n# Define two detectors.\ndetector_0 = Detector(\n    name='side',\n    phi_angle=90 * units.degree,\n    numerical_aperture=0.2 * units.AU,\n    responsivity=1 * units.ampere / units.watt,\n    dark_current=10 * units.microampere,\n)\n\ndetector_1 = Detector(\n    name='forward',\n    phi_angle=0 * units.degree,\n    numerical_aperture=0.2 * units.AU,\n    responsivity=1 * units.ampere / units.watt,\n    dark_current=1 * units.microampere,\n)\n\namplifier = TransimpedanceAmplifier(\n    gain=100 * units.volt / units.ampere,\n    bandwidth = 10 * units.megahertz\n)\n\nopto_electronics = OptoElectronics(\n    detectors=[detector_0, detector_1],\n    source=source,\n    amplifier=amplifier\n)\n\nsignal_processing = SignalProcessing(\n    digitizer=digitizer,\n    analog_processing=[],\n)\n\n# Setup the flow cytometer.\nflow_cytometer = FlowCytometer(\n    opto_electronics=opto_electronics,\n    fluidics=fluidics,\n    signal_processing=signal_processing,\n    background_power=2 * units.microwatt,\n)"
      ]
    },
    {
      "cell_type": "markdown",
      "metadata": {},
      "source": [
        "## Signal Processing: Acquisition with Different Processing Steps\n\n"
      ]
    },
    {
      "cell_type": "code",
      "execution_count": null,
      "metadata": {
        "collapsed": false
      },
      "outputs": [],
      "source": [
        "fig, ax = plt.subplots(1, 1, figsize=(12, 6))\nrun_time = 0.1 * units.millisecond\n\n# Acquisition 1: Raw Signal (no processing)\nsignal_processing.analog_processing = []\nresults = flow_cytometer.run(run_time=run_time)\nax.plot(\n    results.analog['Time'].pint.to('microsecond'),\n    results.analog['forward'].pint.to('millivolt'),\n    linestyle='-',\n    label='Raw Signal'\n)\n\n# Acquisition 2: Baseline Restoration\nsignal_processing.analog_processing = [circuits.BaselineRestorator(window_size=1000 * units.microsecond)]\nresults = flow_cytometer.run(run_time=run_time)\nax.plot(\n    results.analog['Time'].pint.to('microsecond'),\n    results.analog['forward'].pint.to('millivolt'),\n    linestyle='--',\n    label='Baseline Restored'\n)\n\n# Acquisition 3: Bessel LowPass Filter\nsignal_processing.analog_processing = [circuits.BesselLowPass(cutoff=3 * units.megahertz, order=4, gain=2)]\nresults = flow_cytometer.run(run_time=run_time)\nax.plot(\n    results.analog['Time'].pint.to('microsecond'),\n    results.analog['forward'].pint.to('millivolt'),\n    linestyle='-.',\n    label='Bessel LowPass'\n)\n\n# Configure the plot.\nax.set_title(\"Flow Cytometry Signal Processing\")\nax.set_xlabel(\"Time [microsecond]\")\nax.set_ylabel(\"Signal Amplitude [millivolt]\")\nax.legend()\nplt.tight_layout()\nplt.show()"
      ]
    }
  ],
  "metadata": {
    "kernelspec": {
      "display_name": "Python 3",
      "language": "python",
      "name": "python3"
    },
    "language_info": {
      "codemirror_mode": {
        "name": "ipython",
        "version": 3
      },
      "file_extension": ".py",
      "mimetype": "text/x-python",
      "name": "python",
      "nbconvert_exporter": "python",
      "pygments_lexer": "ipython3",
      "version": "3.11.13"
    }
  },
  "nbformat": 4,
  "nbformat_minor": 0
}