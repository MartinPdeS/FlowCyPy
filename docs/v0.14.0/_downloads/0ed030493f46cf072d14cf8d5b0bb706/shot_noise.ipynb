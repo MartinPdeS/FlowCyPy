{
  "cells": [
    {
      "cell_type": "markdown",
      "metadata": {},
      "source": [
        "\n# Shot noise\n\nThis example demonstrates the effect of different optical power levels on a flow cytometer detector.\nWe initialize the detector, apply varying optical power levels, and visualize the resulting signals\nand their distributions.\n"
      ]
    },
    {
      "cell_type": "code",
      "execution_count": null,
      "metadata": {
        "collapsed": false
      },
      "outputs": [],
      "source": [
        "import matplotlib.pyplot as plt\nfrom FlowCyPy.detector import Detector\nfrom FlowCyPy import units\nfrom FlowCyPy.signal_digitizer import SignalDigitizer\nimport numpy\nfrom FlowCyPy import NoiseSetting\n\nNoiseSetting.include_noises = True\nNoiseSetting.include_shot_noise = True\nNoiseSetting.include_dark_current_noise = False\nNoiseSetting.include_thermal_noise = False\nNoiseSetting.include_RIN_noise = False\n\n# Define optical power levels\noptical_powers = [1e-9 * units.watt, 2e-9 * units.watt, 4e-9 * units.watt]  # Powers in watts\n\nsignal_digitizer = SignalDigitizer(\n    bit_depth='14bit',\n    saturation_levels='auto',\n    sampling_rate=1e6 * units.hertz,        # Sampling frequency\n)\n\n# Create a figure for signal visualization\nfig, (ax_signal, ax_hist) = plt.subplots(2, 1, figsize=(10, 6), sharex=False)\n\n# Loop over the optical power levels\nfor optical_power in optical_powers:\n    # Initialize the detector\n    detector = Detector(\n        name=f\"{optical_power.magnitude:.1e} W\",\n        responsitivity=1 * units.ampere / units.watt,  # Responsitivity (current per power)\n        resistance=50 * units.ohm,              # Load resistance\n        numerical_aperture=0.2 * units.AU,      # Numerical aperture\n        phi_angle=0 * units.degree              # Detector orientation angle\n    )\n\n    detector.signal_digitizer = signal_digitizer\n\n    noise = detector.get_shot_noise(\n        signal = numpy.zeros(200) * units.volt,\n        optical_power=optical_power,\n        wavelength=1550 * units.nanometer\n    )\n\n    # Plot the raw signal on the first axis\n    ax_signal.step(numpy.arange(200), noise)\n\n    # Plot the histogram of the raw signal\n    ax_hist.hist(noise, bins=50, alpha=0.6, label=detector.name)\n\n# Customize the axes\nax_signal.set_title(\"Raw Signals at Different Optical Powers\")\nax_signal.set_ylabel(\"Signal Voltage (V)\")\nax_signal.legend()\n\nax_hist.set_title(\"Histogram of Raw Signals\")\nax_hist.set_xlabel(\"Signal Voltage (V)\")\nax_hist.set_ylabel(\"Frequency\")\nax_hist.legend()\n\n# Show the plots\nplt.tight_layout()\nplt.show()"
      ]
    }
  ],
  "metadata": {
    "kernelspec": {
      "display_name": "Python 3",
      "language": "python",
      "name": "python3"
    },
    "language_info": {
      "codemirror_mode": {
        "name": "ipython",
        "version": 3
      },
      "file_extension": ".py",
      "mimetype": "text/x-python",
      "name": "python",
      "nbconvert_exporter": "python",
      "pygments_lexer": "ipython3",
      "version": "3.11.11"
    }
  },
  "nbformat": 4,
  "nbformat_minor": 0
}