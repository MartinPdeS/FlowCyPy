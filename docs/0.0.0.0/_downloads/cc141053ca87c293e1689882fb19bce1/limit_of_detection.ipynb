{
  "cells": [
    {
      "cell_type": "markdown",
      "metadata": {},
      "source": [
        "\n# Limit of detection\n"
      ]
    },
    {
      "cell_type": "code",
      "execution_count": null,
      "metadata": {
        "collapsed": false
      },
      "outputs": [],
      "source": [
        "import numpy as np\nfrom FlowCyPy import FlowCytometer, ScattererCollection, Detector, GaussianBeam, FlowCell\nfrom FlowCyPy import units\nfrom FlowCyPy import NoiseSetting\nfrom FlowCyPy import Population, distribution\nfrom FlowCyPy.signal_digitizer import SignalDigitizer\nfrom FlowCyPy import peak_locator\n\nNoiseSetting.include_noises = True\nNoiseSetting.include_shot_noise = True\nNoiseSetting.include_RIN_noise = False\nNoiseSetting.include_dark_current_noise = False\nNoiseSetting.include_thermal_noise = False\n\nnp.random.seed(3)\n\nsource = GaussianBeam(\n    numerical_aperture=0.3 * units.AU,             # Numerical aperture of the laser: 0.3\n    wavelength=488 * units.nanometer,              # Laser wavelength: 800 nanometers\n    optical_power=100 * units.milliwatt             # Laser optical power: 10 milliwatts\n)\n\nflow_cell = FlowCell(\n    source=source,\n    volume_flow=0.3 * units.microliter / units.second,      # Flow volume speed: 10 microliter per second\n    flow_area=(10 * units.micrometer) ** 2,      # Flow area: 10 x 10 micrometers\n)\n\nscatterer_collection = ScattererCollection(medium_refractive_index=1.33 * units.RIU)  # Medium refractive index: 1.33\n\nfor size in [150, 100, 50, 30]:\n\n    population = Population(\n        name=f'{size} nanometer',\n        particle_count=20 * units.particle,\n        size=distribution.Delta(position=size * units.nanometer),\n        refractive_index=distribution.Delta(position=1.39 * units.RIU)\n    )\n\n    scatterer_collection.add_population(population)\n\nsignal_digitizer = SignalDigitizer(\n    bit_depth='14bit',\n    saturation_levels='auto',\n    sampling_rate=60 * units.megahertz,            # Sampling frequency: 60 MHz\n)\n\ndetector_0 = Detector(\n    name='side',                             # Detector name: Side scatter detector\n    phi_angle=90 * units.degree,                   # Angle: 90 degrees (Side Scatter)\n    numerical_aperture=.2 * units.AU,             # Numerical aperture: 1.2\n    responsitivity=1 * units.ampere / units.watt,        # Responsitivity: 1 ampere per watt\n    resistance=13000 * units.ohm,                     # Detector resistance: 50 ohms\n    dark_current=0.01 * units.milliampere,          # Dark current: 0.1 milliamps\n    temperature=300 * units.kelvin                 # Operating temperature: 300 Kelvin\n)\n\ndetector_1 = Detector(\n    name='forward',                          # Detector name: Forward scatter detector\n    phi_angle=0 * units.degree,                    # Angle: 0 degrees (Forward Scatter)\n    numerical_aperture=.2 * units.AU,             # Numerical aperture: 1.2\n    responsitivity=1 * units.ampere / units.watt,        # Responsitivity: 1 ampere per watt\n    resistance=13000 * units.ohm,                     # Detector resistance: 50 ohms\n    dark_current=0.01 * units.milliampere,          # Dark current: 0.1 milliamps\n    temperature=300 * units.kelvin                 # Operating temperature: 300 Kelvin\n)\n\ncytometer = FlowCytometer(\n    signal_digitizer=signal_digitizer,\n    scatterer_collection=scatterer_collection,\n    flow_cell=flow_cell,                     # Populations used in the experiment\n    background_power=0.0 * units.milliwatt,\n    detectors=[detector_0, detector_1]       # List of detectors: Side scatter and Forward scatter\n)\n\n# Run the flow cytometry simulation\nacquisition = cytometer.get_acquisition(run_time=0.2 * units.millisecond)\n\n# Visualize the scatter signals from both detectors\nacquisition.analog.plot()\n\ntrigger_acquisition = acquisition.run_triggering(\n    threshold=3 * units.millivolt,\n    trigger_detector_name='forward',\n    max_triggers=15,\n    pre_buffer=64,\n    post_buffer=64\n)\n\ntrigger_acquisition.analog.plot()\n\npeak_algorithm = peak_locator.BasicPeakLocator()\n\npeaks = trigger_acquisition.detect_peaks(peak_algorithm)\n\npeaks.plot(\n    x_detector='side',\n    y_detector='forward'\n)"
      ]
    }
  ],
  "metadata": {
    "kernelspec": {
      "display_name": "Python 3",
      "language": "python",
      "name": "python3"
    },
    "language_info": {
      "codemirror_mode": {
        "name": "ipython",
        "version": 3
      },
      "file_extension": ".py",
      "mimetype": "text/x-python",
      "name": "python",
      "nbconvert_exporter": "python",
      "pygments_lexer": "ipython3",
      "version": "3.11.11"
    }
  },
  "nbformat": 4,
  "nbformat_minor": 0
}