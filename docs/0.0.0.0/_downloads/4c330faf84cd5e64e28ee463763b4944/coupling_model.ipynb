{
  "cells": [
    {
      "cell_type": "markdown",
      "metadata": {},
      "source": [
        "\n# Flow Cytometry Workflow: Single Population Example\n\nThis tutorial demonstrates a basic flow cytometry simulation using the FlowCyPy library.\n\nThe example covers the configuration of:\n- A fluidic channel with hydrodynamic focusing\n- A synthetic particle population (Exosome + HDL)\n- A laser source and dual-detector optical system\n- Scattering intensity calculation per detector\n\nThe resulting data are visualized using event-based plots.\n\n## Workflow Steps:\n1. Define laser source and flow cell geometry\n2. Add synthetic particle populations\n3. Model optical scattering with two detectors\n4. Visualize population and scattering response\n"
      ]
    },
    {
      "cell_type": "markdown",
      "metadata": {},
      "source": [
        "## Step 0: Imports and Setup\n\n"
      ]
    },
    {
      "cell_type": "code",
      "execution_count": null,
      "metadata": {
        "collapsed": false
      },
      "outputs": [],
      "source": [
        "from TypedUnit import ureg\nfrom FlowCyPy.opto_electronics import source, TransimpedanceAmplifier\nfrom FlowCyPy.fluidics import Fluidics, FlowCell, ScattererCollection, population\nfrom FlowCyPy.detector import PMT\nfrom FlowCyPy.signal_processing import Digitizer\nfrom FlowCyPy import OptoElectronics"
      ]
    },
    {
      "cell_type": "markdown",
      "metadata": {},
      "source": [
        "## Step 1: Define Optical Source\n\n"
      ]
    },
    {
      "cell_type": "code",
      "execution_count": null,
      "metadata": {
        "collapsed": false
      },
      "outputs": [],
      "source": [
        "laser = source.GaussianBeam(\n    numerical_aperture=0.3 * ureg.AU,\n    wavelength=750 * ureg.nanometer,\n    optical_power=20 * ureg.milliwatt\n)"
      ]
    },
    {
      "cell_type": "markdown",
      "metadata": {},
      "source": [
        "## Step 2: Configure Flow Cell and Fluidics\n\n"
      ]
    },
    {
      "cell_type": "code",
      "execution_count": null,
      "metadata": {
        "collapsed": false
      },
      "outputs": [],
      "source": [
        "flow_cell = FlowCell(\n    sample_volume_flow=0.02 * ureg.microliter / ureg.second,\n    sheath_volume_flow=0.1 * ureg.microliter / ureg.second,\n    width=20 * ureg.micrometer,\n    height=10 * ureg.micrometer\n)\n\nscatterer_collection = ScattererCollection(medium_refractive_index=1.33 * ureg.RIU)\n\n# Add Exosome and HDL populations\nscatterer_collection.add_population(\n    population.Exosome(particle_count=5e10 * ureg.particle / ureg.milliliter),\n)\n\nfluidics = Fluidics(\n    scatterer_collection=scatterer_collection,\n    flow_cell=flow_cell\n)"
      ]
    },
    {
      "cell_type": "markdown",
      "metadata": {},
      "source": [
        "## Step 3: Generate Particle Event DataFrame\n\n"
      ]
    },
    {
      "cell_type": "code",
      "execution_count": null,
      "metadata": {
        "collapsed": false
      },
      "outputs": [],
      "source": [
        "event_dataframe = fluidics.generate_event_dataframe(run_time=3.5 * ureg.millisecond)\n\n# Plot the diameter distribution of the particles\nevent_dataframe.plot(x='Diameter', bins='auto')"
      ]
    },
    {
      "cell_type": "markdown",
      "metadata": {},
      "source": [
        "## Step 4: Define Detectors and Amplifier\n\n"
      ]
    },
    {
      "cell_type": "code",
      "execution_count": null,
      "metadata": {
        "collapsed": false
      },
      "outputs": [],
      "source": [
        "detector_forward = PMT(\n    name='forward',\n    phi_angle=0 * ureg.degree,\n    numerical_aperture=0.3 * ureg.AU\n)\n\ndetector_side = PMT(\n    name='side',\n    phi_angle=90 * ureg.degree,\n    numerical_aperture=0.3 * ureg.AU\n)\n\namplifier = TransimpedanceAmplifier(\n    gain=100 * ureg.volt / ureg.ampere,\n    bandwidth=10 * ureg.megahertz\n)"
      ]
    },
    {
      "cell_type": "markdown",
      "metadata": {},
      "source": [
        "## Step 5: Configure Digitizer and Opto-Electronics\n\n"
      ]
    },
    {
      "cell_type": "code",
      "execution_count": null,
      "metadata": {
        "collapsed": false
      },
      "outputs": [],
      "source": [
        "digitizer = Digitizer(\n    bit_depth='14bit',\n    saturation_levels='auto',\n    sampling_rate=60 * ureg.megahertz\n)\n\nopto_electronics = OptoElectronics(\n    detectors=[detector_forward, detector_side],\n    source=laser,\n    amplifier=amplifier\n)"
      ]
    },
    {
      "cell_type": "markdown",
      "metadata": {},
      "source": [
        "## Step 6: Model Scattering Signals\n\n"
      ]
    },
    {
      "cell_type": "code",
      "execution_count": null,
      "metadata": {
        "collapsed": false
      },
      "outputs": [],
      "source": [
        "event_dataframe = opto_electronics.model_event(\n    event_dataframe=event_dataframe,\n    compute_cross_section=True\n)"
      ]
    },
    {
      "cell_type": "markdown",
      "metadata": {},
      "source": [
        "## Step 7: Visualize Scattering Intensity\n\n"
      ]
    },
    {
      "cell_type": "code",
      "execution_count": null,
      "metadata": {
        "collapsed": false
      },
      "outputs": [],
      "source": [
        "event_dataframe.plot(\n    x='side',\n    y='Csca'  # Color-coded by scattering cross-section\n)"
      ]
    }
  ],
  "metadata": {
    "kernelspec": {
      "display_name": "Python 3",
      "language": "python",
      "name": "python3"
    },
    "language_info": {
      "codemirror_mode": {
        "name": "ipython",
        "version": 3
      },
      "file_extension": ".py",
      "mimetype": "text/x-python",
      "name": "python",
      "nbconvert_exporter": "python",
      "pygments_lexer": "ipython3",
      "version": "3.11.13"
    }
  },
  "nbformat": 4,
  "nbformat_minor": 0
}