{
  "cells": [
    {
      "cell_type": "markdown",
      "metadata": {},
      "source": [
        "\n# Dark Current\n\nThis example illustrates the impact of varying dark current levels on a flow cytometer detector signal.\nThe detector is initialized, dark current noise is applied, and the resulting signals are visualized\nalong with their distributions.\n"
      ]
    },
    {
      "cell_type": "code",
      "execution_count": null,
      "metadata": {
        "collapsed": false
      },
      "outputs": [],
      "source": [
        "import numpy\nimport matplotlib.pyplot as plt\nfrom TypedUnit import ureg\n\nfrom FlowCyPy.detector import Detector\nfrom FlowCyPy.signal_generator import SignalGenerator\nfrom FlowCyPy import SimulationSettings\n\nSimulationSettings.include_noises = True\nSimulationSettings.include_shot_noise = False\nSimulationSettings.include_dark_current_noise = True\nSimulationSettings.include_source_noise = False\n\n# Define dark current levels\ndark_currents = [1, 5, 10] * ureg.nanoampere  # Dark current levels in amperes"
      ]
    },
    {
      "cell_type": "markdown",
      "metadata": {},
      "source": [
        "Create a figure for signal visualization\n\n"
      ]
    },
    {
      "cell_type": "code",
      "execution_count": null,
      "metadata": {
        "collapsed": false
      },
      "outputs": [],
      "source": [
        "fig, (ax_signal, ax_hist) = plt.subplots(2, 1, figsize=(10, 6), sharex=False)\n\n# Loop over the dark current levels\nfor dark_current in dark_currents:\n    detector_name = f\"{dark_current.magnitude:.1e} A\"\n\n    signal_generator = SignalGenerator(n_elements=200, time_units=ureg.second, signal_units=ureg.ampere)\n\n    signal_generator.create_zero_signal(detector_name)\n\n    # Initialize the detector\n    detector = Detector(\n        name=detector_name,\n        responsivity=1 * ureg.ampere / ureg.watt,  # Responsitivity (current per power)\n        numerical_aperture=0.2 * ureg.AU,           # Numerical aperture\n        phi_angle=0 * ureg.degree,                  # Detector orientation angle\n        dark_current=dark_current                    # Dark current level\n    )\n\n    # Add dark current noise to the raw signal\n    detector.apply_dark_current_noise(\n        signal_generator=signal_generator,\n        bandwidth=10 * ureg.megahertz\n    )\n\n    noise_current = signal_generator.get_signal(detector_name)\n\n    # Plot the raw signal on the first axis\n    ax_signal.step(x=numpy.arange(200), y=noise_current)\n\n    # Plot the histogram of the raw signal\n    ax_hist.hist(noise_current, bins=50, alpha=0.6, label=detector.name)\n\n# Customize the axes\nax_signal.set_title(\"Raw Signals with Different Dark Current Levels\")\nax_signal.set_ylabel(\"Signal Voltage (A)\")\nax_signal.legend()\n\nax_hist.set_title(\"Histogram of Raw Signals\")\nax_hist.set_xlabel(\"Signal Voltage (A)\")\nax_hist.set_ylabel(\"Frequency\")\nax_hist.legend()\n\n\n# Show the plots\nplt.tight_layout()\n_ = plt.show()"
      ]
    }
  ],
  "metadata": {
    "kernelspec": {
      "display_name": "Python 3",
      "language": "python",
      "name": "python3"
    },
    "language_info": {
      "codemirror_mode": {
        "name": "ipython",
        "version": 3
      },
      "file_extension": ".py",
      "mimetype": "text/x-python",
      "name": "python",
      "nbconvert_exporter": "python",
      "pygments_lexer": "ipython3",
      "version": "3.11.13"
    }
  },
  "nbformat": 4,
  "nbformat_minor": 0
}