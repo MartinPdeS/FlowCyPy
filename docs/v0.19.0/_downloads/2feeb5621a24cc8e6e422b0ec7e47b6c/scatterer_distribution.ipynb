{
  "cells": [
    {
      "cell_type": "markdown",
      "metadata": {},
      "source": [
        "\n# Scatterer Collection\n\nThis script simulates a flow cytometer using the FlowCyPy library. It models light scattering from particles\ndetected by two detectors (Forward Scatter and Side Scatter) and visualizes the scattering intensities in a 2D hexbin plot.\n\nFlow cytometry is used to analyze the physical and chemical properties of particles as they flow through a laser beam.\n\n## Steps in the Workflow:\n1. Define the flow parameters (e.g., speed, area, and total simulation time).\n2. Create particle size and refractive index distributions.\n3. Set up a laser source and detectors.\n4. Simulate the flow cytometry experiment.\n5. Visualize the scattering intensity in a 2D hexbin plot.\n"
      ]
    },
    {
      "cell_type": "markdown",
      "metadata": {},
      "source": [
        "Import necessary libraries and modules\n\n"
      ]
    },
    {
      "cell_type": "code",
      "execution_count": null,
      "metadata": {
        "collapsed": false
      },
      "outputs": [],
      "source": [
        "from FlowCyPy import ScattererCollection\nfrom FlowCyPy import distribution, population\nfrom FlowCyPy.units import nanometer, RIU, particle, milliliter\nimport numpy as np\n\n# Set random seed for reproducibility\nnp.random.seed(20)\n\n\n# Step 1: Define Particle Size and Refractive Index Distributions\n# ---------------------------------------------------------------\n# Two particle populations are defined with different sizes and refractive indices.\nscatterer_collection = ScattererCollection(medium_refractive_index=1.33 * RIU)\n\npopulation_0 = population.Sphere(\n    name='EV',\n    particle_count=2e+9 * particle / milliliter,\n    diameter=distribution.RosinRammler(characteristic_property=50 * nanometer, spread=4.5),\n    refractive_index=distribution.Normal(mean=1.39 * RIU, std_dev=0.05 * RIU)\n)\n\npopulation_1 = population.Sphere(\n    name='LP',\n    particle_count=1e+10 * particle / milliliter,\n    diameter=distribution.RosinRammler(characteristic_property=200 * nanometer, spread=4.5),\n    refractive_index=distribution.Normal(mean=1.45 * RIU, std_dev=0.05 * RIU)\n)\n\nscatterer_collection.add_population(population_0, population_1)\n\n# Initialize the scatterer with the flow cell\ndf = scatterer_collection.get_population_dataframe(total_sampling=600, use_ratio=False)  # Visualize the particle population\n\ndf.plot(x='Diameter', bins='auto')"
      ]
    }
  ],
  "metadata": {
    "kernelspec": {
      "display_name": "Python 3",
      "language": "python",
      "name": "python3"
    },
    "language_info": {
      "codemirror_mode": {
        "name": "ipython",
        "version": 3
      },
      "file_extension": ".py",
      "mimetype": "text/x-python",
      "name": "python",
      "nbconvert_exporter": "python",
      "pygments_lexer": "ipython3",
      "version": "3.11.12"
    }
  },
  "nbformat": 4,
  "nbformat_minor": 0
}