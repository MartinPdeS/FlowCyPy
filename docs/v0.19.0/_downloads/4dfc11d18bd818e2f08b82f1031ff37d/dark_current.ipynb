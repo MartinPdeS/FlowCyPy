{
  "cells": [
    {
      "cell_type": "markdown",
      "metadata": {},
      "source": [
        "\n# Dark Current\n\nThis example illustrates the impact of varying dark current levels on a flow cytometer detector signal.\nThe detector is initialized, dark current noise is applied, and the resulting signals are visualized\nalong with their distributions.\n"
      ]
    },
    {
      "cell_type": "code",
      "execution_count": null,
      "metadata": {
        "collapsed": false
      },
      "outputs": [],
      "source": [
        "import matplotlib.pyplot as plt\nfrom FlowCyPy.detector import Detector\nfrom FlowCyPy import units\nfrom FlowCyPy import TransimpedanceAmplifier\nimport numpy\nfrom FlowCyPy import NoiseSetting\n\nNoiseSetting.include_noises = True\nNoiseSetting.include_shot_noise = False\nNoiseSetting.include_dark_current_noise = True\nNoiseSetting.include_source_noise = False\n\n# Define dark current levels\ndark_currents = [1e-9 * units.ampere, 5e-9 * units.ampere, 1e-8 * units.ampere]  # Dark current levels in amperes\n\n# Create a figure for signal visualization\nfig, (ax_signal, ax_hist) = plt.subplots(2, 1, figsize=(10, 6), sharex=False)\n\n# Loop over the dark current levels\nfor dark_current in dark_currents:\n    # Initialize the detector\n    detector = Detector(\n        name=f\"{dark_current.magnitude:.1e} A\",\n        responsivity=1 * units.ampere / units.watt,  # Responsitivity (current per power)\n        numerical_aperture=0.2 * units.AU,      # Numerical aperture\n        phi_angle=0 * units.degree,             # Detector orientation angle\n        dark_current=dark_current         # Dark current level\n    )\n\n    # Add dark current noise to the raw signal\n    noise_current = detector.get_dark_current_noise(sequence_length=200, bandwidth=10 * units.megahertz).to(units.ampere)\n\n    # Plot the raw signal on the first axis\n    ax_signal.step(x=numpy.arange(200), y=noise_current)\n\n    # Plot the histogram of the raw signal\n    ax_hist.hist(noise_current, bins=50, alpha=0.6, label=detector.name)\n\n# Customize the axes\nax_signal.set_title(\"Raw Signals with Different Dark Current Levels\")\nax_signal.set_ylabel(\"Signal Voltage (A)\")\nax_signal.legend()\n\nax_hist.set_title(\"Histogram of Raw Signals\")\nax_hist.set_xlabel(\"Signal Voltage (A)\")\nax_hist.set_ylabel(\"Frequency\")\nax_hist.legend()\n\n# Show the plots\nplt.tight_layout()\nplt.show()"
      ]
    }
  ],
  "metadata": {
    "kernelspec": {
      "display_name": "Python 3",
      "language": "python",
      "name": "python3"
    },
    "language_info": {
      "codemirror_mode": {
        "name": "ipython",
        "version": 3
      },
      "file_extension": ".py",
      "mimetype": "text/x-python",
      "name": "python",
      "nbconvert_exporter": "python",
      "pygments_lexer": "ipython3",
      "version": "3.11.12"
    }
  },
  "nbformat": 4,
  "nbformat_minor": 0
}