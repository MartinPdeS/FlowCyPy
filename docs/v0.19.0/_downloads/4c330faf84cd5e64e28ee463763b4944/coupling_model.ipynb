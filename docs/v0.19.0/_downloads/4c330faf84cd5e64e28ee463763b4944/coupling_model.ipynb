{
  "cells": [
    {
      "cell_type": "markdown",
      "metadata": {},
      "source": [
        "\n# Workflow\n\nThis tutorial demonstrates how to simulate a flow cytometry experiment using the FlowCyPy library.\nThe simulation involves configuring a flow setup, defining a single population of particles, and\nanalyzing scattering signals from two detectors to produce a 2D density plot of scattering intensities.\n\n## Overview:\n1. Configure the flow cell and particle population.\n2. Define the laser source and detector parameters.\n3. Simulate the flow cytometry experiment.\n4. Analyze the generated signals and visualize results.\n"
      ]
    },
    {
      "cell_type": "markdown",
      "metadata": {},
      "source": [
        "## Step 0: Import Necessary Libraries\nHere, we import the necessary libraries and units for the simulation. The units module helps us\ndefine physical quantities like meters, seconds, and watts in a concise and consistent manner.\n\n"
      ]
    },
    {
      "cell_type": "code",
      "execution_count": null,
      "metadata": {
        "collapsed": false
      },
      "outputs": [],
      "source": [
        "from FlowCyPy import units\nfrom FlowCyPy import ScattererCollection, FlowCell\nfrom FlowCyPy.population import Exosome, HDL\nfrom FlowCyPy import GaussianBeam, OptoElectronics, SignalDigitizer, PMT, TransimpedanceAmplifier\nfrom FlowCyPy import Fluidics\n\n\nsource = GaussianBeam(\n    numerical_aperture=0.3 * units.AU,\n    wavelength=200 * units.nanometer,\n    optical_power=20 * units.milliwatt\n)\n\nflow_cell = FlowCell(\n    sample_volume_flow=0.02 * units.microliter / units.second,\n    sheath_volume_flow=0.1 * units.microliter / units.second,\n    width=20 * units.micrometer,\n    height=10 * units.micrometer,\n)\n\nscatterer_collection = ScattererCollection(medium_refractive_index=1.33 * units.RIU)\n\n# Add an Exosome and HDL population\nscatterer_collection.add_population(\n    Exosome(particle_count=5e9 * units.particle / units.milliliter),\n    HDL(particle_count=5e9 * units.particle / units.milliliter)\n)\n\nscatterer_collection.dilute(factor=0.1)\n\nfluidics = Fluidics(\n    scatterer_collection=scatterer_collection,\n    flow_cell=flow_cell\n)\n\n\nevent_dataframe = fluidics.generate_event_dataframe(run_time=3.5 * units.millisecond)  # Visualize the particle population\n\nevent_dataframe.plot(x='Diameter', bins='auto')\n\ndigitizer = SignalDigitizer(\n    bit_depth='14bit',\n    saturation_levels='auto',\n    sampling_rate=60 * units.megahertz,\n)\n\ndetector_0 = PMT(name='forward', phi_angle=0 * units.degree, numerical_aperture=0.3 * units.AU)\n\ndetector_1 = PMT(name='side', phi_angle=90 * units.degree, numerical_aperture=0.3 * units.AU)\n\namplifier = TransimpedanceAmplifier(\n    gain=100 * units.volt / units.ampere,\n    bandwidth = 10 * units.megahertz\n)\n\nopto_electronics = OptoElectronics(\n    detectors=[detector_0, detector_1],\n    digitizer=digitizer,\n    source=source,\n    amplifier=amplifier\n)\n\nevent_dataframe = opto_electronics.model_event(\n    event_dataframe=event_dataframe,\n    compute_cross_section=True\n)\n\nevent_dataframe.plot(\n    x='side',\n    y='forward',\n    z='Csca'\n)"
      ]
    }
  ],
  "metadata": {
    "kernelspec": {
      "display_name": "Python 3",
      "language": "python",
      "name": "python3"
    },
    "language_info": {
      "codemirror_mode": {
        "name": "ipython",
        "version": 3
      },
      "file_extension": ".py",
      "mimetype": "text/x-python",
      "name": "python",
      "nbconvert_exporter": "python",
      "pygments_lexer": "ipython3",
      "version": "3.11.12"
    }
  },
  "nbformat": 4,
  "nbformat_minor": 0
}