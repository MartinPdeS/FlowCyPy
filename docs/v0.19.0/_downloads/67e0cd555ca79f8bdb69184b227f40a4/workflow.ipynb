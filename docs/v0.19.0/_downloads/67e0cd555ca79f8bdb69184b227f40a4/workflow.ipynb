{
  "cells": [
    {
      "cell_type": "markdown",
      "metadata": {},
      "source": [
        "\n# Workflow\n\nThis tutorial demonstrates how to simulate a flow cytometry experiment using the FlowCyPy library.\nThe simulation involves configuring a flow setup, defining a single population of particles, and\nanalyzing scattering signals from two detectors to produce a 2D density plot of scattering intensities.\n\n## Overview:\n1. Configure the flow cell and particle population.\n2. Define the laser source and detector parameters.\n3. Simulate the flow cytometry experiment.\n4. Analyze the generated signals and visualize results.\n"
      ]
    },
    {
      "cell_type": "markdown",
      "metadata": {},
      "source": [
        "## Step 0: Import Necessary Libraries\nHere, we import the necessary libraries and units for the simulation. The units module helps us\ndefine physical quantities like meters, seconds, and watts in a concise and consistent manner.\n\n"
      ]
    },
    {
      "cell_type": "code",
      "execution_count": null,
      "metadata": {
        "collapsed": false
      },
      "outputs": [],
      "source": [
        "import numpy as np\nfrom FlowCyPy import units"
      ]
    },
    {
      "cell_type": "markdown",
      "metadata": {},
      "source": [
        "## Step 1: Configure Noise Settings\nNoise settings are configured to simulate real-world imperfections. In this example, we include noise\nglobally but exclude specific types, such as shot noise and thermal noise.\n\n"
      ]
    },
    {
      "cell_type": "code",
      "execution_count": null,
      "metadata": {
        "collapsed": false
      },
      "outputs": [],
      "source": [
        "from FlowCyPy import NoiseSetting\n\nNoiseSetting.include_noises = True\nNoiseSetting.include_shot_noise = True\nNoiseSetting.include_dark_current_noise = True\nNoiseSetting.include_source_noise = True\nNoiseSetting.include_amplifier_noise = True\nNoiseSetting.assume_perfect_hydrodynamic_focusing = True\n\nnp.random.seed(3)  # Ensure reproducibility"
      ]
    },
    {
      "cell_type": "markdown",
      "metadata": {},
      "source": [
        "## Step 2: Configure the Laser Source\nThe laser source generates light that interacts with the particles. Its parameters, like numerical\naperture and wavelength, affect how light scatters, governed by Mie theory.\n\n"
      ]
    },
    {
      "cell_type": "code",
      "execution_count": null,
      "metadata": {
        "collapsed": false
      },
      "outputs": [],
      "source": [
        "from FlowCyPy import GaussianBeam\n\nsource = GaussianBeam(\n    numerical_aperture=0.1 * units.AU,           # Numerical aperture\n    wavelength=450 * units.nanometer,           # Wavelength\n    optical_power=200 * units.milliwatt,          # Optical power\n    RIN=-140\n)"
      ]
    },
    {
      "cell_type": "markdown",
      "metadata": {},
      "source": [
        "## Step 3: Set Up the Flow Cell\nThe flow cell models the movement of particles in the cytometer. For example, the volume of fluid\npassing through the cross-sectional area is calculated as:\n\n\\begin{align}\\text{Flow Volume} = \\text{Flow Speed} \\times \\text{Flow Area} \\times \\text{Run Time}\\end{align}\n\n"
      ]
    },
    {
      "cell_type": "code",
      "execution_count": null,
      "metadata": {
        "collapsed": false
      },
      "outputs": [],
      "source": [
        "from FlowCyPy.flow_cell import FlowCell\n\nflow_cell = FlowCell(\n    sample_volume_flow=80 * units.microliter / units.minute,\n    sheath_volume_flow=1 * units.milliliter / units.minute,\n    width=100 * units.micrometer,\n    height=100 * units.micrometer,\n)\n\nflow_cell.plot(n_samples=300)"
      ]
    },
    {
      "cell_type": "markdown",
      "metadata": {},
      "source": [
        "## Step 4: Define ScattererCollection and Population\nThe scatterer represents particles in the flow. The concentration of particles in the flow cell is\ngiven by:\n\n\\begin{align}\\text{Concentration} = \\frac{\\text{Number of Particles}}{\\text{Volume of Flow}}\\end{align}\n\n"
      ]
    },
    {
      "cell_type": "code",
      "execution_count": null,
      "metadata": {
        "collapsed": false
      },
      "outputs": [],
      "source": [
        "from FlowCyPy import ScattererCollection\nfrom FlowCyPy.population import Exosome, Sphere, distribution\n\nscatterer_collection = ScattererCollection(medium_refractive_index=1.33 * units.RIU)\n\nexosome = Exosome(particle_count=5e9 * units.particle / units.milliliter)\n\ncustom_population = Sphere(\n    name='Pop 0',\n    particle_count=5e9 * units.particle / units.milliliter,\n    diameter=distribution.RosinRammler(characteristic_property=150 * units.nanometer, spread=30),\n    refractive_index=distribution.Normal(mean=1.44 * units.RIU, std_dev=0.002 * units.RIU)\n)\n\n# Add an Exosome population\nscatterer_collection.add_population(custom_population)\n\nscatterer_collection.dilute(factor=8)\n\n# Initialize the scatterer with the flow cell\ndf = scatterer_collection.get_population_dataframe(total_sampling=600, use_ratio=False)  # Visualize the particle population\n\ndf.plot(x='Diameter', bins='auto')"
      ]
    },
    {
      "cell_type": "markdown",
      "metadata": {},
      "source": [
        "## Step 5: Define Detectors\nDetectors measure light intensity. Parameters like responsivity define the conversion of optical\npower to electronic signals, and saturation level represents the maximum signal they can handle.\n\n"
      ]
    },
    {
      "cell_type": "code",
      "execution_count": null,
      "metadata": {
        "collapsed": false
      },
      "outputs": [],
      "source": [
        "from FlowCyPy.detector import Detector\nfrom FlowCyPy.signal_digitizer import SignalDigitizer\nfrom FlowCyPy.amplifier import TransimpedanceAmplifier\n\ndigitizer = SignalDigitizer(\n    bit_depth='14bit',\n    saturation_levels='auto',\n    sampling_rate=60 * units.megahertz,\n)\n\ndetector_0 = Detector(\n    name='forward',\n    phi_angle=0 * units.degree,                  # Forward scatter angle\n    numerical_aperture=0.3 * units.AU,\n    responsivity=1 * units.ampere / units.watt,\n)\n\ndetector_1 = Detector(\n    name='side',\n    phi_angle=90 * units.degree,                 # Side scatter angle\n    numerical_aperture=0.3 * units.AU,\n    responsivity=1 * units.ampere / units.watt,\n)\n\ndetector_2 = Detector(\n    name='det_2',\n    phi_angle=30 * units.degree,                 # Side scatter angle\n    numerical_aperture=0.3 * units.AU,\n    responsivity=1 * units.ampere / units.watt,\n)\n\namplifier = TransimpedanceAmplifier(\n    gain=10 * units.volt / units.ampere,\n    bandwidth=10 * units.megahertz,\n    voltage_noise_density=.1 * units.nanovolt / units.sqrt_hertz,\n    current_noise_density=.2 * units.femtoampere / units.sqrt_hertz\n)"
      ]
    },
    {
      "cell_type": "markdown",
      "metadata": {},
      "source": [
        "## Step 6: Simulate Flow Cytometry Experiment\nThe FlowCytometer combines all components to simulate scattering. The interaction between light\nand particles follows Mie theory:\n\n\\begin{align}\\sigma_s = \\frac{2 \\pi}{k} \\sum_{n=1}^\\infty (2n + 1) (\\lvert a_n \\rvert^2 + \\lvert b_n \\rvert^2)\\end{align}\n\n"
      ]
    },
    {
      "cell_type": "code",
      "execution_count": null,
      "metadata": {
        "collapsed": false
      },
      "outputs": [],
      "source": [
        "from FlowCyPy import FlowCytometer, circuits\n\ncytometer = FlowCytometer(\n    source=source,\n    transimpedance_amplifier=amplifier,\n    scatterer_collection=scatterer_collection,\n    digitizer=digitizer,\n    detectors=[detector_0, detector_1, detector_2],\n    flow_cell=flow_cell,\n    background_power=0.001 * units.milliwatt\n)\n\nprocessing_steps = [\n    circuits.BaselineRestorator(window_size=10 * units.microsecond),\n    circuits.BesselLowPass(cutoff=2 * units.megahertz, order=4, gain=2)\n]\n\n# Run the flow cytometry simulation\ncytometer.prepare_acquisition(run_time=0.5 * units.millisecond)\nacquisition = cytometer.get_acquisition(processing_steps=processing_steps)\nacquisition.normalize_units(time_units='max', signal_units='max')\n\n_ = acquisition.scatterer.plot(\n    x='side',\n    y='forward',\n    z='RefractiveIndex'\n)"
      ]
    },
    {
      "cell_type": "markdown",
      "metadata": {},
      "source": [
        "Visualize the scatter signals from both detectors\n\n"
      ]
    },
    {
      "cell_type": "code",
      "execution_count": null,
      "metadata": {
        "collapsed": false
      },
      "outputs": [],
      "source": [
        "acquisition.plot()"
      ]
    },
    {
      "cell_type": "markdown",
      "metadata": {},
      "source": [
        "## Step 7: Analyze Detected Signals\nThe Peak algorithm detects peaks in signals by analyzing local maxima within a defined\nwindow size and threshold.\n\n"
      ]
    },
    {
      "cell_type": "code",
      "execution_count": null,
      "metadata": {
        "collapsed": false
      },
      "outputs": [],
      "source": [
        "from FlowCyPy.triggering_system import TriggeringSystem, Scheme\n\ntrigger = TriggeringSystem(\n    dataframe=acquisition,\n    trigger_detector_name='forward',\n    max_triggers=-1,\n    pre_buffer=20,\n    post_buffer=20,\n    digitizer=digitizer\n)\n\nanalog_triggered = trigger.run(\n    scheme=Scheme.DYNAMIC,\n    threshold=10 * units.microvolt\n)\n\nanalog_triggered.plot()"
      ]
    },
    {
      "cell_type": "markdown",
      "metadata": {},
      "source": [
        "Getting and plotting the extracted peaks.\n\n"
      ]
    },
    {
      "cell_type": "code",
      "execution_count": null,
      "metadata": {
        "collapsed": false
      },
      "outputs": [],
      "source": [
        "from FlowCyPy import peak_locator\npeak_algorithm = peak_locator.GlobalPeakLocator(compute_width=False)\n\ndigital_signal = analog_triggered.digitalize(digitizer=digitizer)\n\npeaks = peak_algorithm.run(digital_signal)\n\npeaks.plot(\n    x=('side', 'Height'),\n    y=('forward', 'Height')\n)"
      ]
    },
    {
      "cell_type": "markdown",
      "metadata": {},
      "source": [
        "Step 8: Classifying the collected dataset\n\n"
      ]
    },
    {
      "cell_type": "code",
      "execution_count": null,
      "metadata": {
        "collapsed": false
      },
      "outputs": [],
      "source": [
        "from FlowCyPy.classifier import KmeansClassifier\n\nclassifier = KmeansClassifier(number_of_cluster=2)\n\ndata = classifier.run(\n    dataframe=peaks.unstack('Detector'),\n    features=['Height'],\n    detectors=['side', 'forward']\n)\n\n_ = data.plot(\n    x=('side', 'Height'),\n    y=('forward', 'Height')\n)"
      ]
    }
  ],
  "metadata": {
    "kernelspec": {
      "display_name": "Python 3",
      "language": "python",
      "name": "python3"
    },
    "language_info": {
      "codemirror_mode": {
        "name": "ipython",
        "version": 3
      },
      "file_extension": ".py",
      "mimetype": "text/x-python",
      "name": "python",
      "nbconvert_exporter": "python",
      "pygments_lexer": "ipython3",
      "version": "3.11.12"
    }
  },
  "nbformat": 4,
  "nbformat_minor": 0
}