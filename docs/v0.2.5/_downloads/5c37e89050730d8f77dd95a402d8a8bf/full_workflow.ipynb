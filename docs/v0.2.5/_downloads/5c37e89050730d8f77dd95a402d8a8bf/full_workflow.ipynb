{
  "cells": [
    {
      "cell_type": "markdown",
      "metadata": {},
      "source": [
        "\n# Simulating and Analyzing Flow Cytometer Signals\n\nThis script simulates flow cytometer signals using the `FlowCytometer` class and analyzes the results using\nthe `PulseAnalyzer` class from the FlowCyPy library. The signals generated (forward scatter and side scatter)\nprovide insights into the physical properties of particles passing through the laser beam.\n\n## Workflow:\n1. Define a particle size distribution using `Scatterer`.\n2. Simulate flow cytometer signals using `FlowCytometer`.\n3. Analyze the forward scatter signal with `PulseAnalyzer` to extract features like peak height, width, and area.\n4. Visualize the generated signals and display the extracted pulse features.\n"
      ]
    },
    {
      "cell_type": "markdown",
      "metadata": {},
      "source": [
        "Step 1: Import necessary modules from FlowCyPy\n\n"
      ]
    },
    {
      "cell_type": "code",
      "execution_count": null,
      "metadata": {
        "collapsed": false
      },
      "outputs": [],
      "source": [
        "from FlowCyPy import FlowCytometer, Scatterer, Detector, Source, FlowCell\nfrom FlowCyPy import distribution\nfrom FlowCyPy.population import Population\nfrom FlowCyPy.units import nanometer, millisecond, meter, micrometer, second, RIU, milliliter, particle, millivolt, watt, megahertz, degree, ampere, milliwatt, AU"
      ]
    },
    {
      "cell_type": "markdown",
      "metadata": {},
      "source": [
        "## Step 2: Define flow parameters\nSet the flow speed to 80 micrometers per second and a flow area of 1 square micrometer, with a total simulation time of 1 second.\n\n"
      ]
    },
    {
      "cell_type": "code",
      "execution_count": null,
      "metadata": {
        "collapsed": false
      },
      "outputs": [],
      "source": [
        "flow_cell = FlowCell(\n    flow_speed=7.56 * meter / second,        # Flow speed: 7.56 meters per second\n    flow_area=(20 * micrometer) ** 2,        # Flow area: 10 x 10 micrometers\n    run_time=0.5 * millisecond             # Total simulation time: 0.3 milliseconds\n)"
      ]
    },
    {
      "cell_type": "markdown",
      "metadata": {},
      "source": [
        "## Step 3: Define the particle size distribution\nUse a normal size distribution with a mean size of 200 nanometers and a standard deviation of 10 nanometers.\nThis represents the population of scatterers (particles) that will interact with the laser source.\n\n"
      ]
    },
    {
      "cell_type": "code",
      "execution_count": null,
      "metadata": {
        "collapsed": false
      },
      "outputs": [],
      "source": [
        "ev_size = distribution.Normal(\n    mean=200 * nanometer,       # Mean particle size: 200 nanometers\n    std_dev=10 * nanometer      # Standard deviation: 10 nanometers\n)\n\nev_ri = distribution.Normal(\n    mean=1.39 * RIU,    # Mean refractive index: 1.39\n    std_dev=0.01 * RIU  # Standard deviation: 0.01\n)\n\nev = Population(\n    size=ev_size,               # Particle size distribution\n    refractive_index=ev_ri,     # Refractive index distribution\n    concentration=1.8e+9 * particle / milliliter,  # Particle concentration: 1.8 million particles per milliliter\n    name='EV'                   # Name of the particle population: Extracellular Vesicles (EV)\n)\n\nscatterer = Scatterer(populations=[ev])\n\nscatterer.initialize(flow_cell=flow_cell)\n\n# Plot the scatterer distribution\nscatterer.plot()"
      ]
    },
    {
      "cell_type": "markdown",
      "metadata": {},
      "source": [
        "## Step 4: Define the laser source\nSet up a laser source with a wavelength of 1550 nm, optical power of 200 mW, and a numerical aperture of 0.3.\n\n"
      ]
    },
    {
      "cell_type": "code",
      "execution_count": null,
      "metadata": {
        "collapsed": false
      },
      "outputs": [],
      "source": [
        "source = Source(\n    numerical_aperture=0.3 * AU,  # Numerical aperture: 0.3\n    wavelength=800 * nanometer,   # Laser wavelength: 800 nm\n    optical_power=20 * milliwatt  # Optical power: 20 milliwatts\n)\n\n# Step 5: Define the detector\n# ---------------------------\n# The detector captures the scattered light. It is positioned at 90 degrees relative to the incident light beam\n# and configured with a numerical aperture of 0.4 and responsitivity of 1.\ndetector_0 = Detector(\n    phi_angle=90 * degree,              # Detector angle: 90 degrees (Side Scatter)\n    numerical_aperture=0.4 * AU,        # Numerical aperture of the detector\n    name='first detector',              # Detector name\n    responsitivity=1 * ampere / watt,   # Responsitivity of the detector (light to signal conversion efficiency)\n    sampling_freq=1 * megahertz,        # Sampling frequency: 10,000 Hz\n    saturation_level=40 * millivolt,    # Saturation level: Large enough to avoid saturation\n    n_bins='14bit'                      # Number of bins for signal discretization: 1024\n)\n\ndetector_1 = Detector(\n    phi_angle=0 * degree,               # Detector angle: 90 degrees (Sid e Scatter)\n    numerical_aperture=0.4 * AU,        # Numerical aperture of the detector\n    name='second detector',             # Detector name\n    responsitivity=1 * ampere / watt,   # Responsitivity of the detector (light to signal conversion efficiency)\n    sampling_freq=2 * megahertz,        # Sampling frequency: 10,000 Hz\n    saturation_level=40 * millivolt,    # Saturation level: Large enough to avoid saturation\n    n_bins='14bit',                     # Number of bins for signal discretization: 1024\n    include_shot_noise=False\n)\n\n# Step 6: Simulate Flow Cytometer Signals\n# ---------------------------------------\n# Create a FlowCytometer instance to simulate the signals generated as particles pass through the laser beam.\ncytometer = FlowCytometer(\n    coupling_mechanism='mie',           # Scattering model: Empirical (Rayleigh scattering for small particles)\n    source=source,                      # Laser source\n    scatterer=scatterer,                # Particle size distribution\n    detectors=[detector_0, detector_1]  # List of detectors used in the simulation\n)\n\n# Simulate the pulse signals generated from the interaction between particles and the laser.\ncytometer.simulate_pulse()"
      ]
    },
    {
      "cell_type": "markdown",
      "metadata": {},
      "source": [
        "## Step 7: Analyze and Visualize Results\nDisplay the properties of the simulated cytometer setup, including flow speed and laser power.\n\n"
      ]
    },
    {
      "cell_type": "code",
      "execution_count": null,
      "metadata": {
        "collapsed": false
      },
      "outputs": [],
      "source": [
        "cytometer.print_properties()\n\n# Plot the simulated signals for the detector.\ncytometer.plot()\n\n\"\"\"\nSummary:\n--------\nThis script simulates flow cytometer signals, processes them to detect peaks in the forward scatter channel,\nand extracts important features. The process is visualized through signal plots, and key properties are displayed.\n\"\"\""
      ]
    }
  ],
  "metadata": {
    "kernelspec": {
      "display_name": "Python 3",
      "language": "python",
      "name": "python3"
    },
    "language_info": {
      "codemirror_mode": {
        "name": "ipython",
        "version": 3
      },
      "file_extension": ".py",
      "mimetype": "text/x-python",
      "name": "python",
      "nbconvert_exporter": "python",
      "pygments_lexer": "ipython3",
      "version": "3.11.0"
    }
  },
  "nbformat": 4,
  "nbformat_minor": 0
}