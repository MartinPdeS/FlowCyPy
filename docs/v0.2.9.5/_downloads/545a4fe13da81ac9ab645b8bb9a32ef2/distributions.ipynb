{
  "cells": [
    {
      "cell_type": "markdown",
      "metadata": {},
      "source": [
        "\n# Particle Size Distribution Visualization\n\nThis script demonstrates how to visualize various particle size distributions from the FlowCyPy library.\nIt generates and plots particle sizes based on different statistical distributions, such as Normal, LogNormal, Weibull, and more.\n\nWorkflow Summary:\n1. Initialize particle size distributions (Normal, LogNormal, Rosin-Rammler, Weibull, Delta, Uniform).\n2. Generate random particle sizes for each distribution.\n3. Plot the histograms of each distribution to visualize the spread of particle sizes.\n\nDistributions Covered:\n- Normal Distribution: Sizes follow a normal (Gaussian) distribution.\n- LogNormal Distribution: Sizes follow a log-normal distribution.\n- Rosin-Rammler Distribution: Skewed distribution commonly used for particle size modeling.\n- Weibull Distribution: Flexible distribution used in particle modeling.\n- Delta Distribution: All particles are of a fixed size.\n- Uniform Distribution: Sizes are uniformly distributed between a minimum and maximum value.\n"
      ]
    },
    {
      "cell_type": "markdown",
      "metadata": {},
      "source": [
        "Import necessary libraries\n\n"
      ]
    },
    {
      "cell_type": "code",
      "execution_count": null,
      "metadata": {
        "collapsed": false
      },
      "outputs": [],
      "source": [
        "import numpy as np\nimport matplotlib.pyplot as plt\nfrom FlowCyPy import distribution\nfrom FlowCyPy.units import nanometer, particle\n\n# Set random seed for reproducibility\nnp.random.seed(3)\n\n# Define the number of particles to generate\nn_particles = 10000 * particle\n\n# Initialize subplots for the distribution plots\nfig, axes = plt.subplots(3, 2, figsize=(12, 10))\naxes = axes.ravel()\n\n# 1. Normal Distribution\nnormal_dist = distribution.Normal(mean=100 * nanometer, std_dev=10 * nanometer)\nnormal_sizes = normal_dist.generate(n_particles)\naxes[0].hist(normal_sizes, bins=50, color='skyblue', edgecolor='black')\naxes[0].set_title('Normal Distribution')\naxes[0].set_xlabel('Size (nm)')\naxes[0].set_ylabel('Frequency')\n\n# 2. LogNormal Distribution\nlognormal_dist = distribution.LogNormal(mean=100 * nanometer, std_dev=0.25 * nanometer)\nlognormal_sizes = lognormal_dist.generate(n_particles)\naxes[1].hist(lognormal_sizes, bins=50, color='lightgreen', edgecolor='black')\naxes[1].set_title('LogNormal Distribution')\naxes[1].set_xlabel('Size (nm)')\naxes[1].set_ylabel('Frequency')\n\n# 3. Rosin-Rammler Distribution\nrosinrammler_dist = distribution.RosinRammler(characteristic_size=50 * nanometer, spread=2.0)\nrosinrammler_sizes = rosinrammler_dist.generate(n_particles)\naxes[2].hist(rosinrammler_sizes, bins=50, color='lightcoral', edgecolor='black')\naxes[2].set_title('Rosin-Rammler Distribution')\naxes[2].set_xlabel('Size (nm)')\naxes[2].set_ylabel('Frequency')\n\n# 4. Weibull Distribution\nweibull_dist = distribution.Weibull(scale=50 * nanometer, shape=1.5 * nanometer)\nweibull_sizes = weibull_dist.generate(n_particles)\naxes[3].hist(weibull_sizes, bins=50, color='lightpink', edgecolor='black')\naxes[3].set_title('Weibull Distribution')\naxes[3].set_xlabel('Size (nm)')\naxes[3].set_ylabel('Frequency')\n\n# 5. Delta Distribution\ndelta_dist = distribution.Delta(position=100 * nanometer)\ndelta_sizes = delta_dist.generate(n_particles)\naxes[4].hist(delta_sizes, bins=50, color='lightyellow', edgecolor='black')\naxes[4].set_title('Delta Distribution')\naxes[4].set_xlabel('Size (nm)')\naxes[4].set_ylabel('Frequency')\n\n# 6. Uniform Distribution\nuniform_dist = distribution.Uniform(lower_bound=50 * nanometer, upper_bound=150 * nanometer)\nuniform_sizes = uniform_dist.generate(n_particles)\naxes[5].hist(uniform_sizes, bins=50, color='lightgray', edgecolor='black')\naxes[5].set_title('Uniform Distribution')\naxes[5].set_xlabel('Size (nm)')\naxes[5].set_ylabel('Frequency')\n\n# Adjust layout\nplt.tight_layout()\nplt.show()"
      ]
    }
  ],
  "metadata": {
    "kernelspec": {
      "display_name": "Python 3",
      "language": "python",
      "name": "python3"
    },
    "language_info": {
      "codemirror_mode": {
        "name": "ipython",
        "version": 3
      },
      "file_extension": ".py",
      "mimetype": "text/x-python",
      "name": "python",
      "nbconvert_exporter": "python",
      "pygments_lexer": "ipython3",
      "version": "3.11.0"
    }
  },
  "nbformat": 4,
  "nbformat_minor": 0
}