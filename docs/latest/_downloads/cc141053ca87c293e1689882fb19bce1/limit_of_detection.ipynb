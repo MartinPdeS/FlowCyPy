{
  "cells": [
    {
      "cell_type": "markdown",
      "metadata": {},
      "source": [
        "\n# Limit of detection\n"
      ]
    },
    {
      "cell_type": "code",
      "execution_count": null,
      "metadata": {
        "collapsed": false
      },
      "outputs": [],
      "source": [
        "import numpy as np\nfrom FlowCyPy import FlowCytometer, ScattererCollection, Detector, GaussianBeam, TransimpedanceAmplifier\nfrom FlowCyPy.flow_cell import FlowCell\nfrom FlowCyPy import units\nfrom FlowCyPy import NoiseSetting\nfrom FlowCyPy.population import Sphere\nfrom FlowCyPy import distribution\nfrom FlowCyPy.signal_digitizer import SignalDigitizer\nfrom FlowCyPy import peak_locator\nfrom FlowCyPy.triggering_system import DynamicWindow\nfrom FlowCyPy import circuits\nfrom FlowCyPy import OptoElectronics, Fluidics\n\nNoiseSetting.include_noises = True\nNoiseSetting.include_shot_noise = True\nNoiseSetting.include_source_noise = False\nNoiseSetting.include_dark_current_noise = False\n\nnp.random.seed(3)\n\nsource = GaussianBeam(\n    numerical_aperture=0.3 * units.AU,             # Numerical aperture of the laser: 0.3\n    wavelength=488 * units.nanometer,              # Laser wavelength: 800 nanometers\n    optical_power=100 * units.milliwatt             # Laser optical power: 10 milliwatts\n)\n\nflow_cell = FlowCell(\n    sample_volume_flow=0.02 * units.microliter / units.second,        # Flow speed: 10 microliter per second\n    sheath_volume_flow=0.1 * units.microliter / units.second,        # Flow speed: 10 microliter per second\n    width=20 * units.micrometer,        # Flow area: 10 x 10 micrometers\n    height=10 * units.micrometer,        # Flow area: 10 x 10 micrometers\n)\n\nscatterer_collection = ScattererCollection(medium_refractive_index=1.33 * units.RIU)  # Medium refractive index: 1.33\n\nfor size in [150, 100, 50, 30]:\n\n    population = Sphere(\n        name=f'{size} nanometer',\n        particle_count=20 * units.particle,\n        diameter=distribution.Delta(position=size * units.nanometer),\n        refractive_index=distribution.Delta(position=1.39 * units.RIU)\n    )\n\n    scatterer_collection.add_population(population)\n\n\nfluidics = Fluidics(\n    scatterer_collection=scatterer_collection,\n    flow_cell=flow_cell\n)\n\ndigitizer = SignalDigitizer(\n    bit_depth='14bit',\n    saturation_levels='auto',\n    sampling_rate=60 * units.megahertz,            # Sampling frequency: 60 MHz\n)\n\ndetector_0 = Detector(\n    name='side',                             # Detector name: Side scatter detector\n    phi_angle=90 * units.degree,                   # Angle: 90 degrees (Side Scatter)\n    numerical_aperture=.2 * units.AU,             # Numerical aperture: 1.2\n    responsivity=1 * units.ampere / units.watt,        # Responsitivity: 1 ampere per watt\n    dark_current=0.01 * units.milliampere,          # Dark current: 0.1 milliamps\n)\n\ndetector_1 = Detector(\n    name='forward',                          # Detector name: Forward scatter detector\n    phi_angle=0 * units.degree,                    # Angle: 0 degrees (Forward Scatter)\n    numerical_aperture=.2 * units.AU,             # Numerical aperture: 1.2\n    responsivity=1 * units.ampere / units.watt,        # Responsitivity: 1 ampere per watt\n    dark_current=0.01 * units.milliampere,          # Dark current: 0.1 milliamps\n)\n\namplifier = TransimpedanceAmplifier(\n    gain=10000 * units.volt / units.ampere,\n    bandwidth = 10 * units.megahertz\n)\n\nopto_electronics = OptoElectronics(\n    detectors=[detector_0, detector_1],\n    digitizer=digitizer,\n    source=source,\n    amplifier=amplifier\n)\n\n\ncytometer = FlowCytometer(\n    opto_electronics=opto_electronics,\n    fluidics=fluidics,\n    background_power=0.01 * units.milliwatt,\n)\n\n# Run the flow cytometry simulation\nprocessing_steps = [\n    circuits.BaselineRestorator(window_size=1000 * units.microsecond),\n    circuits.BesselLowPass(cutoff=3 * units.megahertz, order=4, gain=2)\n]\n\nanalog_acquisition, _ = cytometer.get_acquisition(\n    run_time=0.2 * units.millisecond,\n    processing_steps=processing_steps\n)\n\n# Visualize the scatter signals from both detectors\nanalog_acquisition.plot()\n\ntrigger = DynamicWindow(\n    dataframe=analog_acquisition,\n    trigger_detector_name='forward',\n    max_triggers=15,\n    pre_buffer=64,\n    post_buffer=64,\n    digitizer=digitizer\n)\n\nanalog_trigger = trigger.run(\n    threshold=3 * units.millivolt,\n)\n\nanalog_trigger.plot()\n\ndigital_trigger = analog_trigger.digitalize(digitizer=digitizer)\n\ndigital_trigger.plot()\n\npeak_algorithm = peak_locator.GlobalPeakLocator()\n\npeaks = peak_algorithm.run(digital_trigger)\n\npeaks.plot(\n    x=('side', 'Height'),\n    y=('forward', 'Height')\n)"
      ]
    }
  ],
  "metadata": {
    "kernelspec": {
      "display_name": "Python 3",
      "language": "python",
      "name": "python3"
    },
    "language_info": {
      "codemirror_mode": {
        "name": "ipython",
        "version": 3
      },
      "file_extension": ".py",
      "mimetype": "text/x-python",
      "name": "python",
      "nbconvert_exporter": "python",
      "pygments_lexer": "ipython3",
      "version": "3.11.12"
    }
  },
  "nbformat": 4,
  "nbformat_minor": 0
}