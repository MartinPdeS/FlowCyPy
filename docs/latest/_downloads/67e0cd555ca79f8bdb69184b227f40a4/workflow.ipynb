{
  "cells": [
    {
      "cell_type": "markdown",
      "metadata": {},
      "source": [
        "\n# Flow Cytometry Simulation: Scattering Intensities with One Population\n\nThis tutorial demonstrates how to simulate a flow cytometry experiment using the FlowCyPy library.\nThe simulation involves configuring a flow setup, defining a single population of particles, and\nanalyzing scattering signals from two detectors to produce a 2D density plot of scattering intensities.\n\n## Overview:\n1. Configure the flow cell and particle population.\n2. Define the laser source and detector parameters.\n3. Simulate the flow cytometry experiment.\n4. Analyze the generated signals and visualize results.\n"
      ]
    },
    {
      "cell_type": "markdown",
      "metadata": {},
      "source": [
        "## Step 0: Import Necessary Libraries\nHere, we import the necessary libraries and units for the simulation. The units module helps us\ndefine physical quantities like meters, seconds, and watts in a concise and consistent manner.\n\n"
      ]
    },
    {
      "cell_type": "code",
      "execution_count": null,
      "metadata": {
        "collapsed": false
      },
      "outputs": [],
      "source": [
        "import numpy as np\nfrom FlowCyPy import units"
      ]
    },
    {
      "cell_type": "markdown",
      "metadata": {},
      "source": [
        "## Step 1: Configure Noise Settings\nNoise settings are configured to simulate real-world imperfections. In this example, we include noise\nglobally but exclude specific types, such as shot noise and thermal noise.\n\n"
      ]
    },
    {
      "cell_type": "code",
      "execution_count": null,
      "metadata": {
        "collapsed": false
      },
      "outputs": [],
      "source": [
        "from FlowCyPy import NoiseSetting\n\nNoiseSetting.include_noises = True\nNoiseSetting.include_shot_noise = False\nNoiseSetting.include_thermal_noise = False\nNoiseSetting.include_dark_current = False\n\nnp.random.seed(3)  # Ensure reproducibility"
      ]
    },
    {
      "cell_type": "markdown",
      "metadata": {},
      "source": [
        "## Step 2: Configure the Laser Source\nThe laser source generates light that interacts with the particles. Its parameters, like numerical\naperture and wavelength, affect how light scatters, governed by Mie theory.\n\n"
      ]
    },
    {
      "cell_type": "code",
      "execution_count": null,
      "metadata": {
        "collapsed": false
      },
      "outputs": [],
      "source": [
        "from FlowCyPy import GaussianBeam\n\nsource = GaussianBeam(\n    numerical_aperture=0.3 * units.AU,           # Numerical aperture\n    wavelength=200 * units.nanometer,           # Wavelength\n    optical_power=20 * units.milliwatt          # Optical power\n)"
      ]
    },
    {
      "cell_type": "markdown",
      "metadata": {},
      "source": [
        "## Step 3: Set Up the Flow Cell\nThe flow cell models the movement of particles in the cytometer. For example, the volume of fluid\npassing through the cross-sectional area is calculated as:\n\n\\begin{align}\\text{Flow Volume} = \\text{Flow Speed} \\times \\text{Flow Area} \\times \\text{Run Time}\\end{align}\n\n"
      ]
    },
    {
      "cell_type": "code",
      "execution_count": null,
      "metadata": {
        "collapsed": false
      },
      "outputs": [],
      "source": [
        "from FlowCyPy import FlowCell\n\nflow_cell = FlowCell(\n    source=source,\n    flow_speed=7.56 * units.meter / units.second,  # Flow speed\n    flow_area=(10 * units.micrometer) ** 2,       # Cross-sectional area\n    run_time=0.1 * units.millisecond              # Simulation duration\n)"
      ]
    },
    {
      "cell_type": "markdown",
      "metadata": {},
      "source": [
        "## Step 4: Define ScattererCollection and Population\nThe scatterer represents particles in the flow. The concentration of particles in the flow cell is\ngiven by:\n\n\\begin{align}\\text{Concentration} = \\frac{\\text{Number of Particles}}{\\text{Volume of Flow}}\\end{align}\n\n"
      ]
    },
    {
      "cell_type": "code",
      "execution_count": null,
      "metadata": {
        "collapsed": false
      },
      "outputs": [],
      "source": [
        "from FlowCyPy import ScattererCollection\nfrom FlowCyPy.population import Exosome\n\nscatterer_collection = ScattererCollection(medium_refractive_index=1.33 * units.RIU)\n\nexosome = Exosome(particle_count=5e9 * units.particle / units.milliliter)\n\n# Add an Exosome population\nscatterer_collection.add_population(exosome)\n\n# Initialize the scatterer with the flow cell\nflow_cell.initialize(scatterer_collection=scatterer_collection) \nscatterer_collection.plot()  # Visualize the particle population"
      ]
    },
    {
      "cell_type": "markdown",
      "metadata": {},
      "source": [
        "## Step 5: Define Detectors\nDetectors measure light intensity. Parameters like responsitivity define the conversion of optical\npower to electronic signals, and saturation level represents the maximum signal they can handle.\n\n"
      ]
    },
    {
      "cell_type": "code",
      "execution_count": null,
      "metadata": {
        "collapsed": false
      },
      "outputs": [],
      "source": [
        "from FlowCyPy.detector import Detector\n\ndetector_0 = Detector(\n    name='forward',\n    phi_angle=0 * units.degree,                  # Forward scatter angle\n    numerical_aperture=1.2 * units.AU,\n    responsitivity=1 * units.ampere / units.watt,\n    sampling_freq=60 * units.megahertz,\n    saturation_level=10000 * units.microvolt,\n    resistance=50 * units.ohm,\n    temperature=300 * units.kelvin,\n    n_bins='14bit'\n)\n\ndetector_1 = Detector(\n    name='side',\n    phi_angle=90 * units.degree,                 # Side scatter angle\n    numerical_aperture=1.2 * units.AU,\n    responsitivity=1 * units.ampere / units.watt,\n    sampling_freq=60 * units.megahertz,\n    saturation_level=10000 * units.microvolt,\n    resistance=50 * units.ohm,\n    temperature=300 * units.kelvin,\n    n_bins='14bit'\n)"
      ]
    },
    {
      "cell_type": "markdown",
      "metadata": {},
      "source": [
        "## Step 6: Simulate Flow Cytometry Experiment\nThe FlowCytometer combines all components to simulate scattering. The interaction between light\nand particles follows Mie theory:\n\n\\begin{align}\\sigma_s = \\frac{2 \\pi}{k} \\sum_{n=1}^\\infty (2n + 1) (\\lvert a_n \\rvert^2 + \\lvert b_n \\rvert^2)\\end{align}\n\n"
      ]
    },
    {
      "cell_type": "code",
      "execution_count": null,
      "metadata": {
        "collapsed": false
      },
      "outputs": [],
      "source": [
        "from FlowCyPy import FlowCytometer\n\ncytometer = FlowCytometer(\n    detectors=[detector_0, detector_1],\n    flow_cell=flow_cell,\n    background_power=0.001 * units.milliwatt\n)\n\ncytometer.run_coupling_analysis()\n\ncytometer.initialize_signal()\n\ncytometer.simulate_pulse()\n\ncytometer.plot()  # Visualize signals from detectors"
      ]
    },
    {
      "cell_type": "markdown",
      "metadata": {},
      "source": [
        "## Step 7: Analyze Detected Signals\nThe MovingAverage algorithm detects peaks in signals by analyzing local maxima within a defined\nwindow size and threshold.\n\n"
      ]
    },
    {
      "cell_type": "code",
      "execution_count": null,
      "metadata": {
        "collapsed": false
      },
      "outputs": [],
      "source": [
        "from FlowCyPy import EventCorrelator\nfrom FlowCyPy import peak_locator\n\nalgorithm = peak_locator.MovingAverage(\n    threshold=10 * units.microvolt,\n    window_size=1 * units.microsecond,\n    min_peak_distance=0.3 * units.microsecond\n)\n\n# Assign peak detection algorithm to detectors\ndetector_0.set_peak_locator(algorithm)\ndetector_1.set_peak_locator(algorithm)\n\n# Analyze signal data\nanalyzer = EventCorrelator(cytometer=cytometer)\nanalyzer.run_analysis(compute_peak_area=False)"
      ]
    },
    {
      "cell_type": "markdown",
      "metadata": {},
      "source": [
        "## Step 8: Visualize Coincidence and Density Plot\nCoincidence analysis checks for simultaneous detection events across detectors, which are plotted\nas a 2D density graph to illustrate signal relationships between FSC and SSC.\n\n"
      ]
    },
    {
      "cell_type": "code",
      "execution_count": null,
      "metadata": {
        "collapsed": false
      },
      "outputs": [],
      "source": [
        "analyzer.get_coincidence(margin=1e-9 * units.microsecond)  # Extract coincidences\nanalyzer.plot(log_plot=False)  # Generate a 2D density plot"
      ]
    }
  ],
  "metadata": {
    "kernelspec": {
      "display_name": "Python 3",
      "language": "python",
      "name": "python3"
    },
    "language_info": {
      "codemirror_mode": {
        "name": "ipython",
        "version": 3
      },
      "file_extension": ".py",
      "mimetype": "text/x-python",
      "name": "python",
      "nbconvert_exporter": "python",
      "pygments_lexer": "ipython3",
      "version": "3.11.11"
    }
  },
  "nbformat": 4,
  "nbformat_minor": 0
}