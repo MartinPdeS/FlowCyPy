{
  "cells": [
    {
      "cell_type": "markdown",
      "metadata": {},
      "source": [
        "\n# Flow Cytometry Simulation [2 populations] Density Plot of Scattering Intensities\n\nThis example simulates a flow cytometer experiment using the FlowCyPy library,\nanalyzes pulse signals from two detectors, and generates a 2D density plot of the scattering intensities.\n\nSteps:\n1. Set flow parameters and particle size distributions.\n2. Set up the laser source and detectors.\n3. Simulate the flow cytometry experiment.\n4. Analyze pulse signals and generate a 2D density plot.\n"
      ]
    },
    {
      "cell_type": "code",
      "execution_count": null,
      "metadata": {
        "collapsed": false
      },
      "outputs": [],
      "source": [
        "# Import necessary libraries and modules\nimport numpy as np\nfrom FlowCyPy import FlowCytometer, ScattererCollection, EventCorrelator, Detector, GaussianBeam, FlowCell\nfrom FlowCyPy import peak_locator\nfrom FlowCyPy.units import particle, milliliter, nanometer, RIU, second, micrometer, millisecond, meter\nfrom FlowCyPy.units import degree, watt, ampere, millivolt, ohm, kelvin, milliampere, megahertz, microvolt\nfrom FlowCyPy.units import microsecond\nfrom FlowCyPy.units import milliwatt, AU\nfrom FlowCyPy import NoiseSetting\nfrom FlowCyPy.population import Exosome, HDL\n\nNoiseSetting.include_noises = False\n\n# Set random seed for reproducibility\nnp.random.seed(3)"
      ]
    },
    {
      "cell_type": "markdown",
      "metadata": {},
      "source": [
        "Step 1: Set up the Laser GaussianBeam\n\n"
      ]
    },
    {
      "cell_type": "code",
      "execution_count": null,
      "metadata": {
        "collapsed": false
      },
      "outputs": [],
      "source": [
        "source = GaussianBeam(\n    numerical_aperture=0.3 * AU,             # Numerical aperture of the laser: 0.3\n    wavelength=488 * nanometer,              # Laser wavelength: 800 nanometers\n    optical_power=100 * milliwatt             # Laser optical power: 10 milliwatts\n)\n\n# Step 2: Define Flow Parameters\nflow_cell = FlowCell(\n    source=source,\n    flow_speed=7.56 * meter / second,      # Flow speed: 7.56 meters per second\n    flow_area=(10 * micrometer) ** 2,      # Flow area: 10 x 10 micrometers\n    run_time=.2 * millisecond             # Total simulation time: 0.3 milliseconds\n)\n\n# Step 3: Create Populations (Extracellular Vesicles and Liposomes)\nscatterer = ScattererCollection(medium_refractive_index=1.33 * RIU)  # Medium refractive index: 1.33\n\nscatterer.add_population(Exosome, particle_count=3e+8 * particle / milliliter)\nscatterer.add_population(HDL, particle_count=3e+8 * particle / milliliter)\n\n# Initialize scatterer and link it to the flow cell\nflow_cell.initialize(scatterer_collection=scatterer)\n\n# Print and plot properties of the populations\nscatterer._log_properties()\nscatterer.plot()\n\nsource.print_properties()  # Print the laser source properties\n\n# Step 5: Configure Detectors\n# Side scatter detector\ndetector_0 = Detector(\n    name='side',                             # Detector name: Side scatter detector\n    phi_angle=90 * degree,                   # Angle: 90 degrees (Side Scatter)\n    numerical_aperture=.2 * AU,             # Numerical aperture: 1.2\n    responsitivity=1 * ampere / watt,        # Responsitivity: 1 ampere per watt\n    sampling_freq=60 * megahertz,            # Sampling frequency: 60 MHz\n    saturation_level=0.04 * millivolt,          # Saturation level: 2 millivolts\n    # n_bins='16bit',                          # Number of bins: 14-bit resolution\n    resistance=50 * ohm,                     # Detector resistance: 50 ohms\n    dark_current=0.1 * milliampere,          # Dark current: 0.1 milliamps\n    temperature=300 * kelvin                 # Operating temperature: 300 Kelvin\n)\n\n# Forward scatter detector\ndetector_1 = Detector(\n    name='forward',                          # Detector name: Forward scatter detector\n    phi_angle=0 * degree,                    # Angle: 0 degrees (Forward Scatter)\n    numerical_aperture=.2 * AU,             # Numerical aperture: 1.2\n    responsitivity=1 * ampere / watt,        # Responsitivity: 1 ampere per watt\n    sampling_freq=60 * megahertz,            # Sampling frequency: 60 MHz\n    saturation_level=0.04 * millivolt,          # Saturation level: 2 millivolts\n    # n_bins='16bit',                          # Number of bins: 14-bit resolution\n    resistance=50 * ohm,                     # Detector resistance: 50 ohms\n    dark_current=0.1 * milliampere,          # Dark current: 0.1 milliamps\n    temperature=300 * kelvin                 # Operating temperature: 300 Kelvin\n)\n\n\ndetector_1.print_properties()  # Print the properties of the forward scatter detector\n\n# Step 6: Simulate Flow Cytometry Experiment\ncytometer = FlowCytometer(                      # Laser source used in the experiment\n    flow_cell=flow_cell,                     # Populations used in the experiment\n    background_power=0.0 * milliwatt,\n    detectors=[detector_0, detector_1]       # List of detectors: Side scatter and Forward scatter\n)\n\n# Run the simulation of pulse signals\ncytometer.run_coupling_analysis()\n\ncytometer.initialize_signal()\n\ncytometer.simulate_pulse()\n\n# Plot the results from both detectors\ncytometer.plot()"
      ]
    },
    {
      "cell_type": "markdown",
      "metadata": {},
      "source": [
        "Step 5: Analyzing Pulse Signals\n\n"
      ]
    },
    {
      "cell_type": "code",
      "execution_count": null,
      "metadata": {
        "collapsed": false
      },
      "outputs": [],
      "source": [
        "algorithm = peak_locator.MovingAverage(\n    threshold=0.1e-20 * microvolt,       # Signal threshold: 0.1 mV\n    window_size=1 * microsecond,         # Moving average window size: 1 \u00b5s\n    min_peak_distance=0.1 * microsecond  # Minimum distance between peaks: 0.3 \u00b5s\n)\n\ndetector_0.set_peak_locator(algorithm)\ndetector_1.set_peak_locator(algorithm)\n\ncytometer.plot(add_peak_locator=True)\n\nanalyzer = EventCorrelator(cytometer=cytometer)\n\n# Run the pulse signal analysis without computing peak area\nanalyzer.run_analysis(compute_peak_area=False)"
      ]
    },
    {
      "cell_type": "markdown",
      "metadata": {},
      "source": [
        "Step 8: Extract and Plot Coincidence Data\n\n"
      ]
    },
    {
      "cell_type": "code",
      "execution_count": null,
      "metadata": {
        "collapsed": false
      },
      "outputs": [],
      "source": [
        "analyzer.get_coincidence(margin=0.1 * microsecond)  # Coincidence data with 0.1 \u00b5s margin\n\n# Plot the 2D density plot of scattering intensities\nanalyzer.plot(log_plot=False)  # Plot with a linear scale (log_plot=False)"
      ]
    }
  ],
  "metadata": {
    "kernelspec": {
      "display_name": "Python 3",
      "language": "python",
      "name": "python3"
    },
    "language_info": {
      "codemirror_mode": {
        "name": "ipython",
        "version": 3
      },
      "file_extension": ".py",
      "mimetype": "text/x-python",
      "name": "python",
      "nbconvert_exporter": "python",
      "pygments_lexer": "ipython3",
      "version": "3.11.11"
    }
  },
  "nbformat": 4,
  "nbformat_minor": 0
}