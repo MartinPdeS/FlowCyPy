{
  "cells": [
    {
      "cell_type": "markdown",
      "metadata": {},
      "source": [
        "\n# Flow Cell geometries\n"
      ]
    },
    {
      "cell_type": "code",
      "execution_count": null,
      "metadata": {
        "collapsed": false
      },
      "outputs": [],
      "source": [
        "import matplotlib.pyplot as plt\n\nfrom FlowCyPy import units\nfrom FlowCyPy.flow_cell import CircularFlowCell, RectangularFlowCell, SquareFlowCell\n\n# Create example FlowCell instances\nvolume_flow = 0.3 * units.microliter / units.second\n\n# CircularFlowCell instance\ncircular_cell = CircularFlowCell(\n    volume_flow=volume_flow,\n    radius=10 * units.micrometer\n)\n\n# RectangularFlowCell instance with width 20 \u03bcm and height 10 \u03bcm.\nrectangular_cell = RectangularFlowCell(\n    volume_flow=volume_flow,\n    width=20 * units.micrometer,\n    height=10 * units.micrometer\n)\n\n# SquareFlowCell instance\nsquare_cell = SquareFlowCell(\n    volume_flow=volume_flow,\n    side=3 * units.micrometer\n)\n\n# Create a figure with subplots for velocity profiles\nfig, axs = plt.subplots(1, 3, figsize=(18, 5))\n\n# Plot velocity profile for CircularFlowCell\nr, velocities_circ = circular_cell.get_velocity_profile(num_points=100)\naxs[0].plot(r, velocities_circ, color='blue')\naxs[0].set_title('Circular Flow Cell Velocity Profile')\naxs[0].set_xlabel(f'Radial Position [{r.units}]')\naxs[0].set_ylabel(f'Velocity [{velocities_circ.units}]')\naxs[0].grid(True)\n\n# Plot velocity profile for RectangularFlowCell\nX_rect, Y_rect, velocities_rect = rectangular_cell.get_velocity_profile(num_points=50)\nc1 = axs[1].contourf(X_rect, Y_rect, velocities_rect, cmap='viridis')\naxs[1].set_title('Rectangular Flow Cell Velocity Profile')\naxs[1].set_xlabel('x (m)')\naxs[1].set_ylabel('y (m)')\nfig.colorbar(c1, ax=axs[1])\n\n# Plot velocity profile for SquareFlowCell\nX_sq, Y_sq, velocities_sq = square_cell.get_velocity_profile(num_points=50)\nc2 = axs[2].contourf(X_sq, Y_sq, velocities_sq, cmap='plasma')\naxs[2].set_title('Square Flow Cell Velocity Profile')\naxs[2].set_xlabel('x (m)')\naxs[2].set_ylabel('y (m)')\nfig.colorbar(c2, ax=axs[2])\n\nplt.tight_layout()\nplt.show()\n\n\n# Generate events for the CircularFlowCell, which includes sampling velocity.\nvelocities_sampled_circ = circular_cell.sample_velocity(500)\n\n# Generate events for the RectangularFlowCell.\nvelocities_sampled_rect = rectangular_cell.sample_velocity(500)\n\n# Generate events for the SquareFlowCell.\nvelocities_sampled_sq = square_cell.sample_velocity(500)\n\n# Create a figure with subplots for histograms of sampled velocities.\nfig2, axs2 = plt.subplots(1, 3, figsize=(18, 5))\n\naxs2[0].hist(velocities_sampled_circ, edgecolor='black', color='skyblue')\naxs2[0].set_title('Sampled Velocities (Circular)')\naxs2[0].set_xlabel('Velocity (m/s)')\naxs2[0].set_ylabel('Frequency')\naxs2[0].grid(True)\n\naxs2[1].hist(velocities_sampled_rect, edgecolor='black', color='lightgreen')\naxs2[1].set_title('Sampled Velocities (Rectangular)')\naxs2[1].set_xlabel('Velocity (m/s)')\naxs2[1].set_ylabel('Frequency')\naxs2[1].grid(True)\n\naxs2[2].hist(velocities_sampled_sq, edgecolor='black', color='salmon')\naxs2[2].set_title('Sampled Velocities (Square)')\naxs2[2].set_xlabel('Velocity (m/s)')\naxs2[2].set_ylabel('Frequency')\naxs2[2].grid(True)\n\nplt.tight_layout()\nplt.show()"
      ]
    }
  ],
  "metadata": {
    "kernelspec": {
      "display_name": "Python 3",
      "language": "python",
      "name": "python3"
    },
    "language_info": {
      "codemirror_mode": {
        "name": "ipython",
        "version": 3
      },
      "file_extension": ".py",
      "mimetype": "text/x-python",
      "name": "python",
      "nbconvert_exporter": "python",
      "pygments_lexer": "ipython3",
      "version": "3.11.11"
    }
  },
  "nbformat": 4,
  "nbformat_minor": 0
}