{
  "cells": [
    {
      "cell_type": "markdown",
      "metadata": {},
      "source": [
        "\n# Flow Cytometry Simulation: FacsCanto System\n\nThis tutorial demonstrates how to set up and run a flow cytometry simulation using the FacsCanto instance from the FlowCyPy library.\nIt includes defining a particle population, configuring the flow cytometer, running the simulation, and visualizing the results.\n"
      ]
    },
    {
      "cell_type": "markdown",
      "metadata": {},
      "source": [
        "## Step 0: Global Settings and Imports\n\n"
      ]
    },
    {
      "cell_type": "code",
      "execution_count": null,
      "metadata": {
        "collapsed": false
      },
      "outputs": [],
      "source": [
        "from FlowCyPy.instances.flow_cytometer import FacsCanto, SampleFlowRate, SheathFlowRate\nfrom FlowCyPy.fluidics import distribution, population\nfrom TypedUnit import ureg\n\n\npopulation_0 = population.Sphere(\n    name=\"Pop 0\",\n    particle_count=5e9 * ureg.particle / ureg.milliliter,\n    diameter=distribution.RosinRammler(150 * ureg.nanometer, spread=30),\n    refractive_index=distribution.Normal(1.44 * ureg.RIU, std_dev=0.002 * ureg.RIU),\n)\n\nfacs_canto = FacsCanto(\n    sample_volume_flow=SampleFlowRate.MEDIUM,\n    sheath_volume_flow=SheathFlowRate.DEFAULT,\n    optical_power=20 * ureg.milliwatt,\n    background_power=1 * ureg.nanowatt,\n)\n\nfacs_canto.add_population(population_0)\n\nfacs_canto.dilute_sample(factor=100)\n\nrun_record = facs_canto.run(run_time=0.2 * ureg.millisecond)\n\nrun_record.plot_digital()"
      ]
    }
  ],
  "metadata": {
    "kernelspec": {
      "display_name": "Python 3",
      "language": "python",
      "name": "python3"
    },
    "language_info": {
      "codemirror_mode": {
        "name": "ipython",
        "version": 3
      },
      "file_extension": ".py",
      "mimetype": "text/x-python",
      "name": "python",
      "nbconvert_exporter": "python",
      "pygments_lexer": "ipython3",
      "version": "3.11.13"
    }
  },
  "nbformat": 4,
  "nbformat_minor": 0
}