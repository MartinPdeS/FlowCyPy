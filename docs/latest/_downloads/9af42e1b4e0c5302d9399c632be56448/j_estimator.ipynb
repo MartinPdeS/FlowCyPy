{
  "cells": [
    {
      "cell_type": "markdown",
      "metadata": {},
      "source": [
        "\n# J Estimator Validation \u2014 Fixed Bead Size, Variable Illumination\n\nThis example demonstrates how to estimate the `J` parameter, which quantifies\nhow the relative noise (robust coefficient of variation) scales with the\nsignal strength under varying illumination power. We simulate a flow cytometry\nsystem with fixed bead diameter and varying illumination.\n"
      ]
    },
    {
      "cell_type": "markdown",
      "metadata": {},
      "source": [
        "## Setup and configuration\n\n"
      ]
    },
    {
      "cell_type": "code",
      "execution_count": null,
      "metadata": {
        "collapsed": false
      },
      "outputs": [],
      "source": [
        "import numpy as np\nfrom FlowCyPy import units, NoiseSetting\nfrom FlowCyPy import GaussianBeam\nfrom FlowCyPy.flow_cell import FlowCell\nfrom FlowCyPy import ScattererCollection\nfrom FlowCyPy.detector import Detector\nfrom FlowCyPy.signal_digitizer import SignalDigitizer\nfrom FlowCyPy.amplifier import TransimpedanceAmplifier\nfrom FlowCyPy import FlowCytometer, OptoElectronics, Fluidics\nfrom FlowCyPy.calibration import JEstimator"
      ]
    },
    {
      "cell_type": "markdown",
      "metadata": {},
      "source": [
        "Configure simulation-level noise assumptions\n\n"
      ]
    },
    {
      "cell_type": "code",
      "execution_count": null,
      "metadata": {
        "collapsed": false
      },
      "outputs": [],
      "source": [
        "NoiseSetting.include_noises = True\nNoiseSetting.include_shot_noise = True\nNoiseSetting.include_dark_current_noise = False\nNoiseSetting.include_source_noise = False\nNoiseSetting.include_amplifier_noise = False\nNoiseSetting.assume_perfect_hydrodynamic_focusing = True\nNoiseSetting.assume_amplifier_bandwidth_is_infinite = True\nNoiseSetting.assume_perfect_digitizer = True\n\nnp.random.seed(3)  # Reproducibility"
      ]
    },
    {
      "cell_type": "markdown",
      "metadata": {},
      "source": [
        "## Construct simulation components\n\n"
      ]
    },
    {
      "cell_type": "code",
      "execution_count": null,
      "metadata": {
        "collapsed": false
      },
      "outputs": [],
      "source": [
        "flow_cell = FlowCell(\n    sample_volume_flow=80 * units.microliter / units.minute,\n    sheath_volume_flow=1 * units.milliliter / units.minute,\n    width=400 * units.micrometer,\n    height=400 * units.micrometer,\n    event_scheme='sequential-uniform'\n)\n\nscatterer_collection = ScattererCollection(medium_refractive_index=1.33 * units.RIU)\n\nfluidics = Fluidics(\n    scatterer_collection=scatterer_collection,\n    flow_cell=flow_cell\n)\n\nsource = GaussianBeam(\n    numerical_aperture=0.2 * units.AU,\n    wavelength=450 * units.nanometer,\n    optical_power=0 * units.watt\n)\n\ndigitizer = SignalDigitizer(\n    bit_depth='16bit',\n    saturation_levels=(0 * units.volt, 2 * units.volt),\n    sampling_rate=60 * units.megahertz,\n)\n\namplifier = TransimpedanceAmplifier(\n    gain=10 * units.volt / units.ampere,\n    bandwidth=60 * units.megahertz,\n)\n\ndetector_0 = Detector(\n    name='default',\n    phi_angle=0 * units.degree,  # Forward scatter\n    numerical_aperture=0.2 * units.AU,\n    cache_numerical_aperture=0.0 * units.AU,\n    responsivity=1 * units.ampere / units.watt,\n)\n\nopto_electronics = OptoElectronics(\n    detectors=[detector_0],\n    digitizer=digitizer,\n    source=source,\n    amplifier=amplifier\n)\n\nflow_cytometer = FlowCytometer(\n    opto_electronics=opto_electronics,\n    fluidics=fluidics,\n    background_power=source.optical_power * 0.001\n)"
      ]
    },
    {
      "cell_type": "markdown",
      "metadata": {},
      "source": [
        "## Run J Estimation Simulation\n\n"
      ]
    },
    {
      "cell_type": "code",
      "execution_count": null,
      "metadata": {
        "collapsed": false
      },
      "outputs": [],
      "source": [
        "j_estimator = JEstimator(debug_mode=False)\n\nj_estimator.add_batch(\n    illumination_powers=np.linspace(10, 380, 25) * units.milliwatt,\n    bead_diameter=400 * units.nanometer,\n    flow_cytometer=flow_cytometer,\n    particle_count=50 * units.particle\n)"
      ]
    },
    {
      "cell_type": "markdown",
      "metadata": {},
      "source": [
        "## Plot estimation and diagnostics\n\n"
      ]
    },
    {
      "cell_type": "code",
      "execution_count": null,
      "metadata": {
        "collapsed": false
      },
      "outputs": [],
      "source": [
        "j_estimator.plot()\nj_estimator.plot_statistics()"
      ]
    }
  ],
  "metadata": {
    "kernelspec": {
      "display_name": "Python 3",
      "language": "python",
      "name": "python3"
    },
    "language_info": {
      "codemirror_mode": {
        "name": "ipython",
        "version": 3
      },
      "file_extension": ".py",
      "mimetype": "text/x-python",
      "name": "python",
      "nbconvert_exporter": "python",
      "pygments_lexer": "ipython3",
      "version": "3.11.13"
    }
  },
  "nbformat": 4,
  "nbformat_minor": 0
}