{
  "cells": [
    {
      "cell_type": "markdown",
      "metadata": {},
      "source": [
        "\n# Workflow\n\nThis tutorial demonstrates how to simulate a flow cytometry experiment using the FlowCyPy library.\nThe simulation involves configuring a flow setup, defining a single population of particles, and\nanalyzing scattering signals from two detectors to produce a 2D density plot of scattering intensities.\n\n## Overview:\n1. Configure the flow cell and particle population.\n2. Define the laser source and detector parameters.\n3. Simulate the flow cytometry experiment.\n4. Analyze the generated signals and visualize results.\n"
      ]
    },
    {
      "cell_type": "markdown",
      "metadata": {},
      "source": [
        "## Step 0: Import Necessary Libraries\nHere, we import the necessary libraries and units for the simulation. The units module helps us\ndefine physical quantities like meters, seconds, and watts in a concise and consistent manner.\n\n"
      ]
    },
    {
      "cell_type": "code",
      "execution_count": null,
      "metadata": {
        "collapsed": false
      },
      "outputs": [],
      "source": [
        "import numpy as np\nfrom FlowCyPy import units"
      ]
    },
    {
      "cell_type": "markdown",
      "metadata": {},
      "source": [
        "## Step 1: Configure Noise Settings\nNoise settings are configured to simulate real-world imperfections. In this example, we include noise\nglobally but exclude specific types, such as shot noise and thermal noise.\n\n"
      ]
    },
    {
      "cell_type": "code",
      "execution_count": null,
      "metadata": {
        "collapsed": false
      },
      "outputs": [],
      "source": [
        "from FlowCyPy import NoiseSetting\n\nNoiseSetting.include_noises = True\nNoiseSetting.include_shot_noise = False\nNoiseSetting.include_thermal_noise = False\nNoiseSetting.include_dark_current_noise = False\n\nnp.random.seed(3)  # Ensure reproducibility"
      ]
    },
    {
      "cell_type": "markdown",
      "metadata": {},
      "source": [
        "## Step 2: Configure the Laser Source\nThe laser source generates light that interacts with the particles. Its parameters, like numerical\naperture and wavelength, affect how light scatters, governed by Mie theory.\n\n"
      ]
    },
    {
      "cell_type": "code",
      "execution_count": null,
      "metadata": {
        "collapsed": false
      },
      "outputs": [],
      "source": [
        "from FlowCyPy import GaussianBeam\n\nsource = GaussianBeam(\n    numerical_aperture=0.3 * units.AU,           # Numerical aperture\n    wavelength=200 * units.nanometer,           # Wavelength\n    optical_power=20 * units.milliwatt          # Optical power\n)"
      ]
    },
    {
      "cell_type": "markdown",
      "metadata": {},
      "source": [
        "## Step 3: Set Up the Flow Cell\nThe flow cell models the movement of particles in the cytometer. For example, the volume of fluid\npassing through the cross-sectional area is calculated as:\n\n\\begin{align}\\text{Flow Volume} = \\text{Flow Speed} \\times \\text{Flow Area} \\times \\text{Run Time}\\end{align}\n\n"
      ]
    },
    {
      "cell_type": "code",
      "execution_count": null,
      "metadata": {
        "collapsed": false
      },
      "outputs": [],
      "source": [
        "from FlowCyPy import FlowCell\n\nflow_cell = FlowCell(\n    source=source,\n    volume_flow=0.3 * units.microliter / units.second,  # Flow volume\n    flow_area=(10 * units.micrometer) ** 2,       # Cross-sectional area\n)"
      ]
    },
    {
      "cell_type": "markdown",
      "metadata": {},
      "source": [
        "## Step 4: Define ScattererCollection and Population\nThe scatterer represents particles in the flow. The concentration of particles in the flow cell is\ngiven by:\n\n\\begin{align}\\text{Concentration} = \\frac{\\text{Number of Particles}}{\\text{Volume of Flow}}\\end{align}\n\n"
      ]
    },
    {
      "cell_type": "code",
      "execution_count": null,
      "metadata": {
        "collapsed": false
      },
      "outputs": [],
      "source": [
        "from FlowCyPy import ScattererCollection\nfrom FlowCyPy.population import Exosome, Population, distribution\n\nscatterer_collection = ScattererCollection(medium_refractive_index=1.33 * units.RIU)\n\nexosome = Exosome(particle_count=5e9 * units.particle / units.milliliter)\n\ncustom_population = Population(\n    name='Pop 0',\n    particle_count=5e9 * units.particle / units.milliliter,\n    size=distribution.RosinRammler(characteristic_size=150 * units.nanometer, spread=30),\n    refractive_index=distribution.Normal(mean=1.44 * units.RIU, std_dev=0.002 * units.RIU)\n)\n\n# Add an Exosome population\nscatterer_collection.add_population(exosome, custom_population)\n\nscatterer_collection.dilute(factor=4)\n\n# Initialize the scatterer with the flow cell\nscatterer_collection.plot()  # Visualize the particle population"
      ]
    },
    {
      "cell_type": "markdown",
      "metadata": {},
      "source": [
        "## Step 5: Define Detectors\nDetectors measure light intensity. Parameters like responsitivity define the conversion of optical\npower to electronic signals, and saturation level represents the maximum signal they can handle.\n\n"
      ]
    },
    {
      "cell_type": "code",
      "execution_count": null,
      "metadata": {
        "collapsed": false
      },
      "outputs": [],
      "source": [
        "from FlowCyPy.detector import Detector\nfrom FlowCyPy.signal_digitizer import SignalDigitizer\n\nsignal_digitizer = SignalDigitizer(\n    bit_depth='14bit',\n    saturation_levels='auto',\n    sampling_rate=60 * units.megahertz,\n)\n\ndetector_0 = Detector(\n    name='forward',\n    phi_angle=0 * units.degree,                  # Forward scatter angle\n    numerical_aperture=1.2 * units.AU,\n    responsitivity=1 * units.ampere / units.watt,\n    resistance=50 * units.ohm,\n    temperature=300 * units.kelvin\n)\n\ndetector_1 = Detector(\n    name='side',\n    phi_angle=90 * units.degree,                 # Side scatter angle\n    numerical_aperture=1.2 * units.AU,\n    responsitivity=1 * units.ampere / units.watt,\n    resistance=50 * units.ohm,\n    temperature=300 * units.kelvin,\n)"
      ]
    },
    {
      "cell_type": "markdown",
      "metadata": {},
      "source": [
        "## Step 6: Simulate Flow Cytometry Experiment\nThe FlowCytometer combines all components to simulate scattering. The interaction between light\nand particles follows Mie theory:\n\n\\begin{align}\\sigma_s = \\frac{2 \\pi}{k} \\sum_{n=1}^\\infty (2n + 1) (\\lvert a_n \\rvert^2 + \\lvert b_n \\rvert^2)\\end{align}\n\n"
      ]
    },
    {
      "cell_type": "code",
      "execution_count": null,
      "metadata": {
        "collapsed": false
      },
      "outputs": [],
      "source": [
        "from FlowCyPy import FlowCytometer\n\ncytometer = FlowCytometer(\n    scatterer_collection=scatterer_collection,\n    signal_digitizer=signal_digitizer,\n    detectors=[detector_0, detector_1],\n    flow_cell=flow_cell,\n    background_power=0.001 * units.milliwatt\n)\n\n# Run the flow cytometry simulation\nacquisition = cytometer.get_acquisition(run_time=0.2 * units.millisecond)\n\n_ = acquisition.scatterer.plot(\n    x='side',\n    y='forward'\n)"
      ]
    },
    {
      "cell_type": "markdown",
      "metadata": {},
      "source": [
        "Visualize the scatter signals from both detectors\n\n"
      ]
    },
    {
      "cell_type": "code",
      "execution_count": null,
      "metadata": {
        "collapsed": false
      },
      "outputs": [],
      "source": [
        "acquisition.analog.plot()"
      ]
    },
    {
      "cell_type": "markdown",
      "metadata": {},
      "source": [
        "## Step 7: Analyze Detected Signals\nThe Peak algorithm detects peaks in signals by analyzing local maxima within a defined\nwindow size and threshold.\n\n"
      ]
    },
    {
      "cell_type": "code",
      "execution_count": null,
      "metadata": {
        "collapsed": false
      },
      "outputs": [],
      "source": [
        "triggered_acquisition = acquisition.run_triggering(\n    threshold=0.2 * units.millivolt,\n    trigger_detector_name='forward',\n    max_triggers=35,\n    pre_buffer=64,\n    post_buffer=64\n)\n\ntriggered_acquisition.analog.plot()"
      ]
    },
    {
      "cell_type": "markdown",
      "metadata": {},
      "source": [
        "Getting and plotting the extracted peaks.\n\n"
      ]
    },
    {
      "cell_type": "code",
      "execution_count": null,
      "metadata": {
        "collapsed": false
      },
      "outputs": [],
      "source": [
        "from FlowCyPy import peak_locator\n# peak_locator = peak_locator.ScipyPeakLocator(height=10 * units.bit_bins, padding_value=-1)\npeak_algorithm = peak_locator.BasicPeakLocator()\n\npeaks = triggered_acquisition.detect_peaks(peak_algorithm)\n\npeaks.plot(\n    feature='Height',\n    x_detector='side',\n    y_detector='forward'\n)"
      ]
    },
    {
      "cell_type": "markdown",
      "metadata": {},
      "source": [
        "Step 8: Classifying the collected dataset\n\n"
      ]
    },
    {
      "cell_type": "code",
      "execution_count": null,
      "metadata": {
        "collapsed": false
      },
      "outputs": [],
      "source": [
        "from FlowCyPy.classifier import KmeansClassifier\n\nclassifier = KmeansClassifier(number_of_cluster=2)\nprint(peaks)\ndata = classifier.run(\n    dataframe=peaks.unstack('Detector'),\n    features=['Height'],\n    detectors=['side', 'forward']\n)\n\n_ = data.plot(\n    feature='Height',\n    x_detector='side',\n    y_detector='forward'\n)"
      ]
    }
  ],
  "metadata": {
    "kernelspec": {
      "display_name": "Python 3",
      "language": "python",
      "name": "python3"
    },
    "language_info": {
      "codemirror_mode": {
        "name": "ipython",
        "version": 3
      },
      "file_extension": ".py",
      "mimetype": "text/x-python",
      "name": "python",
      "nbconvert_exporter": "python",
      "pygments_lexer": "ipython3",
      "version": "3.11.11"
    }
  },
  "nbformat": 4,
  "nbformat_minor": 0
}