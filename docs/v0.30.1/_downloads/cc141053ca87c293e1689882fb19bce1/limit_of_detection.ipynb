{
  "cells": [
    {
      "cell_type": "markdown",
      "metadata": {},
      "source": [
        "\n# Limit of Detection\n\nThis example simulates the detection of small nanoparticles (90\u2013150 nm diameter)\nin a flow cytometry setup using a dual-detector configuration (side and forward scatter).\nThe simulation includes noise models, realistic fluidics, analog signal conditioning,\ndigitization, triggering, and peak detection.\n\nThe main goal is to evaluate whether such particles produce detectable and distinguishable\nscatter signals in the presence of system noise and fluidic variability.\n"
      ]
    },
    {
      "cell_type": "code",
      "execution_count": null,
      "metadata": {
        "collapsed": false
      },
      "outputs": [],
      "source": [
        "import numpy as np\nfrom TypedUnit import ureg\n\nfrom FlowCyPy import FlowCytometer, SimulationSettings\nfrom FlowCyPy.fluidics import (\n    FlowCell,\n    Fluidics,\n    ScattererCollection,\n    distribution,\n    population,\n)\nfrom FlowCyPy.opto_electronics import (\n    Detector,\n    OptoElectronics,\n    TransimpedanceAmplifier,\n    source,\n)\nfrom FlowCyPy.signal_processing import (\n    Digitizer,\n    SignalProcessing,\n    circuits,\n    peak_locator,\n    triggering_system,\n)"
      ]
    },
    {
      "cell_type": "markdown",
      "metadata": {},
      "source": [
        "Simulation Configuration\n\n"
      ]
    },
    {
      "cell_type": "code",
      "execution_count": null,
      "metadata": {
        "collapsed": false
      },
      "outputs": [],
      "source": [
        "SimulationSettings.include_noises = True\nSimulationSettings.include_shot_noise = True\nSimulationSettings.include_source_noise = True\nSimulationSettings.include_dark_current_noise = True\nSimulationSettings.assume_perfect_hydrodynamic_focusing = True\nSimulationSettings.evenly_spaced_events = True\nSimulationSettings.sorted_population = True\n\nnp.random.seed(3)"
      ]
    },
    {
      "cell_type": "markdown",
      "metadata": {},
      "source": [
        "Optical Source\n\n"
      ]
    },
    {
      "cell_type": "code",
      "execution_count": null,
      "metadata": {
        "collapsed": false
      },
      "outputs": [],
      "source": [
        "source = source.GaussianBeam(\n    numerical_aperture=0.1 * ureg.AU,\n    wavelength=488 * ureg.nanometer,\n    optical_power=200 * ureg.milliwatt,\n)"
      ]
    },
    {
      "cell_type": "markdown",
      "metadata": {},
      "source": [
        "Flow Cell Configuration\n\n"
      ]
    },
    {
      "cell_type": "code",
      "execution_count": null,
      "metadata": {
        "collapsed": false
      },
      "outputs": [],
      "source": [
        "flow_cell = FlowCell(\n    sample_volume_flow=0.02 * ureg.microliter / ureg.second,\n    sheath_volume_flow=0.1 * ureg.microliter / ureg.second,\n    width=20 * ureg.micrometer,\n    height=10 * ureg.micrometer,\n)"
      ]
    },
    {
      "cell_type": "markdown",
      "metadata": {},
      "source": [
        "Define Scatterer Populations (90\u2013150 nm spheres)\n\n"
      ]
    },
    {
      "cell_type": "code",
      "execution_count": null,
      "metadata": {
        "collapsed": false
      },
      "outputs": [],
      "source": [
        "scatterer_collection = ScattererCollection(medium_refractive_index=1.33 * ureg.RIU)\n\nfor size in [150, 130, 110, 90]:\n    pop = population.Sphere(\n        name=f\"{size} nm\",\n        particle_count=20 * ureg.particle,\n        diameter=distribution.Delta(position=size * ureg.nanometer),\n        refractive_index=distribution.Delta(position=1.39 * ureg.RIU),\n    )\n    scatterer_collection.add_population(pop)"
      ]
    },
    {
      "cell_type": "markdown",
      "metadata": {},
      "source": [
        "Fluidics Subsystem\n\n"
      ]
    },
    {
      "cell_type": "code",
      "execution_count": null,
      "metadata": {
        "collapsed": false
      },
      "outputs": [],
      "source": [
        "fluidics = Fluidics(scatterer_collection=scatterer_collection, flow_cell=flow_cell)"
      ]
    },
    {
      "cell_type": "markdown",
      "metadata": {},
      "source": [
        "Signal Digitizer\n\n"
      ]
    },
    {
      "cell_type": "code",
      "execution_count": null,
      "metadata": {
        "collapsed": false
      },
      "outputs": [],
      "source": [
        "digitizer = Digitizer(\n    bit_depth=\"14bit\", saturation_levels=\"auto\", sampling_rate=60 * ureg.megahertz\n)"
      ]
    },
    {
      "cell_type": "markdown",
      "metadata": {},
      "source": [
        "Detectors\n\n"
      ]
    },
    {
      "cell_type": "code",
      "execution_count": null,
      "metadata": {
        "collapsed": false
      },
      "outputs": [],
      "source": [
        "detector_side = Detector(\n    name=\"side\",\n    phi_angle=90 * ureg.degree,\n    numerical_aperture=0.2 * ureg.AU,\n    responsivity=1 * ureg.ampere / ureg.watt,\n    dark_current=0.001 * ureg.milliampere,\n)\n\ndetector_forward = Detector(\n    name=\"forward\",\n    phi_angle=0 * ureg.degree,\n    numerical_aperture=0.2 * ureg.AU,\n    responsivity=1 * ureg.ampere / ureg.watt,\n    dark_current=0.001 * ureg.milliampere,\n)"
      ]
    },
    {
      "cell_type": "markdown",
      "metadata": {},
      "source": [
        "Amplifier and Opto-Electronics\n\n"
      ]
    },
    {
      "cell_type": "code",
      "execution_count": null,
      "metadata": {
        "collapsed": false
      },
      "outputs": [],
      "source": [
        "amplifier = TransimpedanceAmplifier(\n    gain=10000 * ureg.volt / ureg.ampere, bandwidth=10 * ureg.megahertz\n)\n\nopto_electronics = OptoElectronics(\n    detectors=[detector_side, detector_forward], source=source, amplifier=amplifier\n)"
      ]
    },
    {
      "cell_type": "markdown",
      "metadata": {},
      "source": [
        "Analog Processing Pipeline\n\n"
      ]
    },
    {
      "cell_type": "code",
      "execution_count": null,
      "metadata": {
        "collapsed": false
      },
      "outputs": [],
      "source": [
        "analog_processing = [\n    circuits.BaselineRestorator(window_size=10 * ureg.microsecond),\n    circuits.BesselLowPass(cutoff=1 * ureg.megahertz, order=4, gain=2),\n]"
      ]
    },
    {
      "cell_type": "markdown",
      "metadata": {},
      "source": [
        "Triggering and Peak Detection\n\n"
      ]
    },
    {
      "cell_type": "code",
      "execution_count": null,
      "metadata": {
        "collapsed": false
      },
      "outputs": [],
      "source": [
        "triggering_system = triggering_system.DynamicWindow(\n    trigger_detector_name=\"forward\",\n    threshold=0.4 * ureg.millivolt,\n    max_triggers=-1,\n    pre_buffer=64,\n    post_buffer=64,\n)\n\nsignal_processing = SignalProcessing(\n    digitizer=digitizer,\n    analog_processing=analog_processing,\n    triggering_system=triggering_system,\n    peak_algorithm=peak_locator.GlobalPeakLocator(),\n)"
      ]
    },
    {
      "cell_type": "code",
      "execution_count": null,
      "metadata": {
        "collapsed": false
      },
      "outputs": [],
      "source": [
        "cytometer = FlowCytometer(\n    opto_electronics=opto_electronics,\n    fluidics=fluidics,\n    signal_processing=signal_processing,\n    background_power=0.0001 * ureg.milliwatt,\n)\n\nrun_record = cytometer.run(run_time=1.0 * ureg.millisecond)"
      ]
    },
    {
      "cell_type": "markdown",
      "metadata": {},
      "source": [
        "Plot Raw Analog Signal\n\n"
      ]
    },
    {
      "cell_type": "code",
      "execution_count": null,
      "metadata": {
        "collapsed": false
      },
      "outputs": [],
      "source": [
        "run_record.plot_analog()"
      ]
    },
    {
      "cell_type": "markdown",
      "metadata": {},
      "source": [
        "Plot Triggered Analog Signal Segments\n\n"
      ]
    },
    {
      "cell_type": "code",
      "execution_count": null,
      "metadata": {
        "collapsed": false
      },
      "outputs": [],
      "source": [
        "run_record.plot_digital()"
      ]
    },
    {
      "cell_type": "markdown",
      "metadata": {},
      "source": [
        "Plot Peak Features (Side vs Forward Height)\n\n"
      ]
    },
    {
      "cell_type": "code",
      "execution_count": null,
      "metadata": {
        "collapsed": false
      },
      "outputs": [],
      "source": [
        "run_record.peaks.plot(x=(\"side\", \"Height\"), y=(\"forward\", \"Height\"))"
      ]
    }
  ],
  "metadata": {
    "kernelspec": {
      "display_name": "Python 3",
      "language": "python",
      "name": "python3"
    },
    "language_info": {
      "codemirror_mode": {
        "name": "ipython",
        "version": 3
      },
      "file_extension": ".py",
      "mimetype": "text/x-python",
      "name": "python",
      "nbconvert_exporter": "python",
      "pygments_lexer": "ipython3",
      "version": "3.11.13"
    }
  },
  "nbformat": 4,
  "nbformat_minor": 0
}