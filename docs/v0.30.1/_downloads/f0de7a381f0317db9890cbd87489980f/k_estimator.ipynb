{
  "cells": [
    {
      "cell_type": "markdown",
      "metadata": {},
      "source": [
        "\n# K Estimator Validation \u2014 Fixed Illumination, Variable Bead Size\n\nThis example demonstrates how to estimate the `K` parameter, which characterizes\nhow the **absolute signal noise** (Robust STD) scales with the **square root of the median signal**\nwhen varying bead size under fixed illumination power.\n"
      ]
    },
    {
      "cell_type": "markdown",
      "metadata": {},
      "source": [
        "## Setup and configuration\n\n"
      ]
    },
    {
      "cell_type": "code",
      "execution_count": null,
      "metadata": {
        "collapsed": false
      },
      "outputs": [],
      "source": [
        "import numpy as np\nfrom TypedUnit import ureg\n\nfrom FlowCyPy import FlowCytometer, SimulationSettings\nfrom FlowCyPy.calibration import KEstimator\nfrom FlowCyPy.fluidics import FlowCell, Fluidics, ScattererCollection\nfrom FlowCyPy.opto_electronics import (\n    Detector,\n    OptoElectronics,\n    TransimpedanceAmplifier,\n    source,\n)\nfrom FlowCyPy.signal_processing import Digitizer, SignalProcessing"
      ]
    },
    {
      "cell_type": "markdown",
      "metadata": {},
      "source": [
        "Configure simulation-level noise assumptions\n\n"
      ]
    },
    {
      "cell_type": "code",
      "execution_count": null,
      "metadata": {
        "collapsed": false
      },
      "outputs": [],
      "source": [
        "SimulationSettings.include_noises = True\nSimulationSettings.include_shot_noise = True\nSimulationSettings.include_dark_current_noise = False\nSimulationSettings.include_source_noise = False\nSimulationSettings.include_amplifier_noise = False\nSimulationSettings.assume_perfect_hydrodynamic_focusing = True\nSimulationSettings.assume_amplifier_bandwidth_is_infinite = True\nSimulationSettings.assume_perfect_digitizer = True\nSimulationSettings.evenly_spaced_events = True\n\nnp.random.seed(3)  # Reproducibility"
      ]
    },
    {
      "cell_type": "markdown",
      "metadata": {},
      "source": [
        "## Construct simulation components\n\n"
      ]
    },
    {
      "cell_type": "code",
      "execution_count": null,
      "metadata": {
        "collapsed": false
      },
      "outputs": [],
      "source": [
        "flow_cell = FlowCell(\n    sample_volume_flow=80 * ureg.microliter / ureg.minute,\n    sheath_volume_flow=1 * ureg.milliliter / ureg.minute,\n    width=400 * ureg.micrometer,\n    height=400 * ureg.micrometer,\n)\n\nscatterer_collection = ScattererCollection(medium_refractive_index=1.33 * ureg.RIU)\n\nfluidics = Fluidics(scatterer_collection=scatterer_collection, flow_cell=flow_cell)\n\n_source = source.GaussianBeam(\n    numerical_aperture=0.2 * ureg.AU,\n    wavelength=450 * ureg.nanometer,\n    optical_power=150 * ureg.milliwatt,  # Fixed illumination power\n)\n\ndigitizer = Digitizer(\n    bit_depth=\"16bit\",\n    saturation_levels=(0 * ureg.volt, 2 * ureg.volt),\n    sampling_rate=60 * ureg.megahertz,\n)\n\namplifier = TransimpedanceAmplifier(\n    gain=10 * ureg.volt / ureg.ampere,\n    bandwidth=60 * ureg.megahertz,\n)\n\ndetector_0 = Detector(\n    name=\"default\",\n    phi_angle=0 * ureg.degree,\n    numerical_aperture=0.2 * ureg.AU,\n    cache_numerical_aperture=0.0 * ureg.AU,\n    responsivity=1 * ureg.ampere / ureg.watt,\n)\n\nopto_electronics = OptoElectronics(\n    detectors=[detector_0], source=_source, amplifier=amplifier\n)\n\nsignal_processing = SignalProcessing(\n    digitizer=digitizer,\n    analog_processing=[],\n)\n\nflow_cytometer = FlowCytometer(\n    opto_electronics=opto_electronics,\n    fluidics=fluidics,\n    signal_processing=signal_processing,\n    background_power=_source.optical_power * 0.001,\n)"
      ]
    },
    {
      "cell_type": "markdown",
      "metadata": {},
      "source": [
        "## Run K Estimation Simulation\n\n"
      ]
    },
    {
      "cell_type": "code",
      "execution_count": null,
      "metadata": {
        "collapsed": false
      },
      "outputs": [],
      "source": [
        "k_estimator = KEstimator(debug_mode=False)\n\nk_estimator.add_batch(\n    bead_diameters=np.linspace(300, 900, 15) * ureg.nanometer,\n    illumination_power=_source.optical_power,\n    flow_cytometer=flow_cytometer,\n    particle_count=50 * ureg.particle,\n)"
      ]
    },
    {
      "cell_type": "markdown",
      "metadata": {},
      "source": [
        "## Plot estimation\n\n"
      ]
    },
    {
      "cell_type": "code",
      "execution_count": null,
      "metadata": {
        "collapsed": false
      },
      "outputs": [],
      "source": [
        "k_estimator.plot()"
      ]
    },
    {
      "cell_type": "markdown",
      "metadata": {},
      "source": [
        "## Plot relevant statistics\n\n"
      ]
    },
    {
      "cell_type": "code",
      "execution_count": null,
      "metadata": {
        "collapsed": false
      },
      "outputs": [],
      "source": [
        "k_estimator.plot_statistics()"
      ]
    }
  ],
  "metadata": {
    "kernelspec": {
      "display_name": "Python 3",
      "language": "python",
      "name": "python3"
    },
    "language_info": {
      "codemirror_mode": {
        "name": "ipython",
        "version": 3
      },
      "file_extension": ".py",
      "mimetype": "text/x-python",
      "name": "python",
      "nbconvert_exporter": "python",
      "pygments_lexer": "ipython3",
      "version": "3.11.13"
    }
  },
  "nbformat": 4,
  "nbformat_minor": 0
}