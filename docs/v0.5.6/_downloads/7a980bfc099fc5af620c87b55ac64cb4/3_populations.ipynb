{
  "cells": [
    {
      "cell_type": "markdown",
      "metadata": {},
      "source": [
        "\n# Flow Cytometry Simulation with Two Populations: Density Plot of Scattering Intensities\n\nThis example demonstrates how to simulate a flow cytometry experiment using the FlowCyPy library.\nThe simulation includes two populations of particles, and we analyze pulse signals from two detectors\nto generate a 2D density plot of scattering intensities.\n\nWorkflow Summary:\n1. Flow Setup: Configure flow parameters and define particle size distributions.\n2. Laser GaussianBeam and Detector Setup: Define the laser source characteristics and configure the forward and side detectors.\n3. Run the Experiment: Simulate the flow cytometry experiment.\n4. Data Analysis: Analyze the pulse signals and generate a 2D density plot of the scattering intensities.\n"
      ]
    },
    {
      "cell_type": "code",
      "execution_count": null,
      "metadata": {
        "collapsed": false
      },
      "outputs": [],
      "source": [
        "# Step 1: Configuring Flow Parameters\nimport numpy as np\nfrom FlowCyPy import FlowCell\nfrom FlowCyPy.units import meter, micrometer, millisecond, second, degree\nfrom FlowCyPy import ScattererCollection\nfrom FlowCyPy.units import particle, milliliter, nanometer, RIU, milliwatt, AU\nfrom FlowCyPy import FlowCytometer\nfrom FlowCyPy.detector import Detector\nfrom FlowCyPy.units import ohm, megahertz, ampere, volt, kelvin, watt, microsecond, microvolt\nfrom FlowCyPy import EventCorrelator, peak_locator\nfrom FlowCyPy import GaussianBeam\nfrom FlowCyPy import NoiseSetting\nfrom FlowCyPy.populations_instances import LDL, HDL, Exosome\n\nNoiseSetting.include_noises = False\n\nnp.random.seed(3)  # Ensure reproducibility"
      ]
    },
    {
      "cell_type": "markdown",
      "metadata": {},
      "source": [
        "Step 1: Laser GaussianBeam Configuration\n\n"
      ]
    },
    {
      "cell_type": "code",
      "execution_count": null,
      "metadata": {
        "collapsed": false
      },
      "outputs": [],
      "source": [
        "source = GaussianBeam(\n    numerical_aperture=0.3 * AU,          # Laser numerical aperture: 0.3\n    wavelength=488 * nanometer,           # Laser wavelength: 200 nm\n    optical_power=20 * milliwatt          # Laser optical power: 20 mW\n)\n\n# Define the flow cell parameters\nflow_cell = FlowCell(\n    source=source,\n    flow_speed=7.56 * meter / second,        # Flow speed: 7.56 m/s\n    flow_area=(10 * micrometer) ** 2,        # Flow area: 10 x 10 \u00b5m\u00b2\n    run_time=0.2 * millisecond               # Simulation run time: 0.5 ms\n)\n\n# Step 2: Defining Particle Populations\n# Initialize scatterer with a medium refractive index\nscatterer = ScattererCollection(medium_refractive_index=1.33 * RIU)  # Medium refractive index of 1.33 (water)\n\n# Define populations with size distribution and refractive index\nscatterer.add_population(Exosome, particle_count=10e+8 * particle / milliliter)\nscatterer.add_population(HDL, particle_count=10e+8 * particle / milliliter)\nscatterer.add_population(LDL, particle_count=10e+8 * particle / milliliter)\n\nflow_cell.initialize(scatterer_collection=scatterer)   # Link populations to flow cell\nscatterer._log_properties()               # Display population properties\nscatterer.plot()                           # Visualize the population distributions\n\n# Step 4: Simulating the Flow Cytometry Experiment\n# Initialize the cytometer and configure detectors\n# Add forward scatter detector\ndetector_0 = Detector(\n    name='forward',                         # Detector name: Forward scatter\n    phi_angle=0 * degree,                   # Detector angle: 0 degrees (forward scatter)\n    numerical_aperture=.2 * AU,             # Detector numerical aperture: 1.2\n    responsitivity=1 * ampere / watt,       # Responsitivity: 1 A/W (detector response)\n    sampling_freq=60 * megahertz,           # Sampling frequency: 60 MHz\n    noise_level=0.0 * volt,                 # Noise level: 0 V\n    saturation_level=1600 * microvolt,      # Saturation level: 5000 mV (detector capacity)\n    resistance=150 * ohm,                   # Resistance: 1 ohm\n    temperature=300 * kelvin,               # Operating temperature: 300 K (room temperature)\n)\n\n# Add side scatter detector\ndetector_1 = Detector(\n    name='side',                            # Detector name: Side scatter\n    phi_angle=90 * degree,                  # Detector angle: 90 degrees (side scatter)\n    numerical_aperture=.2 * AU,             # Detector numerical aperture: 1.2\n    responsitivity=1 * ampere / watt,       # Responsitivity: 1 A/W (detector response)\n    sampling_freq=60 * megahertz,           # Sampling frequency: 60 MHz\n    noise_level=0.0 * volt,                 # Noise level: 0 V\n    saturation_level=1600 * microvolt,      # Saturation level: 5 V (detector capacity)\n    resistance=150 * ohm,                   # Resistance: 1 ohm\n    temperature=300 * kelvin,               # Operating temperature: 300 K (room temperature)\n)\n\n\ncytometer = FlowCytometer(\n    detectors=[detector_0, detector_1],\n    flow_cell=flow_cell\n)\n\n# Run the flow cytometry simulation\ncytometer.run_coupling_analysis()\n\ncytometer.initialize_signal()\n\ncytometer.simulate_pulse()\n\n# Visualize the scatter signals from both detectors\ncytometer.plot()"
      ]
    },
    {
      "cell_type": "markdown",
      "metadata": {},
      "source": [
        "Step 5: Analyzing Pulse Signals\nConfigure peak finding algorithm\n\n"
      ]
    },
    {
      "cell_type": "code",
      "execution_count": null,
      "metadata": {
        "collapsed": false
      },
      "outputs": [],
      "source": [
        "algorithm = peak_locator.MovingAverage(\n    threshold=0.1 * microvolt,           # Signal threshold: 0.1 mV\n    window_size=1 * microsecond,         # Moving average window size: 1 \u00b5s\n    min_peak_distance=0.3 * microsecond  # Minimum distance between peaks: 0.3 \u00b5s\n)\n\ndetector_0.set_peak_locator(algorithm)\ndetector_1.set_peak_locator(algorithm)\n\n# Initialize analyzer with the cytometer and algorithm\nanalyzer = EventCorrelator(cytometer=cytometer)\n\n# Run the pulse signal analysis\nanalyzer.run_analysis(compute_peak_area=False)\n\n# Step 6: Coincidence Data and 2D Density Plot\n# Extract coincidence data within a defined margin\nanalyzer.get_coincidence(margin=0.1 * microsecond)\n\n# Generate and plot the 2D density plot of scattering intensities\nanalyzer.plot(log_plot=False)"
      ]
    }
  ],
  "metadata": {
    "kernelspec": {
      "display_name": "Python 3",
      "language": "python",
      "name": "python3"
    },
    "language_info": {
      "codemirror_mode": {
        "name": "ipython",
        "version": 3
      },
      "file_extension": ".py",
      "mimetype": "text/x-python",
      "name": "python",
      "nbconvert_exporter": "python",
      "pygments_lexer": "ipython3",
      "version": "3.11.11"
    }
  },
  "nbformat": 4,
  "nbformat_minor": 0
}